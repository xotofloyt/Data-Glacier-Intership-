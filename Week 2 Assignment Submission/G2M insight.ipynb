{
 "cells": [
  {
   "cell_type": "markdown",
   "id": "1a8a11d0",
   "metadata": {},
   "source": [
    "# G2M insight for Cab Investment firm\n",
    "\n",
    "In this project we will examine a set of 4 datasets to try to determine which Cab company should be invested in by company XYZ.\n",
    "\n",
    "Given information:\n",
    "\n",
    "1- Cab_Data.csv – this file includes details of transaction for 2 cab companies\n",
    "\n",
    "2- Customer_ID.csv – this is a mapping table that contains a unique identifier which links the customer’s demographic details\n",
    "\n",
    "3- Transaction_ID.csv – this is a mapping table that contains transaction to customer mapping and payment mode\n",
    "\n",
    "4- City.csv – this file contains list of US cities, their population and number of cab users\n",
    "\n",
    "5- The data was collected from 2016.1.31 till 2018.12.31 - this is 3 years minus almost 1 month.\n",
    "\n",
    "Calculating the number of days that our datasets span,\n",
    "(taking into consideration that 2016 is a leap year): (3*365)+1-30 = 1066 days"
   ]
  },
  {
   "cell_type": "markdown",
   "id": "7e7af9f1",
   "metadata": {},
   "source": [
    "## We begin by importing the necessary libraries and loading our datasets:"
   ]
  },
  {
   "cell_type": "code",
   "execution_count": 1,
   "id": "9e8d06b1",
   "metadata": {},
   "outputs": [],
   "source": [
    "import numpy as np\n",
    "import pandas as pd\n",
    "from datetime import date, timedelta\n",
    "import matplotlib.pyplot as plt\n",
    "import seaborn as sns\n",
    "\n",
    "%matplotlib inline"
   ]
  },
  {
   "cell_type": "markdown",
   "id": "a0c21b5c",
   "metadata": {},
   "source": [
    "Next we move on to read in and examine the datasets:"
   ]
  },
  {
   "cell_type": "code",
   "execution_count": 2,
   "id": "68f3247a",
   "metadata": {},
   "outputs": [],
   "source": [
    "c_data = pd.read_csv('Cab_Data.csv')\n",
    "t_id = pd.read_csv('Transaction_ID.csv')\n",
    "c_id = pd.read_csv('Customer_ID.csv')\n",
    "city = pd.read_csv('City.csv')"
   ]
  },
  {
   "cell_type": "markdown",
   "id": "67729e3d",
   "metadata": {},
   "source": [
    "## Examining Cab Data:"
   ]
  },
  {
   "cell_type": "code",
   "execution_count": 3,
   "id": "20b27357",
   "metadata": {
    "scrolled": true
   },
   "outputs": [
    {
     "data": {
      "text/html": [
       "<div>\n",
       "<style scoped>\n",
       "    .dataframe tbody tr th:only-of-type {\n",
       "        vertical-align: middle;\n",
       "    }\n",
       "\n",
       "    .dataframe tbody tr th {\n",
       "        vertical-align: top;\n",
       "    }\n",
       "\n",
       "    .dataframe thead th {\n",
       "        text-align: right;\n",
       "    }\n",
       "</style>\n",
       "<table border=\"1\" class=\"dataframe\">\n",
       "  <thead>\n",
       "    <tr style=\"text-align: right;\">\n",
       "      <th></th>\n",
       "      <th>Transaction ID</th>\n",
       "      <th>Date of Travel</th>\n",
       "      <th>Company</th>\n",
       "      <th>City</th>\n",
       "      <th>KM Travelled</th>\n",
       "      <th>Price Charged</th>\n",
       "      <th>Cost of Trip</th>\n",
       "    </tr>\n",
       "  </thead>\n",
       "  <tbody>\n",
       "    <tr>\n",
       "      <th>0</th>\n",
       "      <td>10000011</td>\n",
       "      <td>42377</td>\n",
       "      <td>Pink Cab</td>\n",
       "      <td>ATLANTA GA</td>\n",
       "      <td>30.45</td>\n",
       "      <td>370.95</td>\n",
       "      <td>313.635</td>\n",
       "    </tr>\n",
       "    <tr>\n",
       "      <th>1</th>\n",
       "      <td>10000012</td>\n",
       "      <td>42375</td>\n",
       "      <td>Pink Cab</td>\n",
       "      <td>ATLANTA GA</td>\n",
       "      <td>28.62</td>\n",
       "      <td>358.52</td>\n",
       "      <td>334.854</td>\n",
       "    </tr>\n",
       "    <tr>\n",
       "      <th>2</th>\n",
       "      <td>10000013</td>\n",
       "      <td>42371</td>\n",
       "      <td>Pink Cab</td>\n",
       "      <td>ATLANTA GA</td>\n",
       "      <td>9.04</td>\n",
       "      <td>125.20</td>\n",
       "      <td>97.632</td>\n",
       "    </tr>\n",
       "    <tr>\n",
       "      <th>3</th>\n",
       "      <td>10000014</td>\n",
       "      <td>42376</td>\n",
       "      <td>Pink Cab</td>\n",
       "      <td>ATLANTA GA</td>\n",
       "      <td>33.17</td>\n",
       "      <td>377.40</td>\n",
       "      <td>351.602</td>\n",
       "    </tr>\n",
       "    <tr>\n",
       "      <th>4</th>\n",
       "      <td>10000015</td>\n",
       "      <td>42372</td>\n",
       "      <td>Pink Cab</td>\n",
       "      <td>ATLANTA GA</td>\n",
       "      <td>8.73</td>\n",
       "      <td>114.62</td>\n",
       "      <td>97.776</td>\n",
       "    </tr>\n",
       "  </tbody>\n",
       "</table>\n",
       "</div>"
      ],
      "text/plain": [
       "   Transaction ID  Date of Travel   Company        City  KM Travelled  \\\n",
       "0        10000011           42377  Pink Cab  ATLANTA GA         30.45   \n",
       "1        10000012           42375  Pink Cab  ATLANTA GA         28.62   \n",
       "2        10000013           42371  Pink Cab  ATLANTA GA          9.04   \n",
       "3        10000014           42376  Pink Cab  ATLANTA GA         33.17   \n",
       "4        10000015           42372  Pink Cab  ATLANTA GA          8.73   \n",
       "\n",
       "   Price Charged  Cost of Trip  \n",
       "0         370.95       313.635  \n",
       "1         358.52       334.854  \n",
       "2         125.20        97.632  \n",
       "3         377.40       351.602  \n",
       "4         114.62        97.776  "
      ]
     },
     "execution_count": 3,
     "metadata": {},
     "output_type": "execute_result"
    }
   ],
   "source": [
    "# Examining first 5 rows of c_data(Cab_Data):\n",
    "c_data.head()"
   ]
  },
  {
   "cell_type": "code",
   "execution_count": 4,
   "id": "2c086366",
   "metadata": {},
   "outputs": [
    {
     "data": {
      "text/plain": [
       "359392"
      ]
     },
     "execution_count": 4,
     "metadata": {},
     "output_type": "execute_result"
    }
   ],
   "source": [
    "c_data.shape[0]"
   ]
  },
  {
   "cell_type": "markdown",
   "id": "e16a418f",
   "metadata": {},
   "source": [
    "A quick examination of the data column for Cab_Data reveals the following information:\n",
    "\n",
    "* There ar 359,392 trips recorded\n",
    "\n",
    "* Transaction ID: is an number assigned to every transaction/trip\n",
    "\n",
    "* Date of Travel: is a number in the 42 thousand region. When a date is expressed as such a number, it is usually expressed as the number of days from the date 1900.1.1 , which is a common format for Microsoft Excel.\n",
    "\n",
    "* Company: is a column specifying which of the 2 companies each ride belongs to\n",
    "\n",
    "* City: column showing the city where the ride took place\n",
    "\n",
    "* KM Travelled: column showing the distance in Kilometers of each ride\n",
    "\n",
    "* Price charged: column showing the amount of money charged for each trip\n",
    "\n",
    "* Cost of Trip: column showing the amount of money it costs to make the trip for the Cab company.\n",
    "\n",
    "\n",
    "\n",
    "**This information is assumed as a data dictionary was not available**"
   ]
  },
  {
   "cell_type": "code",
   "execution_count": 5,
   "id": "4ae29696",
   "metadata": {},
   "outputs": [
    {
     "data": {
      "text/plain": [
       "1095"
      ]
     },
     "execution_count": 5,
     "metadata": {},
     "output_type": "execute_result"
    }
   ],
   "source": [
    "# Checking to see the difference between the maximum and minimum travel numbers:\n",
    "time_span = c_data['Date of Travel'].max() - c_data['Date of Travel'].min()\n",
    "\n",
    "time_span + 1 # The difference between the max and min is 1094 but we need to count the first day as well."
   ]
  },
  {
   "cell_type": "code",
   "execution_count": 6,
   "id": "f4d943cd",
   "metadata": {},
   "outputs": [
    {
     "data": {
      "text/plain": [
       "1095"
      ]
     },
     "execution_count": 6,
     "metadata": {},
     "output_type": "execute_result"
    }
   ],
   "source": [
    "# Checking number of Unique date values:\n",
    "len(c_data['Date of Travel'].unique())"
   ]
  },
  {
   "cell_type": "markdown",
   "id": "d73f757a",
   "metadata": {},
   "source": [
    "We can see above that our data covers a span of 1095 days - which is the time span of a full 3 years exept 1 day - and that is different from the information provided, therefor this warrants further investigation.\n",
    "\n",
    "I will convert the minimum and maximum values in 'Date of Travel' column to proper dates to see which dates the readings start and end:"
   ]
  },
  {
   "cell_type": "code",
   "execution_count": 7,
   "id": "7515899c",
   "metadata": {
    "scrolled": true
   },
   "outputs": [
    {
     "name": "stdout",
     "output_type": "stream",
     "text": [
      "2016-01-04\n",
      "2019-01-02\n"
     ]
    }
   ],
   "source": [
    "# Using timedelta to store number of days and add it to date object of 1900.1.1:\n",
    "\n",
    "base_date = date(1900, 1, 1)\n",
    "\n",
    "rec_start_date = base_date + timedelta(c_data['Date of Travel'].min())\n",
    "rec_end_date = base_date + timedelta(c_data['Date of Travel'].max())\n",
    "\n",
    "print(rec_start_date)\n",
    "print(rec_end_date)"
   ]
  },
  {
   "cell_type": "markdown",
   "id": "722db5a5",
   "metadata": {},
   "source": [
    "We can see that the data recorded in the data set started on 2016.1.4 and ended on 2019.1.2"
   ]
  },
  {
   "cell_type": "code",
   "execution_count": 8,
   "id": "db1eac97",
   "metadata": {
    "scrolled": false
   },
   "outputs": [
    {
     "name": "stdout",
     "output_type": "stream",
     "text": [
      "<class 'pandas.core.frame.DataFrame'>\n",
      "RangeIndex: 359392 entries, 0 to 359391\n",
      "Data columns (total 7 columns):\n",
      " #   Column          Non-Null Count   Dtype  \n",
      "---  ------          --------------   -----  \n",
      " 0   Transaction ID  359392 non-null  int64  \n",
      " 1   Date of Travel  359392 non-null  int64  \n",
      " 2   Company         359392 non-null  object \n",
      " 3   City            359392 non-null  object \n",
      " 4   KM Travelled    359392 non-null  float64\n",
      " 5   Price Charged   359392 non-null  float64\n",
      " 6   Cost of Trip    359392 non-null  float64\n",
      "dtypes: float64(3), int64(2), object(2)\n",
      "memory usage: 19.2+ MB\n"
     ]
    }
   ],
   "source": [
    "c_data.info()"
   ]
  },
  {
   "cell_type": "markdown",
   "id": "e9ab4bd4",
   "metadata": {},
   "source": [
    "there seem to be no missing values in the main dataset"
   ]
  },
  {
   "cell_type": "code",
   "execution_count": 9,
   "id": "adb67011",
   "metadata": {},
   "outputs": [
    {
     "data": {
      "text/plain": [
       "0"
      ]
     },
     "execution_count": 9,
     "metadata": {},
     "output_type": "execute_result"
    }
   ],
   "source": [
    "# Checking for duplicated entries:\n",
    "\n",
    "c_data.duplicated().sum()"
   ]
  },
  {
   "cell_type": "code",
   "execution_count": 10,
   "id": "fa94b02c",
   "metadata": {},
   "outputs": [
    {
     "name": "stdout",
     "output_type": "stream",
     "text": [
      "['Date of Travel', 'Company', 'City', 'KM Travelled', 'Price Charged', 'Cost of Trip']\n"
     ]
    }
   ],
   "source": [
    "# Removing Transaction ID from the columns and checking for duplicates without transaction ID\n",
    "columns = list(c_data.columns)\n",
    "del columns[0]\n",
    "\n",
    "print(columns)"
   ]
  },
  {
   "cell_type": "code",
   "execution_count": 11,
   "id": "6886a832",
   "metadata": {},
   "outputs": [
    {
     "data": {
      "text/plain": [
       "8"
      ]
     },
     "execution_count": 11,
     "metadata": {},
     "output_type": "execute_result"
    }
   ],
   "source": [
    "c_data.duplicated(columns).sum()"
   ]
  },
  {
   "cell_type": "markdown",
   "id": "234c5c3b",
   "metadata": {},
   "source": [
    "We can see that there are 8 duplicate records when we don't take transaction ID into consideration."
   ]
  },
  {
   "cell_type": "code",
   "execution_count": 12,
   "id": "d1bc609e",
   "metadata": {
    "scrolled": false
   },
   "outputs": [
    {
     "data": {
      "text/html": [
       "<div>\n",
       "<style scoped>\n",
       "    .dataframe tbody tr th:only-of-type {\n",
       "        vertical-align: middle;\n",
       "    }\n",
       "\n",
       "    .dataframe tbody tr th {\n",
       "        vertical-align: top;\n",
       "    }\n",
       "\n",
       "    .dataframe thead th {\n",
       "        text-align: right;\n",
       "    }\n",
       "</style>\n",
       "<table border=\"1\" class=\"dataframe\">\n",
       "  <thead>\n",
       "    <tr style=\"text-align: right;\">\n",
       "      <th></th>\n",
       "      <th>Transaction ID</th>\n",
       "      <th>Date of Travel</th>\n",
       "      <th>Company</th>\n",
       "      <th>City</th>\n",
       "      <th>KM Travelled</th>\n",
       "      <th>Price Charged</th>\n",
       "      <th>Cost of Trip</th>\n",
       "    </tr>\n",
       "  </thead>\n",
       "  <tbody>\n",
       "    <tr>\n",
       "      <th>320</th>\n",
       "      <td>10000471</td>\n",
       "      <td>42373</td>\n",
       "      <td>Yellow Cab</td>\n",
       "      <td>CHICAGO IL</td>\n",
       "      <td>34.68</td>\n",
       "      <td>664.33</td>\n",
       "      <td>499.3920</td>\n",
       "    </tr>\n",
       "    <tr>\n",
       "      <th>418</th>\n",
       "      <td>10000569</td>\n",
       "      <td>42373</td>\n",
       "      <td>Yellow Cab</td>\n",
       "      <td>CHICAGO IL</td>\n",
       "      <td>34.68</td>\n",
       "      <td>664.33</td>\n",
       "      <td>499.3920</td>\n",
       "    </tr>\n",
       "    <tr>\n",
       "      <th>5512</th>\n",
       "      <td>10007150</td>\n",
       "      <td>42403</td>\n",
       "      <td>Yellow Cab</td>\n",
       "      <td>WASHINGTON DC</td>\n",
       "      <td>25.00</td>\n",
       "      <td>405.93</td>\n",
       "      <td>342.0000</td>\n",
       "    </tr>\n",
       "    <tr>\n",
       "      <th>5519</th>\n",
       "      <td>10007157</td>\n",
       "      <td>42403</td>\n",
       "      <td>Yellow Cab</td>\n",
       "      <td>WASHINGTON DC</td>\n",
       "      <td>25.00</td>\n",
       "      <td>405.93</td>\n",
       "      <td>342.0000</td>\n",
       "    </tr>\n",
       "    <tr>\n",
       "      <th>20209</th>\n",
       "      <td>10025704</td>\n",
       "      <td>42478</td>\n",
       "      <td>Yellow Cab</td>\n",
       "      <td>WASHINGTON DC</td>\n",
       "      <td>26.52</td>\n",
       "      <td>384.57</td>\n",
       "      <td>359.6112</td>\n",
       "    </tr>\n",
       "    <tr>\n",
       "      <th>20309</th>\n",
       "      <td>10025804</td>\n",
       "      <td>42478</td>\n",
       "      <td>Yellow Cab</td>\n",
       "      <td>WASHINGTON DC</td>\n",
       "      <td>26.52</td>\n",
       "      <td>384.57</td>\n",
       "      <td>359.6112</td>\n",
       "    </tr>\n",
       "    <tr>\n",
       "      <th>75566</th>\n",
       "      <td>10093710</td>\n",
       "      <td>42663</td>\n",
       "      <td>Yellow Cab</td>\n",
       "      <td>NEW YORK NY</td>\n",
       "      <td>28.08</td>\n",
       "      <td>509.88</td>\n",
       "      <td>377.3952</td>\n",
       "    </tr>\n",
       "    <tr>\n",
       "      <th>75653</th>\n",
       "      <td>10093797</td>\n",
       "      <td>42663</td>\n",
       "      <td>Yellow Cab</td>\n",
       "      <td>NEW YORK NY</td>\n",
       "      <td>28.08</td>\n",
       "      <td>509.88</td>\n",
       "      <td>377.3952</td>\n",
       "    </tr>\n",
       "    <tr>\n",
       "      <th>216216</th>\n",
       "      <td>10264640</td>\n",
       "      <td>43064</td>\n",
       "      <td>Yellow Cab</td>\n",
       "      <td>NEW YORK NY</td>\n",
       "      <td>40.12</td>\n",
       "      <td>718.97</td>\n",
       "      <td>495.8832</td>\n",
       "    </tr>\n",
       "    <tr>\n",
       "      <th>216326</th>\n",
       "      <td>10264750</td>\n",
       "      <td>43064</td>\n",
       "      <td>Yellow Cab</td>\n",
       "      <td>NEW YORK NY</td>\n",
       "      <td>40.12</td>\n",
       "      <td>718.97</td>\n",
       "      <td>495.8832</td>\n",
       "    </tr>\n",
       "    <tr>\n",
       "      <th>230998</th>\n",
       "      <td>10282403</td>\n",
       "      <td>43090</td>\n",
       "      <td>Yellow Cab</td>\n",
       "      <td>NEW YORK NY</td>\n",
       "      <td>38.08</td>\n",
       "      <td>874.92</td>\n",
       "      <td>470.6688</td>\n",
       "    </tr>\n",
       "    <tr>\n",
       "      <th>231244</th>\n",
       "      <td>10282649</td>\n",
       "      <td>43090</td>\n",
       "      <td>Yellow Cab</td>\n",
       "      <td>NEW YORK NY</td>\n",
       "      <td>38.08</td>\n",
       "      <td>874.92</td>\n",
       "      <td>470.6688</td>\n",
       "    </tr>\n",
       "    <tr>\n",
       "      <th>310729</th>\n",
       "      <td>10381409</td>\n",
       "      <td>43368</td>\n",
       "      <td>Pink Cab</td>\n",
       "      <td>NEW YORK NY</td>\n",
       "      <td>36.38</td>\n",
       "      <td>487.62</td>\n",
       "      <td>418.3700</td>\n",
       "    </tr>\n",
       "    <tr>\n",
       "      <th>310767</th>\n",
       "      <td>10381447</td>\n",
       "      <td>43368</td>\n",
       "      <td>Pink Cab</td>\n",
       "      <td>NEW YORK NY</td>\n",
       "      <td>36.38</td>\n",
       "      <td>487.62</td>\n",
       "      <td>418.3700</td>\n",
       "    </tr>\n",
       "    <tr>\n",
       "      <th>315096</th>\n",
       "      <td>10386656</td>\n",
       "      <td>43377</td>\n",
       "      <td>Yellow Cab</td>\n",
       "      <td>NEW YORK NY</td>\n",
       "      <td>8.16</td>\n",
       "      <td>194.60</td>\n",
       "      <td>97.9200</td>\n",
       "    </tr>\n",
       "    <tr>\n",
       "      <th>315361</th>\n",
       "      <td>10386921</td>\n",
       "      <td>43377</td>\n",
       "      <td>Yellow Cab</td>\n",
       "      <td>NEW YORK NY</td>\n",
       "      <td>8.16</td>\n",
       "      <td>194.60</td>\n",
       "      <td>97.9200</td>\n",
       "    </tr>\n",
       "  </tbody>\n",
       "</table>\n",
       "</div>"
      ],
      "text/plain": [
       "        Transaction ID  Date of Travel     Company           City  \\\n",
       "320           10000471           42373  Yellow Cab     CHICAGO IL   \n",
       "418           10000569           42373  Yellow Cab     CHICAGO IL   \n",
       "5512          10007150           42403  Yellow Cab  WASHINGTON DC   \n",
       "5519          10007157           42403  Yellow Cab  WASHINGTON DC   \n",
       "20209         10025704           42478  Yellow Cab  WASHINGTON DC   \n",
       "20309         10025804           42478  Yellow Cab  WASHINGTON DC   \n",
       "75566         10093710           42663  Yellow Cab    NEW YORK NY   \n",
       "75653         10093797           42663  Yellow Cab    NEW YORK NY   \n",
       "216216        10264640           43064  Yellow Cab    NEW YORK NY   \n",
       "216326        10264750           43064  Yellow Cab    NEW YORK NY   \n",
       "230998        10282403           43090  Yellow Cab    NEW YORK NY   \n",
       "231244        10282649           43090  Yellow Cab    NEW YORK NY   \n",
       "310729        10381409           43368    Pink Cab    NEW YORK NY   \n",
       "310767        10381447           43368    Pink Cab    NEW YORK NY   \n",
       "315096        10386656           43377  Yellow Cab    NEW YORK NY   \n",
       "315361        10386921           43377  Yellow Cab    NEW YORK NY   \n",
       "\n",
       "        KM Travelled  Price Charged  Cost of Trip  \n",
       "320            34.68         664.33      499.3920  \n",
       "418            34.68         664.33      499.3920  \n",
       "5512           25.00         405.93      342.0000  \n",
       "5519           25.00         405.93      342.0000  \n",
       "20209          26.52         384.57      359.6112  \n",
       "20309          26.52         384.57      359.6112  \n",
       "75566          28.08         509.88      377.3952  \n",
       "75653          28.08         509.88      377.3952  \n",
       "216216         40.12         718.97      495.8832  \n",
       "216326         40.12         718.97      495.8832  \n",
       "230998         38.08         874.92      470.6688  \n",
       "231244         38.08         874.92      470.6688  \n",
       "310729         36.38         487.62      418.3700  \n",
       "310767         36.38         487.62      418.3700  \n",
       "315096          8.16         194.60       97.9200  \n",
       "315361          8.16         194.60       97.9200  "
      ]
     },
     "execution_count": 12,
     "metadata": {},
     "output_type": "execute_result"
    }
   ],
   "source": [
    "# Displaying duplicated data along with their originals to visually confirm.\n",
    "c_data[c_data.duplicated(columns, keep = False)]"
   ]
  },
  {
   "cell_type": "code",
   "execution_count": 13,
   "id": "f73d442e",
   "metadata": {},
   "outputs": [
    {
     "data": {
      "text/plain": [
       "359384"
      ]
     },
     "execution_count": 13,
     "metadata": {},
     "output_type": "execute_result"
    }
   ],
   "source": [
    "# Dropping duplicate entries\n",
    "c_data.drop(c_data[c_data.duplicated(columns)].index, inplace=True)\n",
    "\n",
    "c_data.shape[0]"
   ]
  },
  {
   "cell_type": "code",
   "execution_count": 14,
   "id": "67cc7c6c",
   "metadata": {},
   "outputs": [
    {
     "data": {
      "text/html": [
       "<div>\n",
       "<style scoped>\n",
       "    .dataframe tbody tr th:only-of-type {\n",
       "        vertical-align: middle;\n",
       "    }\n",
       "\n",
       "    .dataframe tbody tr th {\n",
       "        vertical-align: top;\n",
       "    }\n",
       "\n",
       "    .dataframe thead th {\n",
       "        text-align: right;\n",
       "    }\n",
       "</style>\n",
       "<table border=\"1\" class=\"dataframe\">\n",
       "  <thead>\n",
       "    <tr style=\"text-align: right;\">\n",
       "      <th></th>\n",
       "      <th>Transaction ID</th>\n",
       "      <th>Date of Travel</th>\n",
       "      <th>Company</th>\n",
       "      <th>City</th>\n",
       "      <th>KM Travelled</th>\n",
       "      <th>Price Charged</th>\n",
       "      <th>Cost of Trip</th>\n",
       "    </tr>\n",
       "  </thead>\n",
       "  <tbody>\n",
       "  </tbody>\n",
       "</table>\n",
       "</div>"
      ],
      "text/plain": [
       "Empty DataFrame\n",
       "Columns: [Transaction ID, Date of Travel, Company, City, KM Travelled, Price Charged, Cost of Trip]\n",
       "Index: []"
      ]
     },
     "execution_count": 14,
     "metadata": {},
     "output_type": "execute_result"
    }
   ],
   "source": [
    "c_data[c_data.duplicated(columns, keep=False)]"
   ]
  },
  {
   "cell_type": "markdown",
   "id": "90853e08",
   "metadata": {},
   "source": [
    "Confirmed dropped 8 rows. And no more duplicates."
   ]
  },
  {
   "cell_type": "markdown",
   "id": "b0866a76",
   "metadata": {},
   "source": [
    "## Examining Transaction ID"
   ]
  },
  {
   "cell_type": "code",
   "execution_count": 15,
   "id": "6dd6bd06",
   "metadata": {
    "scrolled": true
   },
   "outputs": [
    {
     "data": {
      "text/html": [
       "<div>\n",
       "<style scoped>\n",
       "    .dataframe tbody tr th:only-of-type {\n",
       "        vertical-align: middle;\n",
       "    }\n",
       "\n",
       "    .dataframe tbody tr th {\n",
       "        vertical-align: top;\n",
       "    }\n",
       "\n",
       "    .dataframe thead th {\n",
       "        text-align: right;\n",
       "    }\n",
       "</style>\n",
       "<table border=\"1\" class=\"dataframe\">\n",
       "  <thead>\n",
       "    <tr style=\"text-align: right;\">\n",
       "      <th></th>\n",
       "      <th>Transaction ID</th>\n",
       "      <th>Customer ID</th>\n",
       "      <th>Payment_Mode</th>\n",
       "    </tr>\n",
       "  </thead>\n",
       "  <tbody>\n",
       "    <tr>\n",
       "      <th>0</th>\n",
       "      <td>10000011</td>\n",
       "      <td>29290</td>\n",
       "      <td>Card</td>\n",
       "    </tr>\n",
       "    <tr>\n",
       "      <th>1</th>\n",
       "      <td>10000012</td>\n",
       "      <td>27703</td>\n",
       "      <td>Card</td>\n",
       "    </tr>\n",
       "    <tr>\n",
       "      <th>2</th>\n",
       "      <td>10000013</td>\n",
       "      <td>28712</td>\n",
       "      <td>Cash</td>\n",
       "    </tr>\n",
       "    <tr>\n",
       "      <th>3</th>\n",
       "      <td>10000014</td>\n",
       "      <td>28020</td>\n",
       "      <td>Cash</td>\n",
       "    </tr>\n",
       "    <tr>\n",
       "      <th>4</th>\n",
       "      <td>10000015</td>\n",
       "      <td>27182</td>\n",
       "      <td>Card</td>\n",
       "    </tr>\n",
       "  </tbody>\n",
       "</table>\n",
       "</div>"
      ],
      "text/plain": [
       "   Transaction ID  Customer ID Payment_Mode\n",
       "0        10000011        29290         Card\n",
       "1        10000012        27703         Card\n",
       "2        10000013        28712         Cash\n",
       "3        10000014        28020         Cash\n",
       "4        10000015        27182         Card"
      ]
     },
     "execution_count": 15,
     "metadata": {},
     "output_type": "execute_result"
    }
   ],
   "source": [
    "# Examing t_id(transaction ID)\n",
    "t_id.head()"
   ]
  },
  {
   "cell_type": "code",
   "execution_count": 16,
   "id": "2985b4d1",
   "metadata": {},
   "outputs": [
    {
     "data": {
      "text/plain": [
       "array(['Card', 'Cash'], dtype=object)"
      ]
     },
     "execution_count": 16,
     "metadata": {},
     "output_type": "execute_result"
    }
   ],
   "source": [
    "# Checking number of unique payment methods:\n",
    "t_id['Payment_Mode'].unique()"
   ]
  },
  {
   "cell_type": "code",
   "execution_count": 17,
   "id": "cc45281c",
   "metadata": {},
   "outputs": [
    {
     "data": {
      "text/plain": [
       "440098"
      ]
     },
     "execution_count": 17,
     "metadata": {},
     "output_type": "execute_result"
    }
   ],
   "source": [
    "# Checking number of transactions:\n",
    "t_id.shape[0]"
   ]
  },
  {
   "cell_type": "code",
   "execution_count": 18,
   "id": "7cf79315",
   "metadata": {},
   "outputs": [
    {
     "data": {
      "text/plain": [
       "440098"
      ]
     },
     "execution_count": 18,
     "metadata": {},
     "output_type": "execute_result"
    }
   ],
   "source": [
    "# Checking number of unique transactions:\n",
    "len(t_id['Transaction ID'].unique())"
   ]
  },
  {
   "cell_type": "code",
   "execution_count": 19,
   "id": "c92b7cbc",
   "metadata": {},
   "outputs": [
    {
     "name": "stdout",
     "output_type": "stream",
     "text": [
      "<class 'pandas.core.frame.DataFrame'>\n",
      "RangeIndex: 440098 entries, 0 to 440097\n",
      "Data columns (total 3 columns):\n",
      " #   Column          Non-Null Count   Dtype \n",
      "---  ------          --------------   ----- \n",
      " 0   Transaction ID  440098 non-null  int64 \n",
      " 1   Customer ID     440098 non-null  int64 \n",
      " 2   Payment_Mode    440098 non-null  object\n",
      "dtypes: int64(2), object(1)\n",
      "memory usage: 10.1+ MB\n"
     ]
    }
   ],
   "source": [
    "# Checking for missing values:\n",
    "t_id.info()"
   ]
  },
  {
   "cell_type": "markdown",
   "id": "a81fe480",
   "metadata": {},
   "source": [
    "We can see that this table maps the transaction ID of each ride to a customer ID, and also provides the payment method.\n",
    "\n",
    "* Payment mode can be one of 2 values: 'Card' or 'Cash'\n",
    "\n",
    "* t_id contains records of 440,098 transactions - this is more than our main dataset contains and I will need to come back to this.\n",
    "\n",
    "* There seem to be no missing values"
   ]
  },
  {
   "cell_type": "markdown",
   "id": "83d51e24",
   "metadata": {},
   "source": [
    "## Examining Customer ID table:"
   ]
  },
  {
   "cell_type": "code",
   "execution_count": 20,
   "id": "bc7bd829",
   "metadata": {
    "scrolled": false
   },
   "outputs": [
    {
     "data": {
      "text/html": [
       "<div>\n",
       "<style scoped>\n",
       "    .dataframe tbody tr th:only-of-type {\n",
       "        vertical-align: middle;\n",
       "    }\n",
       "\n",
       "    .dataframe tbody tr th {\n",
       "        vertical-align: top;\n",
       "    }\n",
       "\n",
       "    .dataframe thead th {\n",
       "        text-align: right;\n",
       "    }\n",
       "</style>\n",
       "<table border=\"1\" class=\"dataframe\">\n",
       "  <thead>\n",
       "    <tr style=\"text-align: right;\">\n",
       "      <th></th>\n",
       "      <th>Customer ID</th>\n",
       "      <th>Gender</th>\n",
       "      <th>Age</th>\n",
       "      <th>Income (USD/Month)</th>\n",
       "    </tr>\n",
       "  </thead>\n",
       "  <tbody>\n",
       "    <tr>\n",
       "      <th>0</th>\n",
       "      <td>29290</td>\n",
       "      <td>Male</td>\n",
       "      <td>28</td>\n",
       "      <td>10813</td>\n",
       "    </tr>\n",
       "    <tr>\n",
       "      <th>1</th>\n",
       "      <td>27703</td>\n",
       "      <td>Male</td>\n",
       "      <td>27</td>\n",
       "      <td>9237</td>\n",
       "    </tr>\n",
       "    <tr>\n",
       "      <th>2</th>\n",
       "      <td>28712</td>\n",
       "      <td>Male</td>\n",
       "      <td>53</td>\n",
       "      <td>11242</td>\n",
       "    </tr>\n",
       "    <tr>\n",
       "      <th>3</th>\n",
       "      <td>28020</td>\n",
       "      <td>Male</td>\n",
       "      <td>23</td>\n",
       "      <td>23327</td>\n",
       "    </tr>\n",
       "    <tr>\n",
       "      <th>4</th>\n",
       "      <td>27182</td>\n",
       "      <td>Male</td>\n",
       "      <td>33</td>\n",
       "      <td>8536</td>\n",
       "    </tr>\n",
       "  </tbody>\n",
       "</table>\n",
       "</div>"
      ],
      "text/plain": [
       "   Customer ID Gender  Age  Income (USD/Month)\n",
       "0        29290   Male   28               10813\n",
       "1        27703   Male   27                9237\n",
       "2        28712   Male   53               11242\n",
       "3        28020   Male   23               23327\n",
       "4        27182   Male   33                8536"
      ]
     },
     "execution_count": 20,
     "metadata": {},
     "output_type": "execute_result"
    }
   ],
   "source": [
    "# Checking c_id(Customer_ID)\n",
    "c_id.head()"
   ]
  },
  {
   "cell_type": "code",
   "execution_count": 21,
   "id": "5e7f02fc",
   "metadata": {
    "scrolled": true
   },
   "outputs": [
    {
     "name": "stdout",
     "output_type": "stream",
     "text": [
      "<class 'pandas.core.frame.DataFrame'>\n",
      "RangeIndex: 49171 entries, 0 to 49170\n",
      "Data columns (total 4 columns):\n",
      " #   Column              Non-Null Count  Dtype \n",
      "---  ------              --------------  ----- \n",
      " 0   Customer ID         49171 non-null  int64 \n",
      " 1   Gender              49171 non-null  object\n",
      " 2   Age                 49171 non-null  int64 \n",
      " 3   Income (USD/Month)  49171 non-null  int64 \n",
      "dtypes: int64(3), object(1)\n",
      "memory usage: 1.5+ MB\n"
     ]
    }
   ],
   "source": [
    "# Checking for missing values:\n",
    "c_id.info()"
   ]
  },
  {
   "cell_type": "code",
   "execution_count": 22,
   "id": "73be6acc",
   "metadata": {
    "scrolled": true
   },
   "outputs": [
    {
     "name": "stdout",
     "output_type": "stream",
     "text": [
      "0\n",
      "0\n"
     ]
    }
   ],
   "source": [
    "# Checking for duplicates in ID number and in whole rows:\n",
    "\n",
    "print(c_id.duplicated(['Customer ID']).sum())\n",
    "print(c_id.duplicated().sum())"
   ]
  },
  {
   "cell_type": "code",
   "execution_count": 23,
   "id": "d5c16cd7",
   "metadata": {},
   "outputs": [
    {
     "name": "stdout",
     "output_type": "stream",
     "text": [
      "1\n",
      "60000\n"
     ]
    }
   ],
   "source": [
    "# Checking minimum and maximum Customer IDs\n",
    "print(c_id['Customer ID'].min())\n",
    "print(c_id['Customer ID'].max())"
   ]
  },
  {
   "cell_type": "markdown",
   "id": "45dc3287",
   "metadata": {},
   "source": [
    "* We can see above that the table provides some basic information about each customer -- such as customer ID, gender, age and income.\n",
    "\n",
    "* There seems to be no missing values in this table."
   ]
  },
  {
   "cell_type": "markdown",
   "id": "38cb85c6",
   "metadata": {},
   "source": [
    "## Examining our City data:"
   ]
  },
  {
   "cell_type": "code",
   "execution_count": 24,
   "id": "5d4cf007",
   "metadata": {
    "scrolled": false
   },
   "outputs": [
    {
     "data": {
      "text/html": [
       "<div>\n",
       "<style scoped>\n",
       "    .dataframe tbody tr th:only-of-type {\n",
       "        vertical-align: middle;\n",
       "    }\n",
       "\n",
       "    .dataframe tbody tr th {\n",
       "        vertical-align: top;\n",
       "    }\n",
       "\n",
       "    .dataframe thead th {\n",
       "        text-align: right;\n",
       "    }\n",
       "</style>\n",
       "<table border=\"1\" class=\"dataframe\">\n",
       "  <thead>\n",
       "    <tr style=\"text-align: right;\">\n",
       "      <th></th>\n",
       "      <th>City</th>\n",
       "      <th>Population</th>\n",
       "      <th>Users</th>\n",
       "    </tr>\n",
       "  </thead>\n",
       "  <tbody>\n",
       "    <tr>\n",
       "      <th>0</th>\n",
       "      <td>NEW YORK NY</td>\n",
       "      <td>8,405,837</td>\n",
       "      <td>302,149</td>\n",
       "    </tr>\n",
       "    <tr>\n",
       "      <th>1</th>\n",
       "      <td>CHICAGO IL</td>\n",
       "      <td>1,955,130</td>\n",
       "      <td>164,468</td>\n",
       "    </tr>\n",
       "    <tr>\n",
       "      <th>2</th>\n",
       "      <td>LOS ANGELES CA</td>\n",
       "      <td>1,595,037</td>\n",
       "      <td>144,132</td>\n",
       "    </tr>\n",
       "    <tr>\n",
       "      <th>3</th>\n",
       "      <td>MIAMI FL</td>\n",
       "      <td>1,339,155</td>\n",
       "      <td>17,675</td>\n",
       "    </tr>\n",
       "    <tr>\n",
       "      <th>4</th>\n",
       "      <td>SILICON VALLEY</td>\n",
       "      <td>1,177,609</td>\n",
       "      <td>27,247</td>\n",
       "    </tr>\n",
       "  </tbody>\n",
       "</table>\n",
       "</div>"
      ],
      "text/plain": [
       "             City   Population      Users\n",
       "0     NEW YORK NY   8,405,837    302,149 \n",
       "1      CHICAGO IL   1,955,130    164,468 \n",
       "2  LOS ANGELES CA   1,595,037    144,132 \n",
       "3        MIAMI FL   1,339,155     17,675 \n",
       "4  SILICON VALLEY   1,177,609     27,247 "
      ]
     },
     "execution_count": 24,
     "metadata": {},
     "output_type": "execute_result"
    }
   ],
   "source": [
    "# Examining the last set of data:\n",
    "city.head()"
   ]
  },
  {
   "cell_type": "code",
   "execution_count": 25,
   "id": "d832790a",
   "metadata": {},
   "outputs": [
    {
     "data": {
      "text/plain": [
       "20"
      ]
     },
     "execution_count": 25,
     "metadata": {},
     "output_type": "execute_result"
    }
   ],
   "source": [
    "# Number of cities in this set:\n",
    "city.shape[0]"
   ]
  },
  {
   "cell_type": "code",
   "execution_count": 26,
   "id": "aa65466c",
   "metadata": {},
   "outputs": [
    {
     "name": "stdout",
     "output_type": "stream",
     "text": [
      "<class 'pandas.core.frame.DataFrame'>\n",
      "RangeIndex: 20 entries, 0 to 19\n",
      "Data columns (total 3 columns):\n",
      " #   Column      Non-Null Count  Dtype \n",
      "---  ------      --------------  ----- \n",
      " 0   City        20 non-null     object\n",
      " 1   Population  20 non-null     object\n",
      " 2   Users       20 non-null     object\n",
      "dtypes: object(3)\n",
      "memory usage: 608.0+ bytes\n"
     ]
    }
   ],
   "source": [
    "# Checking for missing values:\n",
    "city.info()"
   ]
  },
  {
   "cell_type": "markdown",
   "id": "97aa2293",
   "metadata": {},
   "source": [
    "The city table above provides information about the cities in which our recorded trips took place, along with useful information on population and number of registered Cab users in the city.\n",
    "\n",
    "* The table contains the records of 20 cities.\n",
    "* There seems to be no missing values.\n",
    "* The population and users are stored as text values with commas - so that will need to be changed to int."
   ]
  },
  {
   "cell_type": "markdown",
   "id": "21cb7029",
   "metadata": {},
   "source": [
    "# Producing a comprehensive master dataset to analyze:"
   ]
  },
  {
   "cell_type": "markdown",
   "id": "efc911e2",
   "metadata": {},
   "source": [
    "### Converting the 'Date of Travel' column in c_data to a proper date object containing meaningful dates:"
   ]
  },
  {
   "cell_type": "code",
   "execution_count": 27,
   "id": "107deed6",
   "metadata": {},
   "outputs": [],
   "source": [
    "c_data['Date of Travel'] = c_data['Date of Travel'].apply(lambda x: base_date + timedelta(x))"
   ]
  },
  {
   "cell_type": "code",
   "execution_count": 28,
   "id": "8a9c61eb",
   "metadata": {
    "scrolled": true
   },
   "outputs": [
    {
     "data": {
      "text/plain": [
       "Transaction ID      int64\n",
       "Date of Travel     object\n",
       "Company            object\n",
       "City               object\n",
       "KM Travelled      float64\n",
       "Price Charged     float64\n",
       "Cost of Trip      float64\n",
       "dtype: object"
      ]
     },
     "execution_count": 28,
     "metadata": {},
     "output_type": "execute_result"
    }
   ],
   "source": [
    "# Checking the Date of Travel dtype:\n",
    "c_data.dtypes"
   ]
  },
  {
   "cell_type": "code",
   "execution_count": 29,
   "id": "99023961",
   "metadata": {
    "scrolled": true
   },
   "outputs": [
    {
     "data": {
      "text/html": [
       "<div>\n",
       "<style scoped>\n",
       "    .dataframe tbody tr th:only-of-type {\n",
       "        vertical-align: middle;\n",
       "    }\n",
       "\n",
       "    .dataframe tbody tr th {\n",
       "        vertical-align: top;\n",
       "    }\n",
       "\n",
       "    .dataframe thead th {\n",
       "        text-align: right;\n",
       "    }\n",
       "</style>\n",
       "<table border=\"1\" class=\"dataframe\">\n",
       "  <thead>\n",
       "    <tr style=\"text-align: right;\">\n",
       "      <th></th>\n",
       "      <th>Transaction ID</th>\n",
       "      <th>Date of Travel</th>\n",
       "      <th>Company</th>\n",
       "      <th>City</th>\n",
       "      <th>KM Travelled</th>\n",
       "      <th>Price Charged</th>\n",
       "      <th>Cost of Trip</th>\n",
       "    </tr>\n",
       "  </thead>\n",
       "  <tbody>\n",
       "    <tr>\n",
       "      <th>0</th>\n",
       "      <td>10000011</td>\n",
       "      <td>2016-01-10</td>\n",
       "      <td>Pink Cab</td>\n",
       "      <td>ATLANTA GA</td>\n",
       "      <td>30.45</td>\n",
       "      <td>370.95</td>\n",
       "      <td>313.635</td>\n",
       "    </tr>\n",
       "    <tr>\n",
       "      <th>1</th>\n",
       "      <td>10000012</td>\n",
       "      <td>2016-01-08</td>\n",
       "      <td>Pink Cab</td>\n",
       "      <td>ATLANTA GA</td>\n",
       "      <td>28.62</td>\n",
       "      <td>358.52</td>\n",
       "      <td>334.854</td>\n",
       "    </tr>\n",
       "    <tr>\n",
       "      <th>2</th>\n",
       "      <td>10000013</td>\n",
       "      <td>2016-01-04</td>\n",
       "      <td>Pink Cab</td>\n",
       "      <td>ATLANTA GA</td>\n",
       "      <td>9.04</td>\n",
       "      <td>125.20</td>\n",
       "      <td>97.632</td>\n",
       "    </tr>\n",
       "    <tr>\n",
       "      <th>3</th>\n",
       "      <td>10000014</td>\n",
       "      <td>2016-01-09</td>\n",
       "      <td>Pink Cab</td>\n",
       "      <td>ATLANTA GA</td>\n",
       "      <td>33.17</td>\n",
       "      <td>377.40</td>\n",
       "      <td>351.602</td>\n",
       "    </tr>\n",
       "    <tr>\n",
       "      <th>4</th>\n",
       "      <td>10000015</td>\n",
       "      <td>2016-01-05</td>\n",
       "      <td>Pink Cab</td>\n",
       "      <td>ATLANTA GA</td>\n",
       "      <td>8.73</td>\n",
       "      <td>114.62</td>\n",
       "      <td>97.776</td>\n",
       "    </tr>\n",
       "  </tbody>\n",
       "</table>\n",
       "</div>"
      ],
      "text/plain": [
       "   Transaction ID Date of Travel   Company        City  KM Travelled  \\\n",
       "0        10000011     2016-01-10  Pink Cab  ATLANTA GA         30.45   \n",
       "1        10000012     2016-01-08  Pink Cab  ATLANTA GA         28.62   \n",
       "2        10000013     2016-01-04  Pink Cab  ATLANTA GA          9.04   \n",
       "3        10000014     2016-01-09  Pink Cab  ATLANTA GA         33.17   \n",
       "4        10000015     2016-01-05  Pink Cab  ATLANTA GA          8.73   \n",
       "\n",
       "   Price Charged  Cost of Trip  \n",
       "0         370.95       313.635  \n",
       "1         358.52       334.854  \n",
       "2         125.20        97.632  \n",
       "3         377.40       351.602  \n",
       "4         114.62        97.776  "
      ]
     },
     "execution_count": 29,
     "metadata": {},
     "output_type": "execute_result"
    }
   ],
   "source": [
    "# Checking how Date of Travel looks like now:\n",
    "c_data.head()"
   ]
  },
  {
   "cell_type": "code",
   "execution_count": 30,
   "id": "44e3f9d9",
   "metadata": {
    "scrolled": true
   },
   "outputs": [
    {
     "data": {
      "text/html": [
       "<div>\n",
       "<style scoped>\n",
       "    .dataframe tbody tr th:only-of-type {\n",
       "        vertical-align: middle;\n",
       "    }\n",
       "\n",
       "    .dataframe tbody tr th {\n",
       "        vertical-align: top;\n",
       "    }\n",
       "\n",
       "    .dataframe thead th {\n",
       "        text-align: right;\n",
       "    }\n",
       "</style>\n",
       "<table border=\"1\" class=\"dataframe\">\n",
       "  <thead>\n",
       "    <tr style=\"text-align: right;\">\n",
       "      <th></th>\n",
       "      <th>Transaction ID</th>\n",
       "      <th>Date of Travel</th>\n",
       "      <th>Company</th>\n",
       "      <th>City</th>\n",
       "      <th>KM Travelled</th>\n",
       "      <th>Price Charged</th>\n",
       "      <th>Cost of Trip</th>\n",
       "    </tr>\n",
       "  </thead>\n",
       "  <tbody>\n",
       "    <tr>\n",
       "      <th>359387</th>\n",
       "      <td>10440101</td>\n",
       "      <td>2018-01-10</td>\n",
       "      <td>Yellow Cab</td>\n",
       "      <td>WASHINGTON DC</td>\n",
       "      <td>4.80</td>\n",
       "      <td>69.24</td>\n",
       "      <td>63.3600</td>\n",
       "    </tr>\n",
       "    <tr>\n",
       "      <th>359388</th>\n",
       "      <td>10440104</td>\n",
       "      <td>2018-01-06</td>\n",
       "      <td>Yellow Cab</td>\n",
       "      <td>WASHINGTON DC</td>\n",
       "      <td>8.40</td>\n",
       "      <td>113.75</td>\n",
       "      <td>106.8480</td>\n",
       "    </tr>\n",
       "    <tr>\n",
       "      <th>359389</th>\n",
       "      <td>10440105</td>\n",
       "      <td>2018-01-07</td>\n",
       "      <td>Yellow Cab</td>\n",
       "      <td>WASHINGTON DC</td>\n",
       "      <td>27.75</td>\n",
       "      <td>437.07</td>\n",
       "      <td>349.6500</td>\n",
       "    </tr>\n",
       "    <tr>\n",
       "      <th>359390</th>\n",
       "      <td>10440106</td>\n",
       "      <td>2018-01-07</td>\n",
       "      <td>Yellow Cab</td>\n",
       "      <td>WASHINGTON DC</td>\n",
       "      <td>8.80</td>\n",
       "      <td>146.19</td>\n",
       "      <td>114.0480</td>\n",
       "    </tr>\n",
       "    <tr>\n",
       "      <th>359391</th>\n",
       "      <td>10440107</td>\n",
       "      <td>2018-01-04</td>\n",
       "      <td>Yellow Cab</td>\n",
       "      <td>WASHINGTON DC</td>\n",
       "      <td>12.76</td>\n",
       "      <td>191.58</td>\n",
       "      <td>177.6192</td>\n",
       "    </tr>\n",
       "  </tbody>\n",
       "</table>\n",
       "</div>"
      ],
      "text/plain": [
       "        Transaction ID Date of Travel     Company           City  \\\n",
       "359387        10440101     2018-01-10  Yellow Cab  WASHINGTON DC   \n",
       "359388        10440104     2018-01-06  Yellow Cab  WASHINGTON DC   \n",
       "359389        10440105     2018-01-07  Yellow Cab  WASHINGTON DC   \n",
       "359390        10440106     2018-01-07  Yellow Cab  WASHINGTON DC   \n",
       "359391        10440107     2018-01-04  Yellow Cab  WASHINGTON DC   \n",
       "\n",
       "        KM Travelled  Price Charged  Cost of Trip  \n",
       "359387          4.80          69.24       63.3600  \n",
       "359388          8.40         113.75      106.8480  \n",
       "359389         27.75         437.07      349.6500  \n",
       "359390          8.80         146.19      114.0480  \n",
       "359391         12.76         191.58      177.6192  "
      ]
     },
     "execution_count": 30,
     "metadata": {},
     "output_type": "execute_result"
    }
   ],
   "source": [
    "c_data.tail()"
   ]
  },
  {
   "cell_type": "code",
   "execution_count": 31,
   "id": "4cab96af",
   "metadata": {
    "scrolled": true
   },
   "outputs": [
    {
     "data": {
      "text/plain": [
       "datetime.date(2019, 1, 2)"
      ]
     },
     "execution_count": 31,
     "metadata": {},
     "output_type": "execute_result"
    }
   ],
   "source": [
    "c_data['Date of Travel'].max()"
   ]
  },
  {
   "cell_type": "markdown",
   "id": "83482335",
   "metadata": {},
   "source": [
    "### Creating a new column 'Profit' which is 'Price Charged' - 'Cost of Trip'\n",
    "* This should help us perform our analysis"
   ]
  },
  {
   "cell_type": "code",
   "execution_count": 32,
   "id": "ae8a193c",
   "metadata": {
    "scrolled": false
   },
   "outputs": [
    {
     "data": {
      "text/html": [
       "<div>\n",
       "<style scoped>\n",
       "    .dataframe tbody tr th:only-of-type {\n",
       "        vertical-align: middle;\n",
       "    }\n",
       "\n",
       "    .dataframe tbody tr th {\n",
       "        vertical-align: top;\n",
       "    }\n",
       "\n",
       "    .dataframe thead th {\n",
       "        text-align: right;\n",
       "    }\n",
       "</style>\n",
       "<table border=\"1\" class=\"dataframe\">\n",
       "  <thead>\n",
       "    <tr style=\"text-align: right;\">\n",
       "      <th></th>\n",
       "      <th>Transaction ID</th>\n",
       "      <th>Date of Travel</th>\n",
       "      <th>Company</th>\n",
       "      <th>City</th>\n",
       "      <th>KM Travelled</th>\n",
       "      <th>Price Charged</th>\n",
       "      <th>Cost of Trip</th>\n",
       "      <th>Profit</th>\n",
       "    </tr>\n",
       "  </thead>\n",
       "  <tbody>\n",
       "    <tr>\n",
       "      <th>0</th>\n",
       "      <td>10000011</td>\n",
       "      <td>2016-01-10</td>\n",
       "      <td>Pink Cab</td>\n",
       "      <td>ATLANTA GA</td>\n",
       "      <td>30.45</td>\n",
       "      <td>370.95</td>\n",
       "      <td>313.635</td>\n",
       "      <td>57.315</td>\n",
       "    </tr>\n",
       "    <tr>\n",
       "      <th>1</th>\n",
       "      <td>10000012</td>\n",
       "      <td>2016-01-08</td>\n",
       "      <td>Pink Cab</td>\n",
       "      <td>ATLANTA GA</td>\n",
       "      <td>28.62</td>\n",
       "      <td>358.52</td>\n",
       "      <td>334.854</td>\n",
       "      <td>23.666</td>\n",
       "    </tr>\n",
       "    <tr>\n",
       "      <th>2</th>\n",
       "      <td>10000013</td>\n",
       "      <td>2016-01-04</td>\n",
       "      <td>Pink Cab</td>\n",
       "      <td>ATLANTA GA</td>\n",
       "      <td>9.04</td>\n",
       "      <td>125.20</td>\n",
       "      <td>97.632</td>\n",
       "      <td>27.568</td>\n",
       "    </tr>\n",
       "    <tr>\n",
       "      <th>3</th>\n",
       "      <td>10000014</td>\n",
       "      <td>2016-01-09</td>\n",
       "      <td>Pink Cab</td>\n",
       "      <td>ATLANTA GA</td>\n",
       "      <td>33.17</td>\n",
       "      <td>377.40</td>\n",
       "      <td>351.602</td>\n",
       "      <td>25.798</td>\n",
       "    </tr>\n",
       "    <tr>\n",
       "      <th>4</th>\n",
       "      <td>10000015</td>\n",
       "      <td>2016-01-05</td>\n",
       "      <td>Pink Cab</td>\n",
       "      <td>ATLANTA GA</td>\n",
       "      <td>8.73</td>\n",
       "      <td>114.62</td>\n",
       "      <td>97.776</td>\n",
       "      <td>16.844</td>\n",
       "    </tr>\n",
       "    <tr>\n",
       "      <th>5</th>\n",
       "      <td>10000016</td>\n",
       "      <td>2016-01-09</td>\n",
       "      <td>Pink Cab</td>\n",
       "      <td>ATLANTA GA</td>\n",
       "      <td>6.06</td>\n",
       "      <td>72.43</td>\n",
       "      <td>63.024</td>\n",
       "      <td>9.406</td>\n",
       "    </tr>\n",
       "    <tr>\n",
       "      <th>6</th>\n",
       "      <td>10000017</td>\n",
       "      <td>2016-01-05</td>\n",
       "      <td>Pink Cab</td>\n",
       "      <td>AUSTIN TX</td>\n",
       "      <td>44.00</td>\n",
       "      <td>576.15</td>\n",
       "      <td>475.200</td>\n",
       "      <td>100.950</td>\n",
       "    </tr>\n",
       "    <tr>\n",
       "      <th>7</th>\n",
       "      <td>10000018</td>\n",
       "      <td>2016-01-09</td>\n",
       "      <td>Pink Cab</td>\n",
       "      <td>AUSTIN TX</td>\n",
       "      <td>35.65</td>\n",
       "      <td>466.10</td>\n",
       "      <td>377.890</td>\n",
       "      <td>88.210</td>\n",
       "    </tr>\n",
       "    <tr>\n",
       "      <th>8</th>\n",
       "      <td>10000019</td>\n",
       "      <td>2016-01-14</td>\n",
       "      <td>Pink Cab</td>\n",
       "      <td>BOSTON MA</td>\n",
       "      <td>14.40</td>\n",
       "      <td>191.61</td>\n",
       "      <td>146.880</td>\n",
       "      <td>44.730</td>\n",
       "    </tr>\n",
       "    <tr>\n",
       "      <th>9</th>\n",
       "      <td>10000020</td>\n",
       "      <td>2016-01-08</td>\n",
       "      <td>Pink Cab</td>\n",
       "      <td>BOSTON MA</td>\n",
       "      <td>10.89</td>\n",
       "      <td>156.98</td>\n",
       "      <td>113.256</td>\n",
       "      <td>43.724</td>\n",
       "    </tr>\n",
       "  </tbody>\n",
       "</table>\n",
       "</div>"
      ],
      "text/plain": [
       "   Transaction ID Date of Travel   Company        City  KM Travelled  \\\n",
       "0        10000011     2016-01-10  Pink Cab  ATLANTA GA         30.45   \n",
       "1        10000012     2016-01-08  Pink Cab  ATLANTA GA         28.62   \n",
       "2        10000013     2016-01-04  Pink Cab  ATLANTA GA          9.04   \n",
       "3        10000014     2016-01-09  Pink Cab  ATLANTA GA         33.17   \n",
       "4        10000015     2016-01-05  Pink Cab  ATLANTA GA          8.73   \n",
       "5        10000016     2016-01-09  Pink Cab  ATLANTA GA          6.06   \n",
       "6        10000017     2016-01-05  Pink Cab   AUSTIN TX         44.00   \n",
       "7        10000018     2016-01-09  Pink Cab   AUSTIN TX         35.65   \n",
       "8        10000019     2016-01-14  Pink Cab   BOSTON MA         14.40   \n",
       "9        10000020     2016-01-08  Pink Cab   BOSTON MA         10.89   \n",
       "\n",
       "   Price Charged  Cost of Trip   Profit  \n",
       "0         370.95       313.635   57.315  \n",
       "1         358.52       334.854   23.666  \n",
       "2         125.20        97.632   27.568  \n",
       "3         377.40       351.602   25.798  \n",
       "4         114.62        97.776   16.844  \n",
       "5          72.43        63.024    9.406  \n",
       "6         576.15       475.200  100.950  \n",
       "7         466.10       377.890   88.210  \n",
       "8         191.61       146.880   44.730  \n",
       "9         156.98       113.256   43.724  "
      ]
     },
     "execution_count": 32,
     "metadata": {},
     "output_type": "execute_result"
    }
   ],
   "source": [
    "c_data['Profit'] = c_data['Price Charged'] - c_data['Cost of Trip']\n",
    "\n",
    "# Checking how c_data looks like now:\n",
    "c_data.head(10)"
   ]
  },
  {
   "cell_type": "markdown",
   "id": "dd181497",
   "metadata": {},
   "source": [
    "### Creating new column 'Profit / Km': Profit / KM Travelled"
   ]
  },
  {
   "cell_type": "code",
   "execution_count": 33,
   "id": "9743256d",
   "metadata": {
    "scrolled": false
   },
   "outputs": [
    {
     "data": {
      "text/html": [
       "<div>\n",
       "<style scoped>\n",
       "    .dataframe tbody tr th:only-of-type {\n",
       "        vertical-align: middle;\n",
       "    }\n",
       "\n",
       "    .dataframe tbody tr th {\n",
       "        vertical-align: top;\n",
       "    }\n",
       "\n",
       "    .dataframe thead th {\n",
       "        text-align: right;\n",
       "    }\n",
       "</style>\n",
       "<table border=\"1\" class=\"dataframe\">\n",
       "  <thead>\n",
       "    <tr style=\"text-align: right;\">\n",
       "      <th></th>\n",
       "      <th>Transaction ID</th>\n",
       "      <th>Date of Travel</th>\n",
       "      <th>Company</th>\n",
       "      <th>City</th>\n",
       "      <th>KM Travelled</th>\n",
       "      <th>Price Charged</th>\n",
       "      <th>Cost of Trip</th>\n",
       "      <th>Profit</th>\n",
       "      <th>Profit / Km</th>\n",
       "    </tr>\n",
       "  </thead>\n",
       "  <tbody>\n",
       "    <tr>\n",
       "      <th>0</th>\n",
       "      <td>10000011</td>\n",
       "      <td>2016-01-10</td>\n",
       "      <td>Pink Cab</td>\n",
       "      <td>ATLANTA GA</td>\n",
       "      <td>30.45</td>\n",
       "      <td>370.95</td>\n",
       "      <td>313.635</td>\n",
       "      <td>57.315</td>\n",
       "      <td>1.882266</td>\n",
       "    </tr>\n",
       "    <tr>\n",
       "      <th>1</th>\n",
       "      <td>10000012</td>\n",
       "      <td>2016-01-08</td>\n",
       "      <td>Pink Cab</td>\n",
       "      <td>ATLANTA GA</td>\n",
       "      <td>28.62</td>\n",
       "      <td>358.52</td>\n",
       "      <td>334.854</td>\n",
       "      <td>23.666</td>\n",
       "      <td>0.826904</td>\n",
       "    </tr>\n",
       "    <tr>\n",
       "      <th>2</th>\n",
       "      <td>10000013</td>\n",
       "      <td>2016-01-04</td>\n",
       "      <td>Pink Cab</td>\n",
       "      <td>ATLANTA GA</td>\n",
       "      <td>9.04</td>\n",
       "      <td>125.20</td>\n",
       "      <td>97.632</td>\n",
       "      <td>27.568</td>\n",
       "      <td>3.049558</td>\n",
       "    </tr>\n",
       "    <tr>\n",
       "      <th>3</th>\n",
       "      <td>10000014</td>\n",
       "      <td>2016-01-09</td>\n",
       "      <td>Pink Cab</td>\n",
       "      <td>ATLANTA GA</td>\n",
       "      <td>33.17</td>\n",
       "      <td>377.40</td>\n",
       "      <td>351.602</td>\n",
       "      <td>25.798</td>\n",
       "      <td>0.777751</td>\n",
       "    </tr>\n",
       "    <tr>\n",
       "      <th>4</th>\n",
       "      <td>10000015</td>\n",
       "      <td>2016-01-05</td>\n",
       "      <td>Pink Cab</td>\n",
       "      <td>ATLANTA GA</td>\n",
       "      <td>8.73</td>\n",
       "      <td>114.62</td>\n",
       "      <td>97.776</td>\n",
       "      <td>16.844</td>\n",
       "      <td>1.929439</td>\n",
       "    </tr>\n",
       "    <tr>\n",
       "      <th>5</th>\n",
       "      <td>10000016</td>\n",
       "      <td>2016-01-09</td>\n",
       "      <td>Pink Cab</td>\n",
       "      <td>ATLANTA GA</td>\n",
       "      <td>6.06</td>\n",
       "      <td>72.43</td>\n",
       "      <td>63.024</td>\n",
       "      <td>9.406</td>\n",
       "      <td>1.552145</td>\n",
       "    </tr>\n",
       "    <tr>\n",
       "      <th>6</th>\n",
       "      <td>10000017</td>\n",
       "      <td>2016-01-05</td>\n",
       "      <td>Pink Cab</td>\n",
       "      <td>AUSTIN TX</td>\n",
       "      <td>44.00</td>\n",
       "      <td>576.15</td>\n",
       "      <td>475.200</td>\n",
       "      <td>100.950</td>\n",
       "      <td>2.294318</td>\n",
       "    </tr>\n",
       "    <tr>\n",
       "      <th>7</th>\n",
       "      <td>10000018</td>\n",
       "      <td>2016-01-09</td>\n",
       "      <td>Pink Cab</td>\n",
       "      <td>AUSTIN TX</td>\n",
       "      <td>35.65</td>\n",
       "      <td>466.10</td>\n",
       "      <td>377.890</td>\n",
       "      <td>88.210</td>\n",
       "      <td>2.474334</td>\n",
       "    </tr>\n",
       "    <tr>\n",
       "      <th>8</th>\n",
       "      <td>10000019</td>\n",
       "      <td>2016-01-14</td>\n",
       "      <td>Pink Cab</td>\n",
       "      <td>BOSTON MA</td>\n",
       "      <td>14.40</td>\n",
       "      <td>191.61</td>\n",
       "      <td>146.880</td>\n",
       "      <td>44.730</td>\n",
       "      <td>3.106250</td>\n",
       "    </tr>\n",
       "    <tr>\n",
       "      <th>9</th>\n",
       "      <td>10000020</td>\n",
       "      <td>2016-01-08</td>\n",
       "      <td>Pink Cab</td>\n",
       "      <td>BOSTON MA</td>\n",
       "      <td>10.89</td>\n",
       "      <td>156.98</td>\n",
       "      <td>113.256</td>\n",
       "      <td>43.724</td>\n",
       "      <td>4.015060</td>\n",
       "    </tr>\n",
       "  </tbody>\n",
       "</table>\n",
       "</div>"
      ],
      "text/plain": [
       "   Transaction ID Date of Travel   Company        City  KM Travelled  \\\n",
       "0        10000011     2016-01-10  Pink Cab  ATLANTA GA         30.45   \n",
       "1        10000012     2016-01-08  Pink Cab  ATLANTA GA         28.62   \n",
       "2        10000013     2016-01-04  Pink Cab  ATLANTA GA          9.04   \n",
       "3        10000014     2016-01-09  Pink Cab  ATLANTA GA         33.17   \n",
       "4        10000015     2016-01-05  Pink Cab  ATLANTA GA          8.73   \n",
       "5        10000016     2016-01-09  Pink Cab  ATLANTA GA          6.06   \n",
       "6        10000017     2016-01-05  Pink Cab   AUSTIN TX         44.00   \n",
       "7        10000018     2016-01-09  Pink Cab   AUSTIN TX         35.65   \n",
       "8        10000019     2016-01-14  Pink Cab   BOSTON MA         14.40   \n",
       "9        10000020     2016-01-08  Pink Cab   BOSTON MA         10.89   \n",
       "\n",
       "   Price Charged  Cost of Trip   Profit  Profit / Km  \n",
       "0         370.95       313.635   57.315     1.882266  \n",
       "1         358.52       334.854   23.666     0.826904  \n",
       "2         125.20        97.632   27.568     3.049558  \n",
       "3         377.40       351.602   25.798     0.777751  \n",
       "4         114.62        97.776   16.844     1.929439  \n",
       "5          72.43        63.024    9.406     1.552145  \n",
       "6         576.15       475.200  100.950     2.294318  \n",
       "7         466.10       377.890   88.210     2.474334  \n",
       "8         191.61       146.880   44.730     3.106250  \n",
       "9         156.98       113.256   43.724     4.015060  "
      ]
     },
     "execution_count": 33,
     "metadata": {},
     "output_type": "execute_result"
    }
   ],
   "source": [
    "c_data['Profit / Km'] = c_data['Profit']/c_data['KM Travelled']\n",
    "\n",
    "c_data.head(10)"
   ]
  },
  {
   "cell_type": "markdown",
   "id": "a6f018be",
   "metadata": {},
   "source": [
    "### Creating a new column: Cost / Km which is cost of trip / km travelled"
   ]
  },
  {
   "cell_type": "code",
   "execution_count": 34,
   "id": "25e449d2",
   "metadata": {},
   "outputs": [],
   "source": [
    "c_data['Cost / Km'] = c_data['Cost of Trip'] / c_data['KM Travelled']"
   ]
  },
  {
   "cell_type": "markdown",
   "id": "0118fbdb",
   "metadata": {},
   "source": [
    "### Combining the 4 data sets:\n",
    "\n",
    "#### Merging Cab Data with Transaction IDs"
   ]
  },
  {
   "cell_type": "code",
   "execution_count": 35,
   "id": "cc3f1576",
   "metadata": {
    "scrolled": false
   },
   "outputs": [
    {
     "data": {
      "text/html": [
       "<div>\n",
       "<style scoped>\n",
       "    .dataframe tbody tr th:only-of-type {\n",
       "        vertical-align: middle;\n",
       "    }\n",
       "\n",
       "    .dataframe tbody tr th {\n",
       "        vertical-align: top;\n",
       "    }\n",
       "\n",
       "    .dataframe thead th {\n",
       "        text-align: right;\n",
       "    }\n",
       "</style>\n",
       "<table border=\"1\" class=\"dataframe\">\n",
       "  <thead>\n",
       "    <tr style=\"text-align: right;\">\n",
       "      <th></th>\n",
       "      <th>Transaction ID</th>\n",
       "      <th>Date of Travel</th>\n",
       "      <th>Company</th>\n",
       "      <th>City</th>\n",
       "      <th>KM Travelled</th>\n",
       "      <th>Price Charged</th>\n",
       "      <th>Cost of Trip</th>\n",
       "      <th>Profit</th>\n",
       "      <th>Profit / Km</th>\n",
       "      <th>Cost / Km</th>\n",
       "      <th>Customer ID</th>\n",
       "      <th>Payment_Mode</th>\n",
       "    </tr>\n",
       "  </thead>\n",
       "  <tbody>\n",
       "    <tr>\n",
       "      <th>0</th>\n",
       "      <td>10000011</td>\n",
       "      <td>2016-01-10</td>\n",
       "      <td>Pink Cab</td>\n",
       "      <td>ATLANTA GA</td>\n",
       "      <td>30.45</td>\n",
       "      <td>370.95</td>\n",
       "      <td>313.635</td>\n",
       "      <td>57.315</td>\n",
       "      <td>1.882266</td>\n",
       "      <td>10.3</td>\n",
       "      <td>29290</td>\n",
       "      <td>Card</td>\n",
       "    </tr>\n",
       "    <tr>\n",
       "      <th>1</th>\n",
       "      <td>10000012</td>\n",
       "      <td>2016-01-08</td>\n",
       "      <td>Pink Cab</td>\n",
       "      <td>ATLANTA GA</td>\n",
       "      <td>28.62</td>\n",
       "      <td>358.52</td>\n",
       "      <td>334.854</td>\n",
       "      <td>23.666</td>\n",
       "      <td>0.826904</td>\n",
       "      <td>11.7</td>\n",
       "      <td>27703</td>\n",
       "      <td>Card</td>\n",
       "    </tr>\n",
       "    <tr>\n",
       "      <th>2</th>\n",
       "      <td>10000013</td>\n",
       "      <td>2016-01-04</td>\n",
       "      <td>Pink Cab</td>\n",
       "      <td>ATLANTA GA</td>\n",
       "      <td>9.04</td>\n",
       "      <td>125.20</td>\n",
       "      <td>97.632</td>\n",
       "      <td>27.568</td>\n",
       "      <td>3.049558</td>\n",
       "      <td>10.8</td>\n",
       "      <td>28712</td>\n",
       "      <td>Cash</td>\n",
       "    </tr>\n",
       "    <tr>\n",
       "      <th>3</th>\n",
       "      <td>10000014</td>\n",
       "      <td>2016-01-09</td>\n",
       "      <td>Pink Cab</td>\n",
       "      <td>ATLANTA GA</td>\n",
       "      <td>33.17</td>\n",
       "      <td>377.40</td>\n",
       "      <td>351.602</td>\n",
       "      <td>25.798</td>\n",
       "      <td>0.777751</td>\n",
       "      <td>10.6</td>\n",
       "      <td>28020</td>\n",
       "      <td>Cash</td>\n",
       "    </tr>\n",
       "    <tr>\n",
       "      <th>4</th>\n",
       "      <td>10000015</td>\n",
       "      <td>2016-01-05</td>\n",
       "      <td>Pink Cab</td>\n",
       "      <td>ATLANTA GA</td>\n",
       "      <td>8.73</td>\n",
       "      <td>114.62</td>\n",
       "      <td>97.776</td>\n",
       "      <td>16.844</td>\n",
       "      <td>1.929439</td>\n",
       "      <td>11.2</td>\n",
       "      <td>27182</td>\n",
       "      <td>Card</td>\n",
       "    </tr>\n",
       "    <tr>\n",
       "      <th>5</th>\n",
       "      <td>10000016</td>\n",
       "      <td>2016-01-09</td>\n",
       "      <td>Pink Cab</td>\n",
       "      <td>ATLANTA GA</td>\n",
       "      <td>6.06</td>\n",
       "      <td>72.43</td>\n",
       "      <td>63.024</td>\n",
       "      <td>9.406</td>\n",
       "      <td>1.552145</td>\n",
       "      <td>10.4</td>\n",
       "      <td>27318</td>\n",
       "      <td>Cash</td>\n",
       "    </tr>\n",
       "    <tr>\n",
       "      <th>6</th>\n",
       "      <td>10000017</td>\n",
       "      <td>2016-01-05</td>\n",
       "      <td>Pink Cab</td>\n",
       "      <td>AUSTIN TX</td>\n",
       "      <td>44.00</td>\n",
       "      <td>576.15</td>\n",
       "      <td>475.200</td>\n",
       "      <td>100.950</td>\n",
       "      <td>2.294318</td>\n",
       "      <td>10.8</td>\n",
       "      <td>33788</td>\n",
       "      <td>Card</td>\n",
       "    </tr>\n",
       "    <tr>\n",
       "      <th>7</th>\n",
       "      <td>10000018</td>\n",
       "      <td>2016-01-09</td>\n",
       "      <td>Pink Cab</td>\n",
       "      <td>AUSTIN TX</td>\n",
       "      <td>35.65</td>\n",
       "      <td>466.10</td>\n",
       "      <td>377.890</td>\n",
       "      <td>88.210</td>\n",
       "      <td>2.474334</td>\n",
       "      <td>10.6</td>\n",
       "      <td>34106</td>\n",
       "      <td>Card</td>\n",
       "    </tr>\n",
       "    <tr>\n",
       "      <th>8</th>\n",
       "      <td>10000019</td>\n",
       "      <td>2016-01-14</td>\n",
       "      <td>Pink Cab</td>\n",
       "      <td>BOSTON MA</td>\n",
       "      <td>14.40</td>\n",
       "      <td>191.61</td>\n",
       "      <td>146.880</td>\n",
       "      <td>44.730</td>\n",
       "      <td>3.106250</td>\n",
       "      <td>10.2</td>\n",
       "      <td>59799</td>\n",
       "      <td>Cash</td>\n",
       "    </tr>\n",
       "    <tr>\n",
       "      <th>9</th>\n",
       "      <td>10000020</td>\n",
       "      <td>2016-01-08</td>\n",
       "      <td>Pink Cab</td>\n",
       "      <td>BOSTON MA</td>\n",
       "      <td>10.89</td>\n",
       "      <td>156.98</td>\n",
       "      <td>113.256</td>\n",
       "      <td>43.724</td>\n",
       "      <td>4.015060</td>\n",
       "      <td>10.4</td>\n",
       "      <td>57982</td>\n",
       "      <td>Cash</td>\n",
       "    </tr>\n",
       "  </tbody>\n",
       "</table>\n",
       "</div>"
      ],
      "text/plain": [
       "   Transaction ID Date of Travel   Company        City  KM Travelled  \\\n",
       "0        10000011     2016-01-10  Pink Cab  ATLANTA GA         30.45   \n",
       "1        10000012     2016-01-08  Pink Cab  ATLANTA GA         28.62   \n",
       "2        10000013     2016-01-04  Pink Cab  ATLANTA GA          9.04   \n",
       "3        10000014     2016-01-09  Pink Cab  ATLANTA GA         33.17   \n",
       "4        10000015     2016-01-05  Pink Cab  ATLANTA GA          8.73   \n",
       "5        10000016     2016-01-09  Pink Cab  ATLANTA GA          6.06   \n",
       "6        10000017     2016-01-05  Pink Cab   AUSTIN TX         44.00   \n",
       "7        10000018     2016-01-09  Pink Cab   AUSTIN TX         35.65   \n",
       "8        10000019     2016-01-14  Pink Cab   BOSTON MA         14.40   \n",
       "9        10000020     2016-01-08  Pink Cab   BOSTON MA         10.89   \n",
       "\n",
       "   Price Charged  Cost of Trip   Profit  Profit / Km  Cost / Km  Customer ID  \\\n",
       "0         370.95       313.635   57.315     1.882266       10.3        29290   \n",
       "1         358.52       334.854   23.666     0.826904       11.7        27703   \n",
       "2         125.20        97.632   27.568     3.049558       10.8        28712   \n",
       "3         377.40       351.602   25.798     0.777751       10.6        28020   \n",
       "4         114.62        97.776   16.844     1.929439       11.2        27182   \n",
       "5          72.43        63.024    9.406     1.552145       10.4        27318   \n",
       "6         576.15       475.200  100.950     2.294318       10.8        33788   \n",
       "7         466.10       377.890   88.210     2.474334       10.6        34106   \n",
       "8         191.61       146.880   44.730     3.106250       10.2        59799   \n",
       "9         156.98       113.256   43.724     4.015060       10.4        57982   \n",
       "\n",
       "  Payment_Mode  \n",
       "0         Card  \n",
       "1         Card  \n",
       "2         Cash  \n",
       "3         Cash  \n",
       "4         Card  \n",
       "5         Cash  \n",
       "6         Card  \n",
       "7         Card  \n",
       "8         Cash  \n",
       "9         Cash  "
      ]
     },
     "execution_count": 35,
     "metadata": {},
     "output_type": "execute_result"
    }
   ],
   "source": [
    "merged = pd.merge(c_data, t_id, how='inner', on=['Transaction ID'])\n",
    "\n",
    "merged.head(10)"
   ]
  },
  {
   "cell_type": "markdown",
   "id": "8a195d98",
   "metadata": {},
   "source": [
    "#### Adding customer data:"
   ]
  },
  {
   "cell_type": "code",
   "execution_count": 36,
   "id": "9891b00f",
   "metadata": {
    "scrolled": false
   },
   "outputs": [
    {
     "data": {
      "text/html": [
       "<div>\n",
       "<style scoped>\n",
       "    .dataframe tbody tr th:only-of-type {\n",
       "        vertical-align: middle;\n",
       "    }\n",
       "\n",
       "    .dataframe tbody tr th {\n",
       "        vertical-align: top;\n",
       "    }\n",
       "\n",
       "    .dataframe thead th {\n",
       "        text-align: right;\n",
       "    }\n",
       "</style>\n",
       "<table border=\"1\" class=\"dataframe\">\n",
       "  <thead>\n",
       "    <tr style=\"text-align: right;\">\n",
       "      <th></th>\n",
       "      <th>Transaction ID</th>\n",
       "      <th>Date of Travel</th>\n",
       "      <th>Company</th>\n",
       "      <th>City</th>\n",
       "      <th>KM Travelled</th>\n",
       "      <th>Price Charged</th>\n",
       "      <th>Cost of Trip</th>\n",
       "      <th>Profit</th>\n",
       "      <th>Profit / Km</th>\n",
       "      <th>Cost / Km</th>\n",
       "      <th>Customer ID</th>\n",
       "      <th>Payment_Mode</th>\n",
       "      <th>Gender</th>\n",
       "      <th>Age</th>\n",
       "      <th>Income (USD/Month)</th>\n",
       "    </tr>\n",
       "  </thead>\n",
       "  <tbody>\n",
       "    <tr>\n",
       "      <th>0</th>\n",
       "      <td>10000011</td>\n",
       "      <td>2016-01-10</td>\n",
       "      <td>Pink Cab</td>\n",
       "      <td>ATLANTA GA</td>\n",
       "      <td>30.45</td>\n",
       "      <td>370.95</td>\n",
       "      <td>313.6350</td>\n",
       "      <td>57.3150</td>\n",
       "      <td>1.882266</td>\n",
       "      <td>10.30</td>\n",
       "      <td>29290</td>\n",
       "      <td>Card</td>\n",
       "      <td>Male</td>\n",
       "      <td>28</td>\n",
       "      <td>10813</td>\n",
       "    </tr>\n",
       "    <tr>\n",
       "      <th>1</th>\n",
       "      <td>10351127</td>\n",
       "      <td>2018-07-23</td>\n",
       "      <td>Yellow Cab</td>\n",
       "      <td>ATLANTA GA</td>\n",
       "      <td>26.19</td>\n",
       "      <td>598.70</td>\n",
       "      <td>317.4228</td>\n",
       "      <td>281.2772</td>\n",
       "      <td>10.739870</td>\n",
       "      <td>12.12</td>\n",
       "      <td>29290</td>\n",
       "      <td>Cash</td>\n",
       "      <td>Male</td>\n",
       "      <td>28</td>\n",
       "      <td>10813</td>\n",
       "    </tr>\n",
       "    <tr>\n",
       "      <th>2</th>\n",
       "      <td>10412921</td>\n",
       "      <td>2018-11-25</td>\n",
       "      <td>Yellow Cab</td>\n",
       "      <td>ATLANTA GA</td>\n",
       "      <td>42.55</td>\n",
       "      <td>792.05</td>\n",
       "      <td>597.4020</td>\n",
       "      <td>194.6480</td>\n",
       "      <td>4.574571</td>\n",
       "      <td>14.04</td>\n",
       "      <td>29290</td>\n",
       "      <td>Card</td>\n",
       "      <td>Male</td>\n",
       "      <td>28</td>\n",
       "      <td>10813</td>\n",
       "    </tr>\n",
       "    <tr>\n",
       "      <th>3</th>\n",
       "      <td>10000012</td>\n",
       "      <td>2016-01-08</td>\n",
       "      <td>Pink Cab</td>\n",
       "      <td>ATLANTA GA</td>\n",
       "      <td>28.62</td>\n",
       "      <td>358.52</td>\n",
       "      <td>334.8540</td>\n",
       "      <td>23.6660</td>\n",
       "      <td>0.826904</td>\n",
       "      <td>11.70</td>\n",
       "      <td>27703</td>\n",
       "      <td>Card</td>\n",
       "      <td>Male</td>\n",
       "      <td>27</td>\n",
       "      <td>9237</td>\n",
       "    </tr>\n",
       "    <tr>\n",
       "      <th>4</th>\n",
       "      <td>10320494</td>\n",
       "      <td>2018-04-23</td>\n",
       "      <td>Yellow Cab</td>\n",
       "      <td>ATLANTA GA</td>\n",
       "      <td>36.38</td>\n",
       "      <td>721.10</td>\n",
       "      <td>467.1192</td>\n",
       "      <td>253.9808</td>\n",
       "      <td>6.981330</td>\n",
       "      <td>12.84</td>\n",
       "      <td>27703</td>\n",
       "      <td>Card</td>\n",
       "      <td>Male</td>\n",
       "      <td>27</td>\n",
       "      <td>9237</td>\n",
       "    </tr>\n",
       "    <tr>\n",
       "      <th>5</th>\n",
       "      <td>10324737</td>\n",
       "      <td>2018-05-06</td>\n",
       "      <td>Yellow Cab</td>\n",
       "      <td>ATLANTA GA</td>\n",
       "      <td>6.18</td>\n",
       "      <td>138.40</td>\n",
       "      <td>87.5088</td>\n",
       "      <td>50.8912</td>\n",
       "      <td>8.234822</td>\n",
       "      <td>14.16</td>\n",
       "      <td>27703</td>\n",
       "      <td>Cash</td>\n",
       "      <td>Male</td>\n",
       "      <td>27</td>\n",
       "      <td>9237</td>\n",
       "    </tr>\n",
       "    <tr>\n",
       "      <th>6</th>\n",
       "      <td>10395626</td>\n",
       "      <td>2018-10-29</td>\n",
       "      <td>Pink Cab</td>\n",
       "      <td>ATLANTA GA</td>\n",
       "      <td>13.39</td>\n",
       "      <td>167.03</td>\n",
       "      <td>141.9340</td>\n",
       "      <td>25.0960</td>\n",
       "      <td>1.874235</td>\n",
       "      <td>10.60</td>\n",
       "      <td>27703</td>\n",
       "      <td>Card</td>\n",
       "      <td>Male</td>\n",
       "      <td>27</td>\n",
       "      <td>9237</td>\n",
       "    </tr>\n",
       "    <tr>\n",
       "      <th>7</th>\n",
       "      <td>10000013</td>\n",
       "      <td>2016-01-04</td>\n",
       "      <td>Pink Cab</td>\n",
       "      <td>ATLANTA GA</td>\n",
       "      <td>9.04</td>\n",
       "      <td>125.20</td>\n",
       "      <td>97.6320</td>\n",
       "      <td>27.5680</td>\n",
       "      <td>3.049558</td>\n",
       "      <td>10.80</td>\n",
       "      <td>28712</td>\n",
       "      <td>Cash</td>\n",
       "      <td>Male</td>\n",
       "      <td>53</td>\n",
       "      <td>11242</td>\n",
       "    </tr>\n",
       "    <tr>\n",
       "      <th>8</th>\n",
       "      <td>10079404</td>\n",
       "      <td>2016-09-23</td>\n",
       "      <td>Yellow Cab</td>\n",
       "      <td>ATLANTA GA</td>\n",
       "      <td>39.60</td>\n",
       "      <td>704.30</td>\n",
       "      <td>494.2080</td>\n",
       "      <td>210.0920</td>\n",
       "      <td>5.305354</td>\n",
       "      <td>12.48</td>\n",
       "      <td>28712</td>\n",
       "      <td>Card</td>\n",
       "      <td>Male</td>\n",
       "      <td>53</td>\n",
       "      <td>11242</td>\n",
       "    </tr>\n",
       "    <tr>\n",
       "      <th>9</th>\n",
       "      <td>10186994</td>\n",
       "      <td>2017-06-25</td>\n",
       "      <td>Yellow Cab</td>\n",
       "      <td>ATLANTA GA</td>\n",
       "      <td>18.19</td>\n",
       "      <td>365.63</td>\n",
       "      <td>246.6564</td>\n",
       "      <td>118.9736</td>\n",
       "      <td>6.540605</td>\n",
       "      <td>13.56</td>\n",
       "      <td>28712</td>\n",
       "      <td>Card</td>\n",
       "      <td>Male</td>\n",
       "      <td>53</td>\n",
       "      <td>11242</td>\n",
       "    </tr>\n",
       "  </tbody>\n",
       "</table>\n",
       "</div>"
      ],
      "text/plain": [
       "   Transaction ID Date of Travel     Company        City  KM Travelled  \\\n",
       "0        10000011     2016-01-10    Pink Cab  ATLANTA GA         30.45   \n",
       "1        10351127     2018-07-23  Yellow Cab  ATLANTA GA         26.19   \n",
       "2        10412921     2018-11-25  Yellow Cab  ATLANTA GA         42.55   \n",
       "3        10000012     2016-01-08    Pink Cab  ATLANTA GA         28.62   \n",
       "4        10320494     2018-04-23  Yellow Cab  ATLANTA GA         36.38   \n",
       "5        10324737     2018-05-06  Yellow Cab  ATLANTA GA          6.18   \n",
       "6        10395626     2018-10-29    Pink Cab  ATLANTA GA         13.39   \n",
       "7        10000013     2016-01-04    Pink Cab  ATLANTA GA          9.04   \n",
       "8        10079404     2016-09-23  Yellow Cab  ATLANTA GA         39.60   \n",
       "9        10186994     2017-06-25  Yellow Cab  ATLANTA GA         18.19   \n",
       "\n",
       "   Price Charged  Cost of Trip    Profit  Profit / Km  Cost / Km  Customer ID  \\\n",
       "0         370.95      313.6350   57.3150     1.882266      10.30        29290   \n",
       "1         598.70      317.4228  281.2772    10.739870      12.12        29290   \n",
       "2         792.05      597.4020  194.6480     4.574571      14.04        29290   \n",
       "3         358.52      334.8540   23.6660     0.826904      11.70        27703   \n",
       "4         721.10      467.1192  253.9808     6.981330      12.84        27703   \n",
       "5         138.40       87.5088   50.8912     8.234822      14.16        27703   \n",
       "6         167.03      141.9340   25.0960     1.874235      10.60        27703   \n",
       "7         125.20       97.6320   27.5680     3.049558      10.80        28712   \n",
       "8         704.30      494.2080  210.0920     5.305354      12.48        28712   \n",
       "9         365.63      246.6564  118.9736     6.540605      13.56        28712   \n",
       "\n",
       "  Payment_Mode Gender  Age  Income (USD/Month)  \n",
       "0         Card   Male   28               10813  \n",
       "1         Cash   Male   28               10813  \n",
       "2         Card   Male   28               10813  \n",
       "3         Card   Male   27                9237  \n",
       "4         Card   Male   27                9237  \n",
       "5         Cash   Male   27                9237  \n",
       "6         Card   Male   27                9237  \n",
       "7         Cash   Male   53               11242  \n",
       "8         Card   Male   53               11242  \n",
       "9         Card   Male   53               11242  "
      ]
     },
     "execution_count": 36,
     "metadata": {},
     "output_type": "execute_result"
    }
   ],
   "source": [
    "merged = pd.merge(merged, c_id, how='inner', on=['Customer ID'])\n",
    "\n",
    "merged.head(10)"
   ]
  },
  {
   "cell_type": "markdown",
   "id": "05191d68",
   "metadata": {},
   "source": [
    "#### For our City dataset: Converting City Population and Users columns to the int datatype, creating a new column 'Users % of Population' and then merging it with our main dataset."
   ]
  },
  {
   "cell_type": "code",
   "execution_count": 37,
   "id": "eacc8a1f",
   "metadata": {
    "scrolled": false
   },
   "outputs": [],
   "source": [
    "# Changing Population and Users Columns from text to int\n",
    "for c in ['Population', 'Users']:\n",
    "    city[c] = city[c].str.replace(',', '').astype(int)"
   ]
  },
  {
   "cell_type": "code",
   "execution_count": 38,
   "id": "f78918fa",
   "metadata": {},
   "outputs": [],
   "source": [
    "# Creating new column 'Users % Population'\n",
    "city['Users % Population'] = (city['Users']/city['Population'])*100"
   ]
  },
  {
   "cell_type": "code",
   "execution_count": 39,
   "id": "b4eb4735",
   "metadata": {},
   "outputs": [
    {
     "name": "stdout",
     "output_type": "stream",
     "text": [
      "<class 'pandas.core.frame.DataFrame'>\n",
      "RangeIndex: 20 entries, 0 to 19\n",
      "Data columns (total 4 columns):\n",
      " #   Column              Non-Null Count  Dtype  \n",
      "---  ------              --------------  -----  \n",
      " 0   City                20 non-null     object \n",
      " 1   Population          20 non-null     int32  \n",
      " 2   Users               20 non-null     int32  \n",
      " 3   Users % Population  20 non-null     float64\n",
      "dtypes: float64(1), int32(2), object(1)\n",
      "memory usage: 608.0+ bytes\n",
      "None\n"
     ]
    },
    {
     "data": {
      "text/html": [
       "<div>\n",
       "<style scoped>\n",
       "    .dataframe tbody tr th:only-of-type {\n",
       "        vertical-align: middle;\n",
       "    }\n",
       "\n",
       "    .dataframe tbody tr th {\n",
       "        vertical-align: top;\n",
       "    }\n",
       "\n",
       "    .dataframe thead th {\n",
       "        text-align: right;\n",
       "    }\n",
       "</style>\n",
       "<table border=\"1\" class=\"dataframe\">\n",
       "  <thead>\n",
       "    <tr style=\"text-align: right;\">\n",
       "      <th></th>\n",
       "      <th>City</th>\n",
       "      <th>Population</th>\n",
       "      <th>Users</th>\n",
       "      <th>Users % Population</th>\n",
       "    </tr>\n",
       "  </thead>\n",
       "  <tbody>\n",
       "    <tr>\n",
       "      <th>0</th>\n",
       "      <td>NEW YORK NY</td>\n",
       "      <td>8405837</td>\n",
       "      <td>302149</td>\n",
       "      <td>3.594514</td>\n",
       "    </tr>\n",
       "    <tr>\n",
       "      <th>1</th>\n",
       "      <td>CHICAGO IL</td>\n",
       "      <td>1955130</td>\n",
       "      <td>164468</td>\n",
       "      <td>8.412126</td>\n",
       "    </tr>\n",
       "    <tr>\n",
       "      <th>2</th>\n",
       "      <td>LOS ANGELES CA</td>\n",
       "      <td>1595037</td>\n",
       "      <td>144132</td>\n",
       "      <td>9.036279</td>\n",
       "    </tr>\n",
       "    <tr>\n",
       "      <th>3</th>\n",
       "      <td>MIAMI FL</td>\n",
       "      <td>1339155</td>\n",
       "      <td>17675</td>\n",
       "      <td>1.319862</td>\n",
       "    </tr>\n",
       "    <tr>\n",
       "      <th>4</th>\n",
       "      <td>SILICON VALLEY</td>\n",
       "      <td>1177609</td>\n",
       "      <td>27247</td>\n",
       "      <td>2.313756</td>\n",
       "    </tr>\n",
       "  </tbody>\n",
       "</table>\n",
       "</div>"
      ],
      "text/plain": [
       "             City  Population   Users  Users % Population\n",
       "0     NEW YORK NY     8405837  302149            3.594514\n",
       "1      CHICAGO IL     1955130  164468            8.412126\n",
       "2  LOS ANGELES CA     1595037  144132            9.036279\n",
       "3        MIAMI FL     1339155   17675            1.319862\n",
       "4  SILICON VALLEY     1177609   27247            2.313756"
      ]
     },
     "execution_count": 39,
     "metadata": {},
     "output_type": "execute_result"
    }
   ],
   "source": [
    "#confirming our changes to Population and Users columns:\n",
    "\n",
    "print(city.info())\n",
    "\n",
    "city.head()"
   ]
  },
  {
   "cell_type": "code",
   "execution_count": 40,
   "id": "497e425d",
   "metadata": {},
   "outputs": [
    {
     "data": {
      "text/html": [
       "<div>\n",
       "<style scoped>\n",
       "    .dataframe tbody tr th:only-of-type {\n",
       "        vertical-align: middle;\n",
       "    }\n",
       "\n",
       "    .dataframe tbody tr th {\n",
       "        vertical-align: top;\n",
       "    }\n",
       "\n",
       "    .dataframe thead th {\n",
       "        text-align: right;\n",
       "    }\n",
       "</style>\n",
       "<table border=\"1\" class=\"dataframe\">\n",
       "  <thead>\n",
       "    <tr style=\"text-align: right;\">\n",
       "      <th></th>\n",
       "      <th>Transaction ID</th>\n",
       "      <th>Date of Travel</th>\n",
       "      <th>Company</th>\n",
       "      <th>City</th>\n",
       "      <th>KM Travelled</th>\n",
       "      <th>Price Charged</th>\n",
       "      <th>Cost of Trip</th>\n",
       "      <th>Profit</th>\n",
       "      <th>Profit / Km</th>\n",
       "      <th>Cost / Km</th>\n",
       "      <th>Customer ID</th>\n",
       "      <th>Payment_Mode</th>\n",
       "      <th>Gender</th>\n",
       "      <th>Age</th>\n",
       "      <th>Income (USD/Month)</th>\n",
       "      <th>Population</th>\n",
       "      <th>Users</th>\n",
       "      <th>Users % Population</th>\n",
       "    </tr>\n",
       "  </thead>\n",
       "  <tbody>\n",
       "    <tr>\n",
       "      <th>0</th>\n",
       "      <td>10000011</td>\n",
       "      <td>2016-01-10</td>\n",
       "      <td>Pink Cab</td>\n",
       "      <td>ATLANTA GA</td>\n",
       "      <td>30.45</td>\n",
       "      <td>370.95</td>\n",
       "      <td>313.6350</td>\n",
       "      <td>57.3150</td>\n",
       "      <td>1.882266</td>\n",
       "      <td>10.30</td>\n",
       "      <td>29290</td>\n",
       "      <td>Card</td>\n",
       "      <td>Male</td>\n",
       "      <td>28</td>\n",
       "      <td>10813</td>\n",
       "      <td>814885</td>\n",
       "      <td>24701</td>\n",
       "      <td>3.031225</td>\n",
       "    </tr>\n",
       "    <tr>\n",
       "      <th>1</th>\n",
       "      <td>10351127</td>\n",
       "      <td>2018-07-23</td>\n",
       "      <td>Yellow Cab</td>\n",
       "      <td>ATLANTA GA</td>\n",
       "      <td>26.19</td>\n",
       "      <td>598.70</td>\n",
       "      <td>317.4228</td>\n",
       "      <td>281.2772</td>\n",
       "      <td>10.739870</td>\n",
       "      <td>12.12</td>\n",
       "      <td>29290</td>\n",
       "      <td>Cash</td>\n",
       "      <td>Male</td>\n",
       "      <td>28</td>\n",
       "      <td>10813</td>\n",
       "      <td>814885</td>\n",
       "      <td>24701</td>\n",
       "      <td>3.031225</td>\n",
       "    </tr>\n",
       "    <tr>\n",
       "      <th>2</th>\n",
       "      <td>10412921</td>\n",
       "      <td>2018-11-25</td>\n",
       "      <td>Yellow Cab</td>\n",
       "      <td>ATLANTA GA</td>\n",
       "      <td>42.55</td>\n",
       "      <td>792.05</td>\n",
       "      <td>597.4020</td>\n",
       "      <td>194.6480</td>\n",
       "      <td>4.574571</td>\n",
       "      <td>14.04</td>\n",
       "      <td>29290</td>\n",
       "      <td>Card</td>\n",
       "      <td>Male</td>\n",
       "      <td>28</td>\n",
       "      <td>10813</td>\n",
       "      <td>814885</td>\n",
       "      <td>24701</td>\n",
       "      <td>3.031225</td>\n",
       "    </tr>\n",
       "    <tr>\n",
       "      <th>3</th>\n",
       "      <td>10000012</td>\n",
       "      <td>2016-01-08</td>\n",
       "      <td>Pink Cab</td>\n",
       "      <td>ATLANTA GA</td>\n",
       "      <td>28.62</td>\n",
       "      <td>358.52</td>\n",
       "      <td>334.8540</td>\n",
       "      <td>23.6660</td>\n",
       "      <td>0.826904</td>\n",
       "      <td>11.70</td>\n",
       "      <td>27703</td>\n",
       "      <td>Card</td>\n",
       "      <td>Male</td>\n",
       "      <td>27</td>\n",
       "      <td>9237</td>\n",
       "      <td>814885</td>\n",
       "      <td>24701</td>\n",
       "      <td>3.031225</td>\n",
       "    </tr>\n",
       "    <tr>\n",
       "      <th>4</th>\n",
       "      <td>10320494</td>\n",
       "      <td>2018-04-23</td>\n",
       "      <td>Yellow Cab</td>\n",
       "      <td>ATLANTA GA</td>\n",
       "      <td>36.38</td>\n",
       "      <td>721.10</td>\n",
       "      <td>467.1192</td>\n",
       "      <td>253.9808</td>\n",
       "      <td>6.981330</td>\n",
       "      <td>12.84</td>\n",
       "      <td>27703</td>\n",
       "      <td>Card</td>\n",
       "      <td>Male</td>\n",
       "      <td>27</td>\n",
       "      <td>9237</td>\n",
       "      <td>814885</td>\n",
       "      <td>24701</td>\n",
       "      <td>3.031225</td>\n",
       "    </tr>\n",
       "    <tr>\n",
       "      <th>5</th>\n",
       "      <td>10324737</td>\n",
       "      <td>2018-05-06</td>\n",
       "      <td>Yellow Cab</td>\n",
       "      <td>ATLANTA GA</td>\n",
       "      <td>6.18</td>\n",
       "      <td>138.40</td>\n",
       "      <td>87.5088</td>\n",
       "      <td>50.8912</td>\n",
       "      <td>8.234822</td>\n",
       "      <td>14.16</td>\n",
       "      <td>27703</td>\n",
       "      <td>Cash</td>\n",
       "      <td>Male</td>\n",
       "      <td>27</td>\n",
       "      <td>9237</td>\n",
       "      <td>814885</td>\n",
       "      <td>24701</td>\n",
       "      <td>3.031225</td>\n",
       "    </tr>\n",
       "    <tr>\n",
       "      <th>6</th>\n",
       "      <td>10395626</td>\n",
       "      <td>2018-10-29</td>\n",
       "      <td>Pink Cab</td>\n",
       "      <td>ATLANTA GA</td>\n",
       "      <td>13.39</td>\n",
       "      <td>167.03</td>\n",
       "      <td>141.9340</td>\n",
       "      <td>25.0960</td>\n",
       "      <td>1.874235</td>\n",
       "      <td>10.60</td>\n",
       "      <td>27703</td>\n",
       "      <td>Card</td>\n",
       "      <td>Male</td>\n",
       "      <td>27</td>\n",
       "      <td>9237</td>\n",
       "      <td>814885</td>\n",
       "      <td>24701</td>\n",
       "      <td>3.031225</td>\n",
       "    </tr>\n",
       "    <tr>\n",
       "      <th>7</th>\n",
       "      <td>10000013</td>\n",
       "      <td>2016-01-04</td>\n",
       "      <td>Pink Cab</td>\n",
       "      <td>ATLANTA GA</td>\n",
       "      <td>9.04</td>\n",
       "      <td>125.20</td>\n",
       "      <td>97.6320</td>\n",
       "      <td>27.5680</td>\n",
       "      <td>3.049558</td>\n",
       "      <td>10.80</td>\n",
       "      <td>28712</td>\n",
       "      <td>Cash</td>\n",
       "      <td>Male</td>\n",
       "      <td>53</td>\n",
       "      <td>11242</td>\n",
       "      <td>814885</td>\n",
       "      <td>24701</td>\n",
       "      <td>3.031225</td>\n",
       "    </tr>\n",
       "    <tr>\n",
       "      <th>8</th>\n",
       "      <td>10079404</td>\n",
       "      <td>2016-09-23</td>\n",
       "      <td>Yellow Cab</td>\n",
       "      <td>ATLANTA GA</td>\n",
       "      <td>39.60</td>\n",
       "      <td>704.30</td>\n",
       "      <td>494.2080</td>\n",
       "      <td>210.0920</td>\n",
       "      <td>5.305354</td>\n",
       "      <td>12.48</td>\n",
       "      <td>28712</td>\n",
       "      <td>Card</td>\n",
       "      <td>Male</td>\n",
       "      <td>53</td>\n",
       "      <td>11242</td>\n",
       "      <td>814885</td>\n",
       "      <td>24701</td>\n",
       "      <td>3.031225</td>\n",
       "    </tr>\n",
       "    <tr>\n",
       "      <th>9</th>\n",
       "      <td>10186994</td>\n",
       "      <td>2017-06-25</td>\n",
       "      <td>Yellow Cab</td>\n",
       "      <td>ATLANTA GA</td>\n",
       "      <td>18.19</td>\n",
       "      <td>365.63</td>\n",
       "      <td>246.6564</td>\n",
       "      <td>118.9736</td>\n",
       "      <td>6.540605</td>\n",
       "      <td>13.56</td>\n",
       "      <td>28712</td>\n",
       "      <td>Card</td>\n",
       "      <td>Male</td>\n",
       "      <td>53</td>\n",
       "      <td>11242</td>\n",
       "      <td>814885</td>\n",
       "      <td>24701</td>\n",
       "      <td>3.031225</td>\n",
       "    </tr>\n",
       "  </tbody>\n",
       "</table>\n",
       "</div>"
      ],
      "text/plain": [
       "   Transaction ID Date of Travel     Company        City  KM Travelled  \\\n",
       "0        10000011     2016-01-10    Pink Cab  ATLANTA GA         30.45   \n",
       "1        10351127     2018-07-23  Yellow Cab  ATLANTA GA         26.19   \n",
       "2        10412921     2018-11-25  Yellow Cab  ATLANTA GA         42.55   \n",
       "3        10000012     2016-01-08    Pink Cab  ATLANTA GA         28.62   \n",
       "4        10320494     2018-04-23  Yellow Cab  ATLANTA GA         36.38   \n",
       "5        10324737     2018-05-06  Yellow Cab  ATLANTA GA          6.18   \n",
       "6        10395626     2018-10-29    Pink Cab  ATLANTA GA         13.39   \n",
       "7        10000013     2016-01-04    Pink Cab  ATLANTA GA          9.04   \n",
       "8        10079404     2016-09-23  Yellow Cab  ATLANTA GA         39.60   \n",
       "9        10186994     2017-06-25  Yellow Cab  ATLANTA GA         18.19   \n",
       "\n",
       "   Price Charged  Cost of Trip    Profit  Profit / Km  Cost / Km  Customer ID  \\\n",
       "0         370.95      313.6350   57.3150     1.882266      10.30        29290   \n",
       "1         598.70      317.4228  281.2772    10.739870      12.12        29290   \n",
       "2         792.05      597.4020  194.6480     4.574571      14.04        29290   \n",
       "3         358.52      334.8540   23.6660     0.826904      11.70        27703   \n",
       "4         721.10      467.1192  253.9808     6.981330      12.84        27703   \n",
       "5         138.40       87.5088   50.8912     8.234822      14.16        27703   \n",
       "6         167.03      141.9340   25.0960     1.874235      10.60        27703   \n",
       "7         125.20       97.6320   27.5680     3.049558      10.80        28712   \n",
       "8         704.30      494.2080  210.0920     5.305354      12.48        28712   \n",
       "9         365.63      246.6564  118.9736     6.540605      13.56        28712   \n",
       "\n",
       "  Payment_Mode Gender  Age  Income (USD/Month)  Population  Users  \\\n",
       "0         Card   Male   28               10813      814885  24701   \n",
       "1         Cash   Male   28               10813      814885  24701   \n",
       "2         Card   Male   28               10813      814885  24701   \n",
       "3         Card   Male   27                9237      814885  24701   \n",
       "4         Card   Male   27                9237      814885  24701   \n",
       "5         Cash   Male   27                9237      814885  24701   \n",
       "6         Card   Male   27                9237      814885  24701   \n",
       "7         Cash   Male   53               11242      814885  24701   \n",
       "8         Card   Male   53               11242      814885  24701   \n",
       "9         Card   Male   53               11242      814885  24701   \n",
       "\n",
       "   Users % Population  \n",
       "0            3.031225  \n",
       "1            3.031225  \n",
       "2            3.031225  \n",
       "3            3.031225  \n",
       "4            3.031225  \n",
       "5            3.031225  \n",
       "6            3.031225  \n",
       "7            3.031225  \n",
       "8            3.031225  \n",
       "9            3.031225  "
      ]
     },
     "execution_count": 40,
     "metadata": {},
     "output_type": "execute_result"
    }
   ],
   "source": [
    "# Merging our data set with city and naming master table 'dataset'\n",
    "\n",
    "dataset = pd.merge(merged, city, how='inner', on=['City'])\n",
    "\n",
    "dataset.head(10)"
   ]
  },
  {
   "cell_type": "markdown",
   "id": "9fe3265f",
   "metadata": {},
   "source": [
    "## Preliminary Analysis:"
   ]
  },
  {
   "cell_type": "markdown",
   "id": "f9d8418c",
   "metadata": {},
   "source": [
    "#### Correllation Study and Heatmap:"
   ]
  },
  {
   "cell_type": "markdown",
   "id": "f8eedc73",
   "metadata": {},
   "source": [
    "* I start by doing a very quick correlation study accross all columns to see which features correlate:"
   ]
  },
  {
   "cell_type": "code",
   "execution_count": 41,
   "id": "d6d4675d",
   "metadata": {
    "scrolled": false
   },
   "outputs": [
    {
     "data": {
      "text/plain": [
       "<AxesSubplot:>"
      ]
     },
     "execution_count": 41,
     "metadata": {},
     "output_type": "execute_result"
    },
    {
     "data": {
      "image/png": "[encoded data removed]",
      "text/plain": [
       "<Figure size 432x288 with 2 Axes>"
      ]
     },
     "metadata": {
      "needs_background": "light"
     },
     "output_type": "display_data"
    }
   ],
   "source": [
    "# Producing a correlation table and rounding the results to 2 decimal places.\n",
    "columns = ['KM Travelled', 'Price Charged', 'Cost of Trip', 'Profit', 'Profit / Km', \n",
    "           'Age', 'Income (USD/Month)', 'Population', 'Users', 'Users % Population', 'Cost / Km']\n",
    "\n",
    "correlations = dataset[columns].corr().round(2)\n",
    "\n",
    "sns.heatmap(correlations, annot = True)"
   ]
  },
  {
   "cell_type": "markdown",
   "id": "1ab9d97c",
   "metadata": {},
   "source": [
    "We can see from the above correlation heatmap the below observations:\n",
    "\n",
    "* Cost of Trip correlates almost perfectly with the KM Travelled at 0.98, but Price Charged correlates less strongly (0.84) with the KM Travelled, which implies that that for longer trips, we have reduced profitability, and we can see this reflected by the weak correlation value of 0.46 between profit and KM Travelled and negative weak correlation of KM Travelled with 'Profit / Km' (-0). This warrants further investigation to see which company is less efficient for longer trips.\n",
    "\n",
    "* We can see that profit values have a moderate corellation (0.54) with the size of the population of a city, and a slightly weaker corellation with the number of registered Cab users in a city. We can conclude that larger cities are generally more profitable than smaller cities. We can further check which companies take are more profitable in the bigger cities.\n",
    "\n",
    "* An interesting observation is that 'Profit / Km' has a strong correlation (0.7) with the size of the population of a city and a slightly smaller but still significant correlation with the number of registered users in a city at 0.59.\n",
    "\n",
    "* We can also see that the % of registered cab users in a city is moderately negatively correlated (-0.5) with the size of the population, so we can infer that larger cities have a smaller % of their population as registerred Cab users."
   ]
  },
  {
   "cell_type": "markdown",
   "id": "2ca9548b",
   "metadata": {},
   "source": [
    "#### Aggregating the data by company to determine the size of each company:"
   ]
  },
  {
   "cell_type": "code",
   "execution_count": 42,
   "id": "d2e19152",
   "metadata": {
    "scrolled": true
   },
   "outputs": [
    {
     "data": {
      "text/html": [
       "<div>\n",
       "<style scoped>\n",
       "    .dataframe tbody tr th:only-of-type {\n",
       "        vertical-align: middle;\n",
       "    }\n",
       "\n",
       "    .dataframe tbody tr th {\n",
       "        vertical-align: top;\n",
       "    }\n",
       "\n",
       "    .dataframe thead th {\n",
       "        text-align: right;\n",
       "    }\n",
       "</style>\n",
       "<table border=\"1\" class=\"dataframe\">\n",
       "  <thead>\n",
       "    <tr style=\"text-align: right;\">\n",
       "      <th></th>\n",
       "      <th>KM Travelled</th>\n",
       "      <th>Price Charged</th>\n",
       "      <th>Cost of Trip</th>\n",
       "      <th>Profit</th>\n",
       "      <th>Profit / Km</th>\n",
       "      <th>Cost / Km</th>\n",
       "    </tr>\n",
       "    <tr>\n",
       "      <th>Company</th>\n",
       "      <th></th>\n",
       "      <th></th>\n",
       "      <th></th>\n",
       "      <th></th>\n",
       "      <th></th>\n",
       "      <th></th>\n",
       "    </tr>\n",
       "  </thead>\n",
       "  <tbody>\n",
       "    <tr>\n",
       "      <th>Pink Cab</th>\n",
       "      <td>22.56</td>\n",
       "      <td>310.80</td>\n",
       "      <td>248.15</td>\n",
       "      <td>62.65</td>\n",
       "      <td>2.77</td>\n",
       "      <td>11.0</td>\n",
       "    </tr>\n",
       "    <tr>\n",
       "      <th>Yellow Cab</th>\n",
       "      <td>22.57</td>\n",
       "      <td>458.18</td>\n",
       "      <td>297.92</td>\n",
       "      <td>160.26</td>\n",
       "      <td>7.11</td>\n",
       "      <td>13.2</td>\n",
       "    </tr>\n",
       "  </tbody>\n",
       "</table>\n",
       "</div>"
      ],
      "text/plain": [
       "            KM Travelled  Price Charged  Cost of Trip  Profit  Profit / Km  \\\n",
       "Company                                                                      \n",
       "Pink Cab           22.56         310.80        248.15   62.65         2.77   \n",
       "Yellow Cab         22.57         458.18        297.92  160.26         7.11   \n",
       "\n",
       "            Cost / Km  \n",
       "Company                \n",
       "Pink Cab         11.0  \n",
       "Yellow Cab       13.2  "
      ]
     },
     "execution_count": 42,
     "metadata": {},
     "output_type": "execute_result"
    }
   ],
   "source": [
    "# Grouping by company and checking the mean of below features:\n",
    "# Other features were removed because they are repeated values.\n",
    "columns = ['Company', 'KM Travelled', 'Price Charged', 'Cost of Trip', 'Profit', 'Profit / Km', 'Cost / Km']\n",
    "\n",
    "agg_data =  dataset[columns].groupby(['Company']).mean().round(2)\n",
    "\n",
    "agg_data.head()"
   ]
  },
  {
   "cell_type": "code",
   "execution_count": 43,
   "id": "0c45c919",
   "metadata": {
    "scrolled": false
   },
   "outputs": [
    {
     "data": {
      "text/plain": [
       "array([[<AxesSubplot:title={'center':'KM Travelled'}, xlabel='Company'>,\n",
       "        <AxesSubplot:title={'center':'Price Charged'}, xlabel='Company'>,\n",
       "        <AxesSubplot:title={'center':'Cost of Trip'}, xlabel='Company'>,\n",
       "        <AxesSubplot:title={'center':'Profit'}, xlabel='Company'>,\n",
       "        <AxesSubplot:title={'center':'Profit / Km'}, xlabel='Company'>,\n",
       "        <AxesSubplot:title={'center':'Cost / Km'}, xlabel='Company'>]],\n",
       "      dtype=object)"
      ]
     },
     "execution_count": 43,
     "metadata": {},
     "output_type": "execute_result"
    },
    {
     "data": {
      "image/png": "[encoded data removed]",
      "text/plain": [
       "<Figure size 1296x288 with 6 Axes>"
      ]
     },
     "metadata": {
      "needs_background": "light"
     },
     "output_type": "display_data"
    }
   ],
   "source": [
    "agg_data.plot(kind='bar', subplots=True, figsize=(18,4), layout=(1,6), legend=False)"
   ]
  },
  {
   "cell_type": "markdown",
   "id": "a849c6d4",
   "metadata": {},
   "source": [
    "1 - We can see that both companies cover roughly an average of 22.6km per trip\n",
    "\n",
    "2 - Average charge per trip for yellow cab is 458 while average charge per trip of pink cab is 310 - which is a big difference\n",
    "\n",
    "3 - Average cost per trip was also higher for yellow cab (297) compared to average cost for pink cab of 248\n",
    "\n",
    "4 - Average profit is much higher for yellow cab at 160 vs 62 for pink cab\n",
    "\n",
    "5- Average profit per km is much greater for yellow cab at 7.1$  vs  2.7$ for pink cab as expected.\n",
    "\n",
    "6 - Average cost per km is lower for pink cab at 11$ per km vs  as expected from point 3 above.\n",
    "\n",
    "* We can see from the first set of visualizations that yellow cab is much more profitable than pink cab company despite pink cab being more efficient and having lower cost per trip than yellow cab.\n",
    "\n",
    "* Yellow cab is more than twice as profitable as pink cab on average per trip and per km travelled."
   ]
  },
  {
   "cell_type": "markdown",
   "id": "17153c38",
   "metadata": {},
   "source": [
    "#### Checking number of trips per company in the 3 years "
   ]
  },
  {
   "cell_type": "code",
   "execution_count": 44,
   "id": "c047633e",
   "metadata": {
    "scrolled": false
   },
   "outputs": [
    {
     "name": "stdout",
     "output_type": "stream",
     "text": [
      "Company\n",
      "Pink Cab       84710\n",
      "Yellow Cab    274674\n",
      "Name: Transaction ID, dtype: int64\n"
     ]
    },
    {
     "data": {
      "text/plain": [
       "<AxesSubplot:title={'center':'Total Company Trips'}, xlabel='Company', ylabel=' Number of Trips'>"
      ]
     },
     "execution_count": 44,
     "metadata": {},
     "output_type": "execute_result"
    },
    {
     "data": {
      "image/png": "[encoded data removed]",
      "text/plain": [
       "<Figure size 432x288 with 1 Axes>"
      ]
     },
     "metadata": {
      "needs_background": "light"
     },
     "output_type": "display_data"
    }
   ],
   "source": [
    "# Checking numer of trips per company:\n",
    "\n",
    "company_trips = dataset.groupby(['Company'])['Transaction ID'].count()\n",
    "\n",
    "print(company_trips.head())\n",
    "\n",
    "company_trips.plot(kind='bar', title='Total Company Trips', ylabel=' Number of Trips')"
   ]
  },
  {
   "cell_type": "markdown",
   "id": "6f55f254",
   "metadata": {},
   "source": [
    "* Yellow Cab Company has more than 3 times total trips as Pink Cab."
   ]
  },
  {
   "cell_type": "markdown",
   "id": "b2f64d90",
   "metadata": {},
   "source": [
    "#### Checking Total profit and KM covered for each company over 3 years."
   ]
  },
  {
   "cell_type": "code",
   "execution_count": 45,
   "id": "d44990d2",
   "metadata": {
    "scrolled": true
   },
   "outputs": [
    {
     "data": {
      "text/html": [
       "<div>\n",
       "<style scoped>\n",
       "    .dataframe tbody tr th:only-of-type {\n",
       "        vertical-align: middle;\n",
       "    }\n",
       "\n",
       "    .dataframe tbody tr th {\n",
       "        vertical-align: top;\n",
       "    }\n",
       "\n",
       "    .dataframe thead th {\n",
       "        text-align: right;\n",
       "    }\n",
       "</style>\n",
       "<table border=\"1\" class=\"dataframe\">\n",
       "  <thead>\n",
       "    <tr style=\"text-align: right;\">\n",
       "      <th></th>\n",
       "      <th>KM Travelled</th>\n",
       "      <th>Profit</th>\n",
       "    </tr>\n",
       "    <tr>\n",
       "      <th>Company</th>\n",
       "      <th></th>\n",
       "      <th></th>\n",
       "    </tr>\n",
       "  </thead>\n",
       "  <tbody>\n",
       "    <tr>\n",
       "      <th>Pink Cab</th>\n",
       "      <td>1911036.73</td>\n",
       "      <td>5307259.07</td>\n",
       "    </tr>\n",
       "    <tr>\n",
       "      <th>Yellow Cab</th>\n",
       "      <td>6199216.83</td>\n",
       "      <td>44019262.84</td>\n",
       "    </tr>\n",
       "  </tbody>\n",
       "</table>\n",
       "</div>"
      ],
      "text/plain": [
       "            KM Travelled       Profit\n",
       "Company                              \n",
       "Pink Cab      1911036.73   5307259.07\n",
       "Yellow Cab    6199216.83  44019262.84"
      ]
     },
     "execution_count": 45,
     "metadata": {},
     "output_type": "execute_result"
    }
   ],
   "source": [
    "company_profit_and_distance = dataset.groupby(['Company'])[['KM Travelled', 'Profit']].sum().round(2)\n",
    "\n",
    "company_profit_and_distance"
   ]
  },
  {
   "cell_type": "code",
   "execution_count": 46,
   "id": "315cbb0f",
   "metadata": {},
   "outputs": [
    {
     "data": {
      "text/plain": [
       "array([[<AxesSubplot:title={'center':'KM Travelled'}, xlabel='Company'>,\n",
       "        <AxesSubplot:title={'center':'Profit'}, xlabel='Company'>]],\n",
       "      dtype=object)"
      ]
     },
     "execution_count": 46,
     "metadata": {},
     "output_type": "execute_result"
    },
    {
     "data": {
      "image/png": "[encoded data removed]",
      "text/plain": [
       "<Figure size 432x288 with 2 Axes>"
      ]
     },
     "metadata": {
      "needs_background": "light"
     },
     "output_type": "display_data"
    }
   ],
   "source": [
    "company_profit_and_distance.plot(kind='bar', subplots=True, layout=(1,2), figsize=(6,4), legend=False)"
   ]
  },
  {
   "cell_type": "markdown",
   "id": "7ba59ec4",
   "metadata": {},
   "source": [
    "\n",
    "\n",
    "* Yellow Cab company has conducted more than 3 times the number of trips as pink cab company with 27.4K trips for yellow cab vs 8.4K trips for pink cab.\n",
    "\n",
    "* Total km travelled for yellow cab company more than 3 times the total km covered by pink cab company, with 6,199,216 km covered by yellow cab vs 1,911,036 km for pink cab company.\n",
    "\n",
    "* Yellow cab company generated 8.29 times the profit of pink cab company over the 3 year period - with yellow cab generating 44 million dollars in profit vs 5.3 million dollars generated by pink cab company over the same period.\n",
    "\n",
    "We can see that Yellow cab company is running a much larger operation compared to pink cab company with more than 3 times the trips, 3 times the total distance covered, and 8.3 times the profit, compared to pink cab company, over a 3 year period."
   ]
  },
  {
   "cell_type": "markdown",
   "id": "8d467668",
   "metadata": {},
   "source": [
    "### Investigating some features to determine company specific operational trends:\n",
    "\n",
    "#### Checking payment modes and how much of each mode is utilized by each company."
   ]
  },
  {
   "cell_type": "code",
   "execution_count": 47,
   "id": "0d55ab14",
   "metadata": {
    "scrolled": false
   },
   "outputs": [
    {
     "data": {
      "text/plain": [
       "Company     Payment_Mode\n",
       "Pink Cab    Card             50719\n",
       "            Cash             33991\n",
       "Yellow Cab  Card            164781\n",
       "            Cash            109893\n",
       "Name: Payment_Mode, dtype: int64"
      ]
     },
     "execution_count": 47,
     "metadata": {},
     "output_type": "execute_result"
    }
   ],
   "source": [
    "payment_mode = dataset.groupby(['Company', 'Payment_Mode'])['Payment_Mode'].count()\n",
    "\n",
    "payment_mode.head()"
   ]
  },
  {
   "cell_type": "markdown",
   "id": "da94b771",
   "metadata": {},
   "source": [
    "* Both companies receive roughly 40% of their payments in cash while the rest is received via card payment."
   ]
  },
  {
   "cell_type": "code",
   "execution_count": 48,
   "id": "072bc0e2",
   "metadata": {},
   "outputs": [
    {
     "data": {
      "text/plain": [
       "Company\n",
       "Pink Cab      32330\n",
       "Yellow Cab    39896\n",
       "Name: Customer ID, dtype: int64"
      ]
     },
     "execution_count": 48,
     "metadata": {},
     "output_type": "execute_result"
    }
   ],
   "source": [
    "# Calculating the number of unique users who used each company during the 3 year period:\n",
    "company_users = dataset.groupby(['Company'])['Customer ID'].unique().apply(lambda x: len(x))\n",
    "\n",
    "company_users"
   ]
  },
  {
   "cell_type": "code",
   "execution_count": 49,
   "id": "0c7dc8b2",
   "metadata": {},
   "outputs": [
    {
     "data": {
      "text/plain": [
       "46148"
      ]
     },
     "execution_count": 49,
     "metadata": {},
     "output_type": "execute_result"
    }
   ],
   "source": [
    "# Comparing above against total unique customer IDs in the whole dataset:\n",
    "len(dataset['Customer ID'].unique())"
   ]
  },
  {
   "cell_type": "markdown",
   "id": "ade63326",
   "metadata": {},
   "source": [
    "Pink cab has served approximately 70% of the total users included in our dataset\n",
    "\n",
    "Yellow cab has served approximately 86% of the total users included in our dataset\n",
    "\n",
    "It must be noted that many customers used services from both companies."
   ]
  },
  {
   "cell_type": "markdown",
   "id": "fd8b16ce",
   "metadata": {},
   "source": [
    "#### Checking how many times on average each user used both companies, as well as the maximum number of trips by a user of each:"
   ]
  },
  {
   "cell_type": "code",
   "execution_count": 50,
   "id": "53df05da",
   "metadata": {
    "scrolled": false
   },
   "outputs": [
    {
     "data": {
      "text/html": [
       "<div>\n",
       "<style scoped>\n",
       "    .dataframe tbody tr th:only-of-type {\n",
       "        vertical-align: middle;\n",
       "    }\n",
       "\n",
       "    .dataframe tbody tr th {\n",
       "        vertical-align: top;\n",
       "    }\n",
       "\n",
       "    .dataframe thead th {\n",
       "        text-align: right;\n",
       "    }\n",
       "</style>\n",
       "<table border=\"1\" class=\"dataframe\">\n",
       "  <thead>\n",
       "    <tr style=\"text-align: right;\">\n",
       "      <th></th>\n",
       "      <th>Transaction ID</th>\n",
       "    </tr>\n",
       "    <tr>\n",
       "      <th>Company</th>\n",
       "      <th></th>\n",
       "    </tr>\n",
       "  </thead>\n",
       "  <tbody>\n",
       "    <tr>\n",
       "      <th>Pink Cab</th>\n",
       "      <td>2.620167</td>\n",
       "    </tr>\n",
       "    <tr>\n",
       "      <th>Yellow Cab</th>\n",
       "      <td>6.884750</td>\n",
       "    </tr>\n",
       "  </tbody>\n",
       "</table>\n",
       "</div>"
      ],
      "text/plain": [
       "            Transaction ID\n",
       "Company                   \n",
       "Pink Cab          2.620167\n",
       "Yellow Cab        6.884750"
      ]
     },
     "execution_count": 50,
     "metadata": {},
     "output_type": "execute_result"
    }
   ],
   "source": [
    "# Getting the average trips per user for each cab company:\n",
    "avg_trips_peruser = dataset.groupby(['Company', 'Customer ID'])[['Transaction ID']].count().groupby(['Company']).mean()\n",
    "\n",
    "avg_trips_peruser"
   ]
  },
  {
   "cell_type": "code",
   "execution_count": 51,
   "id": "e6aafeb2",
   "metadata": {
    "scrolled": false
   },
   "outputs": [
    {
     "data": {
      "text/plain": [
       "<AxesSubplot:title={'center':'Average Trips per User'}, xlabel='Company', ylabel='Average number of Trips'>"
      ]
     },
     "execution_count": 51,
     "metadata": {},
     "output_type": "execute_result"
    },
    {
     "data": {
      "image/png": "[encoded data removed]",
      "text/plain": [
       "<Figure size 360x360 with 1 Axes>"
      ]
     },
     "metadata": {
      "needs_background": "light"
     },
     "output_type": "display_data"
    }
   ],
   "source": [
    "avg_trips_peruser.plot(kind='bar', legend=False, figsize=(5,5), title='Average Trips per User', ylabel='Average number of Trips')"
   ]
  },
  {
   "cell_type": "code",
   "execution_count": 52,
   "id": "aac80124",
   "metadata": {
    "scrolled": true
   },
   "outputs": [
    {
     "data": {
      "text/html": [
       "<div>\n",
       "<style scoped>\n",
       "    .dataframe tbody tr th:only-of-type {\n",
       "        vertical-align: middle;\n",
       "    }\n",
       "\n",
       "    .dataframe tbody tr th {\n",
       "        vertical-align: top;\n",
       "    }\n",
       "\n",
       "    .dataframe thead th {\n",
       "        text-align: right;\n",
       "    }\n",
       "</style>\n",
       "<table border=\"1\" class=\"dataframe\">\n",
       "  <thead>\n",
       "    <tr style=\"text-align: right;\">\n",
       "      <th></th>\n",
       "      <th>Transaction ID</th>\n",
       "    </tr>\n",
       "    <tr>\n",
       "      <th>Company</th>\n",
       "      <th></th>\n",
       "    </tr>\n",
       "  </thead>\n",
       "  <tbody>\n",
       "    <tr>\n",
       "      <th>Pink Cab</th>\n",
       "      <td>18</td>\n",
       "    </tr>\n",
       "    <tr>\n",
       "      <th>Yellow Cab</th>\n",
       "      <td>47</td>\n",
       "    </tr>\n",
       "  </tbody>\n",
       "</table>\n",
       "</div>"
      ],
      "text/plain": [
       "            Transaction ID\n",
       "Company                   \n",
       "Pink Cab                18\n",
       "Yellow Cab              47"
      ]
     },
     "execution_count": 52,
     "metadata": {},
     "output_type": "execute_result"
    }
   ],
   "source": [
    "# Getting the highest number of trips for a single user for each company:\n",
    "max_trips_peruser = dataset.groupby(['Company', 'Customer ID'])[['Transaction ID']].count().groupby(['Company']).max()\n",
    "\n",
    "max_trips_peruser"
   ]
  },
  {
   "cell_type": "code",
   "execution_count": 53,
   "id": "f582523d",
   "metadata": {},
   "outputs": [
    {
     "data": {
      "text/plain": [
       "<AxesSubplot:title={'center':'Maximum number of Trips by single user'}, xlabel='Company', ylabel='Amount of Trips'>"
      ]
     },
     "execution_count": 53,
     "metadata": {},
     "output_type": "execute_result"
    },
    {
     "data": {
      "image/png": "[encoded data removed]",
      "text/plain": [
       "<Figure size 432x288 with 1 Axes>"
      ]
     },
     "metadata": {
      "needs_background": "light"
     },
     "output_type": "display_data"
    }
   ],
   "source": [
    "max_trips_peruser.plot(kind='bar', legend=False, title='Maximum number of Trips by single user', ylabel='Amount of Trips')"
   ]
  },
  {
   "cell_type": "markdown",
   "id": "9c371b81",
   "metadata": {},
   "source": [
    "1- We can see from the results above that throughout the 3 year period, each pink cab customer used pink cab an average of 2.6 times. For the same 3 year period, each yellow cab customer used yellow cab 6.88 times on average.\n",
    "\n",
    "2- The maximum number of trips for pink cab by a single customer is 18 trips, while the maximum number of trips by yellow cab for a single customer is 47.\n",
    "\n",
    "* We can conclude that Yellow Cab has much higher customer loyalty and their customers use their services much more often.\n",
    "\n",
    "* We can start to make conclusions about the quality of service of yellow cab being much higher than pink cab and users prefer using yellow cab in general."
   ]
  },
  {
   "cell_type": "markdown",
   "id": "38bc8fe4",
   "metadata": {},
   "source": [
    "#### Checking the number of cities coverred by each cab company:"
   ]
  },
  {
   "cell_type": "code",
   "execution_count": 54,
   "id": "b598e4ae",
   "metadata": {
    "scrolled": true
   },
   "outputs": [
    {
     "data": {
      "text/html": [
       "<div>\n",
       "<style scoped>\n",
       "    .dataframe tbody tr th:only-of-type {\n",
       "        vertical-align: middle;\n",
       "    }\n",
       "\n",
       "    .dataframe tbody tr th {\n",
       "        vertical-align: top;\n",
       "    }\n",
       "\n",
       "    .dataframe thead th {\n",
       "        text-align: right;\n",
       "    }\n",
       "</style>\n",
       "<table border=\"1\" class=\"dataframe\">\n",
       "  <thead>\n",
       "    <tr style=\"text-align: right;\">\n",
       "      <th></th>\n",
       "      <th>City</th>\n",
       "    </tr>\n",
       "    <tr>\n",
       "      <th>Company</th>\n",
       "      <th></th>\n",
       "    </tr>\n",
       "  </thead>\n",
       "  <tbody>\n",
       "    <tr>\n",
       "      <th>Pink Cab</th>\n",
       "      <td>19</td>\n",
       "    </tr>\n",
       "    <tr>\n",
       "      <th>Yellow Cab</th>\n",
       "      <td>19</td>\n",
       "    </tr>\n",
       "  </tbody>\n",
       "</table>\n",
       "</div>"
      ],
      "text/plain": [
       "            City\n",
       "Company         \n",
       "Pink Cab      19\n",
       "Yellow Cab    19"
      ]
     },
     "execution_count": 54,
     "metadata": {},
     "output_type": "execute_result"
    }
   ],
   "source": [
    "# Checking number of cities covered by each company:\n",
    "cities_covered = dataset.groupby(['Company', 'City'])[['City']].count().groupby(['Company']).count()\n",
    "\n",
    "cities_covered"
   ]
  },
  {
   "cell_type": "markdown",
   "id": "437edd1b",
   "metadata": {},
   "source": [
    "#### Checking company profit by Quarter:"
   ]
  },
  {
   "cell_type": "code",
   "execution_count": 55,
   "id": "b18f9b62",
   "metadata": {
    "scrolled": true
   },
   "outputs": [],
   "source": [
    "# Sorting our dataset by date - date sorted data\n",
    "ds_data = dataset.sort_values(by='Date of Travel')\n",
    "\n",
    "ds_data = ds_data.reset_index(drop=True)"
   ]
  },
  {
   "cell_type": "code",
   "execution_count": 56,
   "id": "45a56945",
   "metadata": {},
   "outputs": [
    {
     "data": {
      "text/html": [
       "<div>\n",
       "<style scoped>\n",
       "    .dataframe tbody tr th:only-of-type {\n",
       "        vertical-align: middle;\n",
       "    }\n",
       "\n",
       "    .dataframe tbody tr th {\n",
       "        vertical-align: top;\n",
       "    }\n",
       "\n",
       "    .dataframe thead th {\n",
       "        text-align: right;\n",
       "    }\n",
       "</style>\n",
       "<table border=\"1\" class=\"dataframe\">\n",
       "  <thead>\n",
       "    <tr style=\"text-align: right;\">\n",
       "      <th></th>\n",
       "      <th>Transaction ID</th>\n",
       "      <th>Date of Travel</th>\n",
       "      <th>Company</th>\n",
       "      <th>City</th>\n",
       "      <th>KM Travelled</th>\n",
       "      <th>Price Charged</th>\n",
       "      <th>Cost of Trip</th>\n",
       "      <th>Profit</th>\n",
       "      <th>Profit / Km</th>\n",
       "      <th>Cost / Km</th>\n",
       "      <th>Customer ID</th>\n",
       "      <th>Payment_Mode</th>\n",
       "      <th>Gender</th>\n",
       "      <th>Age</th>\n",
       "      <th>Income (USD/Month)</th>\n",
       "      <th>Population</th>\n",
       "      <th>Users</th>\n",
       "      <th>Users % Population</th>\n",
       "    </tr>\n",
       "  </thead>\n",
       "  <tbody>\n",
       "    <tr>\n",
       "      <th>0</th>\n",
       "      <td>10001001</td>\n",
       "      <td>2016-01-04</td>\n",
       "      <td>Yellow Cab</td>\n",
       "      <td>NEW YORK NY</td>\n",
       "      <td>46.80</td>\n",
       "      <td>1391.91</td>\n",
       "      <td>595.2960</td>\n",
       "      <td>796.6140</td>\n",
       "      <td>17.021667</td>\n",
       "      <td>12.72</td>\n",
       "      <td>2761</td>\n",
       "      <td>Card</td>\n",
       "      <td>Male</td>\n",
       "      <td>40</td>\n",
       "      <td>11462</td>\n",
       "      <td>8405837</td>\n",
       "      <td>302149</td>\n",
       "      <td>3.594514</td>\n",
       "    </tr>\n",
       "    <tr>\n",
       "      <th>1</th>\n",
       "      <td>10000519</td>\n",
       "      <td>2016-01-04</td>\n",
       "      <td>Yellow Cab</td>\n",
       "      <td>CHICAGO IL</td>\n",
       "      <td>13.92</td>\n",
       "      <td>327.23</td>\n",
       "      <td>185.4144</td>\n",
       "      <td>141.8156</td>\n",
       "      <td>10.187902</td>\n",
       "      <td>13.32</td>\n",
       "      <td>4429</td>\n",
       "      <td>Cash</td>\n",
       "      <td>Male</td>\n",
       "      <td>20</td>\n",
       "      <td>23387</td>\n",
       "      <td>1955130</td>\n",
       "      <td>164468</td>\n",
       "      <td>8.412126</td>\n",
       "    </tr>\n",
       "    <tr>\n",
       "      <th>2</th>\n",
       "      <td>10000356</td>\n",
       "      <td>2016-01-04</td>\n",
       "      <td>Pink Cab</td>\n",
       "      <td>SEATTLE WA</td>\n",
       "      <td>14.95</td>\n",
       "      <td>171.47</td>\n",
       "      <td>171.9250</td>\n",
       "      <td>-0.4550</td>\n",
       "      <td>-0.030435</td>\n",
       "      <td>11.50</td>\n",
       "      <td>38635</td>\n",
       "      <td>Card</td>\n",
       "      <td>Male</td>\n",
       "      <td>31</td>\n",
       "      <td>24682</td>\n",
       "      <td>671238</td>\n",
       "      <td>25063</td>\n",
       "      <td>3.733847</td>\n",
       "    </tr>\n",
       "    <tr>\n",
       "      <th>3</th>\n",
       "      <td>10000357</td>\n",
       "      <td>2016-01-04</td>\n",
       "      <td>Pink Cab</td>\n",
       "      <td>SEATTLE WA</td>\n",
       "      <td>20.52</td>\n",
       "      <td>259.13</td>\n",
       "      <td>244.1880</td>\n",
       "      <td>14.9420</td>\n",
       "      <td>0.728168</td>\n",
       "      <td>11.90</td>\n",
       "      <td>38494</td>\n",
       "      <td>Card</td>\n",
       "      <td>Male</td>\n",
       "      <td>33</td>\n",
       "      <td>33892</td>\n",
       "      <td>671238</td>\n",
       "      <td>25063</td>\n",
       "      <td>3.733847</td>\n",
       "    </tr>\n",
       "    <tr>\n",
       "      <th>4</th>\n",
       "      <td>10001328</td>\n",
       "      <td>2016-01-04</td>\n",
       "      <td>Yellow Cab</td>\n",
       "      <td>WASHINGTON DC</td>\n",
       "      <td>19.38</td>\n",
       "      <td>439.58</td>\n",
       "      <td>272.0952</td>\n",
       "      <td>167.4848</td>\n",
       "      <td>8.642147</td>\n",
       "      <td>14.04</td>\n",
       "      <td>51745</td>\n",
       "      <td>Cash</td>\n",
       "      <td>Male</td>\n",
       "      <td>27</td>\n",
       "      <td>15072</td>\n",
       "      <td>418859</td>\n",
       "      <td>127001</td>\n",
       "      <td>30.320705</td>\n",
       "    </tr>\n",
       "  </tbody>\n",
       "</table>\n",
       "</div>"
      ],
      "text/plain": [
       "   Transaction ID Date of Travel     Company           City  KM Travelled  \\\n",
       "0        10001001     2016-01-04  Yellow Cab    NEW YORK NY         46.80   \n",
       "1        10000519     2016-01-04  Yellow Cab     CHICAGO IL         13.92   \n",
       "2        10000356     2016-01-04    Pink Cab     SEATTLE WA         14.95   \n",
       "3        10000357     2016-01-04    Pink Cab     SEATTLE WA         20.52   \n",
       "4        10001328     2016-01-04  Yellow Cab  WASHINGTON DC         19.38   \n",
       "\n",
       "   Price Charged  Cost of Trip    Profit  Profit / Km  Cost / Km  Customer ID  \\\n",
       "0        1391.91      595.2960  796.6140    17.021667      12.72         2761   \n",
       "1         327.23      185.4144  141.8156    10.187902      13.32         4429   \n",
       "2         171.47      171.9250   -0.4550    -0.030435      11.50        38635   \n",
       "3         259.13      244.1880   14.9420     0.728168      11.90        38494   \n",
       "4         439.58      272.0952  167.4848     8.642147      14.04        51745   \n",
       "\n",
       "  Payment_Mode Gender  Age  Income (USD/Month)  Population   Users  \\\n",
       "0         Card   Male   40               11462     8405837  302149   \n",
       "1         Cash   Male   20               23387     1955130  164468   \n",
       "2         Card   Male   31               24682      671238   25063   \n",
       "3         Card   Male   33               33892      671238   25063   \n",
       "4         Cash   Male   27               15072      418859  127001   \n",
       "\n",
       "   Users % Population  \n",
       "0            3.594514  \n",
       "1            8.412126  \n",
       "2            3.733847  \n",
       "3            3.733847  \n",
       "4           30.320705  "
      ]
     },
     "execution_count": 56,
     "metadata": {},
     "output_type": "execute_result"
    }
   ],
   "source": [
    "ds_data.head()"
   ]
  },
  {
   "cell_type": "code",
   "execution_count": 57,
   "id": "df80a36b",
   "metadata": {
    "scrolled": true
   },
   "outputs": [
    {
     "data": {
      "text/html": [
       "<div>\n",
       "<style scoped>\n",
       "    .dataframe tbody tr th:only-of-type {\n",
       "        vertical-align: middle;\n",
       "    }\n",
       "\n",
       "    .dataframe tbody tr th {\n",
       "        vertical-align: top;\n",
       "    }\n",
       "\n",
       "    .dataframe thead th {\n",
       "        text-align: right;\n",
       "    }\n",
       "</style>\n",
       "<table border=\"1\" class=\"dataframe\">\n",
       "  <thead>\n",
       "    <tr style=\"text-align: right;\">\n",
       "      <th></th>\n",
       "      <th>Transaction ID</th>\n",
       "      <th>Date of Travel</th>\n",
       "      <th>Company</th>\n",
       "      <th>City</th>\n",
       "      <th>KM Travelled</th>\n",
       "      <th>Price Charged</th>\n",
       "      <th>Cost of Trip</th>\n",
       "      <th>Profit</th>\n",
       "      <th>Profit / Km</th>\n",
       "      <th>Cost / Km</th>\n",
       "      <th>Customer ID</th>\n",
       "      <th>Payment_Mode</th>\n",
       "      <th>Gender</th>\n",
       "      <th>Age</th>\n",
       "      <th>Income (USD/Month)</th>\n",
       "      <th>Population</th>\n",
       "      <th>Users</th>\n",
       "      <th>Users % Population</th>\n",
       "    </tr>\n",
       "  </thead>\n",
       "  <tbody>\n",
       "    <tr>\n",
       "      <th>359379</th>\n",
       "      <td>10434824</td>\n",
       "      <td>2019-01-02</td>\n",
       "      <td>Yellow Cab</td>\n",
       "      <td>LOS ANGELES CA</td>\n",
       "      <td>33.35</td>\n",
       "      <td>566.17</td>\n",
       "      <td>412.2060</td>\n",
       "      <td>153.9640</td>\n",
       "      <td>4.616612</td>\n",
       "      <td>12.36</td>\n",
       "      <td>7302</td>\n",
       "      <td>Card</td>\n",
       "      <td>Male</td>\n",
       "      <td>37</td>\n",
       "      <td>26726</td>\n",
       "      <td>1595037</td>\n",
       "      <td>144132</td>\n",
       "      <td>9.036279</td>\n",
       "    </tr>\n",
       "    <tr>\n",
       "      <th>359380</th>\n",
       "      <td>10439214</td>\n",
       "      <td>2019-01-02</td>\n",
       "      <td>Yellow Cab</td>\n",
       "      <td>NEW YORK NY</td>\n",
       "      <td>12.60</td>\n",
       "      <td>276.52</td>\n",
       "      <td>172.3680</td>\n",
       "      <td>104.1520</td>\n",
       "      <td>8.266032</td>\n",
       "      <td>13.68</td>\n",
       "      <td>1568</td>\n",
       "      <td>Cash</td>\n",
       "      <td>Female</td>\n",
       "      <td>34</td>\n",
       "      <td>2799</td>\n",
       "      <td>8405837</td>\n",
       "      <td>302149</td>\n",
       "      <td>3.594514</td>\n",
       "    </tr>\n",
       "    <tr>\n",
       "      <th>359381</th>\n",
       "      <td>10434955</td>\n",
       "      <td>2019-01-02</td>\n",
       "      <td>Yellow Cab</td>\n",
       "      <td>LOS ANGELES CA</td>\n",
       "      <td>18.72</td>\n",
       "      <td>353.47</td>\n",
       "      <td>265.0752</td>\n",
       "      <td>88.3948</td>\n",
       "      <td>4.721944</td>\n",
       "      <td>14.16</td>\n",
       "      <td>7207</td>\n",
       "      <td>Card</td>\n",
       "      <td>Male</td>\n",
       "      <td>26</td>\n",
       "      <td>8194</td>\n",
       "      <td>1595037</td>\n",
       "      <td>144132</td>\n",
       "      <td>9.036279</td>\n",
       "    </tr>\n",
       "    <tr>\n",
       "      <th>359382</th>\n",
       "      <td>10434224</td>\n",
       "      <td>2019-01-02</td>\n",
       "      <td>Yellow Cab</td>\n",
       "      <td>BOSTON MA</td>\n",
       "      <td>30.07</td>\n",
       "      <td>446.61</td>\n",
       "      <td>433.0080</td>\n",
       "      <td>13.6020</td>\n",
       "      <td>0.452345</td>\n",
       "      <td>14.40</td>\n",
       "      <td>58956</td>\n",
       "      <td>Card</td>\n",
       "      <td>Male</td>\n",
       "      <td>39</td>\n",
       "      <td>24646</td>\n",
       "      <td>248968</td>\n",
       "      <td>80021</td>\n",
       "      <td>32.141078</td>\n",
       "    </tr>\n",
       "    <tr>\n",
       "      <th>359383</th>\n",
       "      <td>10436538</td>\n",
       "      <td>2019-01-02</td>\n",
       "      <td>Yellow Cab</td>\n",
       "      <td>WASHINGTON DC</td>\n",
       "      <td>8.91</td>\n",
       "      <td>133.55</td>\n",
       "      <td>115.4736</td>\n",
       "      <td>18.0764</td>\n",
       "      <td>2.028777</td>\n",
       "      <td>12.96</td>\n",
       "      <td>51137</td>\n",
       "      <td>Cash</td>\n",
       "      <td>Male</td>\n",
       "      <td>33</td>\n",
       "      <td>14492</td>\n",
       "      <td>418859</td>\n",
       "      <td>127001</td>\n",
       "      <td>30.320705</td>\n",
       "    </tr>\n",
       "  </tbody>\n",
       "</table>\n",
       "</div>"
      ],
      "text/plain": [
       "        Transaction ID Date of Travel     Company            City  \\\n",
       "359379        10434824     2019-01-02  Yellow Cab  LOS ANGELES CA   \n",
       "359380        10439214     2019-01-02  Yellow Cab     NEW YORK NY   \n",
       "359381        10434955     2019-01-02  Yellow Cab  LOS ANGELES CA   \n",
       "359382        10434224     2019-01-02  Yellow Cab       BOSTON MA   \n",
       "359383        10436538     2019-01-02  Yellow Cab   WASHINGTON DC   \n",
       "\n",
       "        KM Travelled  Price Charged  Cost of Trip    Profit  Profit / Km  \\\n",
       "359379         33.35         566.17      412.2060  153.9640     4.616612   \n",
       "359380         12.60         276.52      172.3680  104.1520     8.266032   \n",
       "359381         18.72         353.47      265.0752   88.3948     4.721944   \n",
       "359382         30.07         446.61      433.0080   13.6020     0.452345   \n",
       "359383          8.91         133.55      115.4736   18.0764     2.028777   \n",
       "\n",
       "        Cost / Km  Customer ID Payment_Mode  Gender  Age  Income (USD/Month)  \\\n",
       "359379      12.36         7302         Card    Male   37               26726   \n",
       "359380      13.68         1568         Cash  Female   34                2799   \n",
       "359381      14.16         7207         Card    Male   26                8194   \n",
       "359382      14.40        58956         Card    Male   39               24646   \n",
       "359383      12.96        51137         Cash    Male   33               14492   \n",
       "\n",
       "        Population   Users  Users % Population  \n",
       "359379     1595037  144132            9.036279  \n",
       "359380     8405837  302149            3.594514  \n",
       "359381     1595037  144132            9.036279  \n",
       "359382      248968   80021           32.141078  \n",
       "359383      418859  127001           30.320705  "
      ]
     },
     "execution_count": 57,
     "metadata": {},
     "output_type": "execute_result"
    }
   ],
   "source": [
    "ds_data.tail()"
   ]
  },
  {
   "cell_type": "code",
   "execution_count": 58,
   "id": "b70ec158",
   "metadata": {
    "scrolled": false
   },
   "outputs": [],
   "source": [
    "# Change date to datetime format for grouper object to work\n",
    "ds_data['Date of Travel'] = pd.to_datetime(ds_data['Date of Travel'])\n",
    "\n",
    "profit_by_month = ds_data.groupby(['Company', pd.Grouper(key='Date of Travel', \n",
    "                                                        freq='Q')])[['Profit']].sum().round(2)\n",
    "\n",
    "# Plotting both companies profits accross 3 years and removing \n",
    "#the last reading from both of the first 2 days of jan 2019\n",
    "pbm_pink = profit_by_month.loc['Pink Cab'].iloc[:-1,:]\n",
    "pbm_yellow = profit_by_month.loc['Yellow Cab'].iloc[:-1,:]"
   ]
  },
  {
   "cell_type": "code",
   "execution_count": 59,
   "id": "a944807d",
   "metadata": {
    "scrolled": false
   },
   "outputs": [
    {
     "data": {
      "text/plain": [
       "[Text(0, 0, '2016 Q1'),\n",
       " Text(1, 0, '2016 Q2'),\n",
       " Text(2, 0, '2016 Q3'),\n",
       " Text(3, 0, '2016 Q4'),\n",
       " Text(4, 0, '2017 Q1'),\n",
       " Text(5, 0, '2017 Q2'),\n",
       " Text(6, 0, '2017 Q3'),\n",
       " Text(7, 0, '2017 Q4'),\n",
       " Text(8, 0, '2018 Q1'),\n",
       " Text(9, 0, '2018 Q2'),\n",
       " Text(10, 0, '2018 Q3'),\n",
       " Text(11, 0, '2018 Q4')]"
      ]
     },
     "execution_count": 59,
     "metadata": {},
     "output_type": "execute_result"
    },
    {
     "data": {
      "image/png": "[encoded data removed]",
      "text/plain": [
       "<Figure size 1296x576 with 1 Axes>"
      ]
     },
     "metadata": {
      "needs_background": "light"
     },
     "output_type": "display_data"
    }
   ],
   "source": [
    "ax = pbm_yellow.plot(kind='bar', color='#e6bc02')\n",
    "pbm_pink.plot(kind='bar', ax=ax, color='#ff009d', figsize=(18,8), title='Quarterly Profit')\n",
    "ax.legend(['Yellow Cab', 'Pink Cab'])\n",
    "ax.set_xticklabels(['2016 Q1', '2016 Q2', '2016 Q3', '2016 Q4', \n",
    "                    '2017 Q1', '2017 Q2', '2017 Q3', '2017 Q4', \n",
    "                    '2018 Q1', '2018 Q2', '2018 Q3', '2018 Q4'])"
   ]
  },
  {
   "cell_type": "markdown",
   "id": "d989b9dc",
   "metadata": {},
   "source": [
    "* We can see that the quartery profit of Yellow Cab is always much higher than pink cab.\n",
    "\n",
    "* for quarter 2 of every year, Yellow Cab profits increase while Pink Cab profits decrease\n",
    "\n",
    "* for quarter 3 of every year Yellow Cab profits decrease while Pink Cab profits increase\n",
    "\n",
    "* The best quarter of each year for both companies' profits are Q4\n",
    "\n",
    "* the second best quarter for Yellow cab every year is Q2, while the second best quarter for Pink Cab Company is Q3."
   ]
  },
  {
   "cell_type": "markdown",
   "id": "2d2f1590",
   "metadata": {},
   "source": [
    "#### Checking Profit by Year"
   ]
  },
  {
   "cell_type": "code",
   "execution_count": 60,
   "id": "fdf433ac",
   "metadata": {},
   "outputs": [
    {
     "data": {
      "text/html": [
       "<div>\n",
       "<style scoped>\n",
       "    .dataframe tbody tr th:only-of-type {\n",
       "        vertical-align: middle;\n",
       "    }\n",
       "\n",
       "    .dataframe tbody tr th {\n",
       "        vertical-align: top;\n",
       "    }\n",
       "\n",
       "    .dataframe thead th {\n",
       "        text-align: right;\n",
       "    }\n",
       "</style>\n",
       "<table border=\"1\" class=\"dataframe\">\n",
       "  <thead>\n",
       "    <tr style=\"text-align: right;\">\n",
       "      <th></th>\n",
       "      <th></th>\n",
       "      <th>Profit</th>\n",
       "    </tr>\n",
       "    <tr>\n",
       "      <th>Company</th>\n",
       "      <th>Date of Travel</th>\n",
       "      <th></th>\n",
       "    </tr>\n",
       "  </thead>\n",
       "  <tbody>\n",
       "    <tr>\n",
       "      <th rowspan=\"4\" valign=\"top\">Pink Cab</th>\n",
       "      <th>2016-12-31</th>\n",
       "      <td>1686457.51</td>\n",
       "    </tr>\n",
       "    <tr>\n",
       "      <th>2017-12-31</th>\n",
       "      <td>2033435.13</td>\n",
       "    </tr>\n",
       "    <tr>\n",
       "      <th>2018-12-31</th>\n",
       "      <td>1578903.21</td>\n",
       "    </tr>\n",
       "    <tr>\n",
       "      <th>2019-12-31</th>\n",
       "      <td>8463.21</td>\n",
       "    </tr>\n",
       "    <tr>\n",
       "      <th rowspan=\"4\" valign=\"top\">Yellow Cab</th>\n",
       "      <th>2016-12-31</th>\n",
       "      <td>13786549.64</td>\n",
       "    </tr>\n",
       "    <tr>\n",
       "      <th>2017-12-31</th>\n",
       "      <td>16585986.73</td>\n",
       "    </tr>\n",
       "    <tr>\n",
       "      <th>2018-12-31</th>\n",
       "      <td>13609364.80</td>\n",
       "    </tr>\n",
       "    <tr>\n",
       "      <th>2019-12-31</th>\n",
       "      <td>37361.68</td>\n",
       "    </tr>\n",
       "  </tbody>\n",
       "</table>\n",
       "</div>"
      ],
      "text/plain": [
       "                                Profit\n",
       "Company    Date of Travel             \n",
       "Pink Cab   2016-12-31       1686457.51\n",
       "           2017-12-31       2033435.13\n",
       "           2018-12-31       1578903.21\n",
       "           2019-12-31          8463.21\n",
       "Yellow Cab 2016-12-31      13786549.64\n",
       "           2017-12-31      16585986.73\n",
       "           2018-12-31      13609364.80\n",
       "           2019-12-31         37361.68"
      ]
     },
     "execution_count": 60,
     "metadata": {},
     "output_type": "execute_result"
    }
   ],
   "source": [
    "profit_by_year = ds_data.groupby(['Company', pd.Grouper(key='Date of Travel', freq='Y')])[['Profit']].sum().round(2)\n",
    "\n",
    "# Generating a dataframe for each company's yearly profits and removing the last entry which is 2 days of 2019\n",
    "pby_yellow = profit_by_year.loc['Yellow Cab'].iloc[:-1,:]\n",
    "pby_pink = profit_by_year.loc['Pink Cab'].iloc[:-1,:]\n",
    "\n",
    "profit_by_year"
   ]
  },
  {
   "cell_type": "code",
   "execution_count": 61,
   "id": "fe97bff1",
   "metadata": {
    "scrolled": false
   },
   "outputs": [
    {
     "name": "stderr",
     "output_type": "stream",
     "text": [
      "C:\\Users\\xcomr\\AppData\\Local\\Temp/ipykernel_14968/932682982.py:4: UserWarning: FixedFormatter should only be used together with FixedLocator\n",
      "  ax.set_yticklabels(['', '2M', '4M', '6M', '8M', '10M', '12M', '14M', '16M', '18M'])\n"
     ]
    },
    {
     "data": {
      "text/plain": [
       "[Text(0, 0.0, ''),\n",
       " Text(0, 2000000.0, '2M'),\n",
       " Text(0, 4000000.0, '4M'),\n",
       " Text(0, 6000000.0, '6M'),\n",
       " Text(0, 8000000.0, '8M'),\n",
       " Text(0, 10000000.0, '10M'),\n",
       " Text(0, 12000000.0, '12M'),\n",
       " Text(0, 14000000.0, '14M'),\n",
       " Text(0, 16000000.0, '16M'),\n",
       " Text(0, 18000000.0, '18M')]"
      ]
     },
     "execution_count": 61,
     "metadata": {},
     "output_type": "execute_result"
    },
    {
     "data": {
      "image/png": "[encoded data removed]",
      "text/plain": [
       "<Figure size 432x288 with 1 Axes>"
      ]
     },
     "metadata": {
      "needs_background": "light"
     },
     "output_type": "display_data"
    }
   ],
   "source": [
    "ax = pby_yellow.plot(kind='line', color='#e6bc02')\n",
    "pby_pink.plot(kind='line', ax=ax, color='#ff009d', figsize=(6,4), title='Yearly Profit')\n",
    "ax.legend(['Yellow Cab', 'Pink Cab'])\n",
    "ax.set_yticklabels(['', '2M', '4M', '6M', '8M', '10M', '12M', '14M', '16M', '18M'])"
   ]
  },
  {
   "cell_type": "markdown",
   "id": "d1a2d566",
   "metadata": {},
   "source": [
    "* We can see that 2017 was the most profitable year for both companies, out of the 3 years in the dataset.\n",
    "\n",
    "* Pink Cab increased their profit by roughly 20% in 2017 compared to the previous year, but their profit decreased by roughly 23% in 2018 compared to the previous year.\n",
    "\n",
    "* Yellow Cab also increased their profit by roughly 20% in 2017 compared to previous year, but their profit decreased by roughly 18% in 2018 compared to the previous year, which is a better percentage compared to Pink Cab."
   ]
  },
  {
   "cell_type": "markdown",
   "id": "5d4f8a69",
   "metadata": {},
   "source": [
    "#### Checking percentage profit by age group:"
   ]
  },
  {
   "cell_type": "code",
   "execution_count": 62,
   "id": "7673f263",
   "metadata": {},
   "outputs": [
    {
     "data": {
      "text/plain": [
       "18"
      ]
     },
     "execution_count": 62,
     "metadata": {},
     "output_type": "execute_result"
    }
   ],
   "source": [
    "ds_data['Age'].min()"
   ]
  },
  {
   "cell_type": "code",
   "execution_count": 63,
   "id": "6b7dd954",
   "metadata": {
    "scrolled": true
   },
   "outputs": [
    {
     "data": {
      "text/plain": [
       "65"
      ]
     },
     "execution_count": 63,
     "metadata": {},
     "output_type": "execute_result"
    }
   ],
   "source": [
    "ds_data['Age'].max()"
   ]
  },
  {
   "cell_type": "code",
   "execution_count": 64,
   "id": "c2334d31",
   "metadata": {
    "scrolled": false
   },
   "outputs": [
    {
     "data": {
      "text/html": [
       "<div>\n",
       "<style scoped>\n",
       "    .dataframe tbody tr th:only-of-type {\n",
       "        vertical-align: middle;\n",
       "    }\n",
       "\n",
       "    .dataframe tbody tr th {\n",
       "        vertical-align: top;\n",
       "    }\n",
       "\n",
       "    .dataframe thead th {\n",
       "        text-align: right;\n",
       "    }\n",
       "</style>\n",
       "<table border=\"1\" class=\"dataframe\">\n",
       "  <thead>\n",
       "    <tr style=\"text-align: right;\">\n",
       "      <th></th>\n",
       "      <th>Transaction ID</th>\n",
       "      <th>Date of Travel</th>\n",
       "      <th>Company</th>\n",
       "      <th>City</th>\n",
       "      <th>KM Travelled</th>\n",
       "      <th>Price Charged</th>\n",
       "      <th>Cost of Trip</th>\n",
       "      <th>Profit</th>\n",
       "      <th>Profit / Km</th>\n",
       "      <th>Cost / Km</th>\n",
       "      <th>Customer ID</th>\n",
       "      <th>Payment_Mode</th>\n",
       "      <th>Gender</th>\n",
       "      <th>Age</th>\n",
       "      <th>Income (USD/Month)</th>\n",
       "      <th>Population</th>\n",
       "      <th>Users</th>\n",
       "      <th>Users % Population</th>\n",
       "      <th>Age Group</th>\n",
       "    </tr>\n",
       "  </thead>\n",
       "  <tbody>\n",
       "    <tr>\n",
       "      <th>0</th>\n",
       "      <td>10001001</td>\n",
       "      <td>2016-01-04</td>\n",
       "      <td>Yellow Cab</td>\n",
       "      <td>NEW YORK NY</td>\n",
       "      <td>46.80</td>\n",
       "      <td>1391.91</td>\n",
       "      <td>595.2960</td>\n",
       "      <td>796.6140</td>\n",
       "      <td>17.021667</td>\n",
       "      <td>12.72</td>\n",
       "      <td>2761</td>\n",
       "      <td>Card</td>\n",
       "      <td>Male</td>\n",
       "      <td>40</td>\n",
       "      <td>11462</td>\n",
       "      <td>8405837</td>\n",
       "      <td>302149</td>\n",
       "      <td>3.594514</td>\n",
       "      <td>36-45</td>\n",
       "    </tr>\n",
       "    <tr>\n",
       "      <th>1</th>\n",
       "      <td>10000519</td>\n",
       "      <td>2016-01-04</td>\n",
       "      <td>Yellow Cab</td>\n",
       "      <td>CHICAGO IL</td>\n",
       "      <td>13.92</td>\n",
       "      <td>327.23</td>\n",
       "      <td>185.4144</td>\n",
       "      <td>141.8156</td>\n",
       "      <td>10.187902</td>\n",
       "      <td>13.32</td>\n",
       "      <td>4429</td>\n",
       "      <td>Cash</td>\n",
       "      <td>Male</td>\n",
       "      <td>20</td>\n",
       "      <td>23387</td>\n",
       "      <td>1955130</td>\n",
       "      <td>164468</td>\n",
       "      <td>8.412126</td>\n",
       "      <td>18-25</td>\n",
       "    </tr>\n",
       "    <tr>\n",
       "      <th>2</th>\n",
       "      <td>10000356</td>\n",
       "      <td>2016-01-04</td>\n",
       "      <td>Pink Cab</td>\n",
       "      <td>SEATTLE WA</td>\n",
       "      <td>14.95</td>\n",
       "      <td>171.47</td>\n",
       "      <td>171.9250</td>\n",
       "      <td>-0.4550</td>\n",
       "      <td>-0.030435</td>\n",
       "      <td>11.50</td>\n",
       "      <td>38635</td>\n",
       "      <td>Card</td>\n",
       "      <td>Male</td>\n",
       "      <td>31</td>\n",
       "      <td>24682</td>\n",
       "      <td>671238</td>\n",
       "      <td>25063</td>\n",
       "      <td>3.733847</td>\n",
       "      <td>26-35</td>\n",
       "    </tr>\n",
       "    <tr>\n",
       "      <th>3</th>\n",
       "      <td>10000357</td>\n",
       "      <td>2016-01-04</td>\n",
       "      <td>Pink Cab</td>\n",
       "      <td>SEATTLE WA</td>\n",
       "      <td>20.52</td>\n",
       "      <td>259.13</td>\n",
       "      <td>244.1880</td>\n",
       "      <td>14.9420</td>\n",
       "      <td>0.728168</td>\n",
       "      <td>11.90</td>\n",
       "      <td>38494</td>\n",
       "      <td>Card</td>\n",
       "      <td>Male</td>\n",
       "      <td>33</td>\n",
       "      <td>33892</td>\n",
       "      <td>671238</td>\n",
       "      <td>25063</td>\n",
       "      <td>3.733847</td>\n",
       "      <td>26-35</td>\n",
       "    </tr>\n",
       "    <tr>\n",
       "      <th>4</th>\n",
       "      <td>10001328</td>\n",
       "      <td>2016-01-04</td>\n",
       "      <td>Yellow Cab</td>\n",
       "      <td>WASHINGTON DC</td>\n",
       "      <td>19.38</td>\n",
       "      <td>439.58</td>\n",
       "      <td>272.0952</td>\n",
       "      <td>167.4848</td>\n",
       "      <td>8.642147</td>\n",
       "      <td>14.04</td>\n",
       "      <td>51745</td>\n",
       "      <td>Cash</td>\n",
       "      <td>Male</td>\n",
       "      <td>27</td>\n",
       "      <td>15072</td>\n",
       "      <td>418859</td>\n",
       "      <td>127001</td>\n",
       "      <td>30.320705</td>\n",
       "      <td>26-35</td>\n",
       "    </tr>\n",
       "    <tr>\n",
       "      <th>...</th>\n",
       "      <td>...</td>\n",
       "      <td>...</td>\n",
       "      <td>...</td>\n",
       "      <td>...</td>\n",
       "      <td>...</td>\n",
       "      <td>...</td>\n",
       "      <td>...</td>\n",
       "      <td>...</td>\n",
       "      <td>...</td>\n",
       "      <td>...</td>\n",
       "      <td>...</td>\n",
       "      <td>...</td>\n",
       "      <td>...</td>\n",
       "      <td>...</td>\n",
       "      <td>...</td>\n",
       "      <td>...</td>\n",
       "      <td>...</td>\n",
       "      <td>...</td>\n",
       "      <td>...</td>\n",
       "    </tr>\n",
       "    <tr>\n",
       "      <th>359379</th>\n",
       "      <td>10434824</td>\n",
       "      <td>2019-01-02</td>\n",
       "      <td>Yellow Cab</td>\n",
       "      <td>LOS ANGELES CA</td>\n",
       "      <td>33.35</td>\n",
       "      <td>566.17</td>\n",
       "      <td>412.2060</td>\n",
       "      <td>153.9640</td>\n",
       "      <td>4.616612</td>\n",
       "      <td>12.36</td>\n",
       "      <td>7302</td>\n",
       "      <td>Card</td>\n",
       "      <td>Male</td>\n",
       "      <td>37</td>\n",
       "      <td>26726</td>\n",
       "      <td>1595037</td>\n",
       "      <td>144132</td>\n",
       "      <td>9.036279</td>\n",
       "      <td>36-45</td>\n",
       "    </tr>\n",
       "    <tr>\n",
       "      <th>359380</th>\n",
       "      <td>10439214</td>\n",
       "      <td>2019-01-02</td>\n",
       "      <td>Yellow Cab</td>\n",
       "      <td>NEW YORK NY</td>\n",
       "      <td>12.60</td>\n",
       "      <td>276.52</td>\n",
       "      <td>172.3680</td>\n",
       "      <td>104.1520</td>\n",
       "      <td>8.266032</td>\n",
       "      <td>13.68</td>\n",
       "      <td>1568</td>\n",
       "      <td>Cash</td>\n",
       "      <td>Female</td>\n",
       "      <td>34</td>\n",
       "      <td>2799</td>\n",
       "      <td>8405837</td>\n",
       "      <td>302149</td>\n",
       "      <td>3.594514</td>\n",
       "      <td>26-35</td>\n",
       "    </tr>\n",
       "    <tr>\n",
       "      <th>359381</th>\n",
       "      <td>10434955</td>\n",
       "      <td>2019-01-02</td>\n",
       "      <td>Yellow Cab</td>\n",
       "      <td>LOS ANGELES CA</td>\n",
       "      <td>18.72</td>\n",
       "      <td>353.47</td>\n",
       "      <td>265.0752</td>\n",
       "      <td>88.3948</td>\n",
       "      <td>4.721944</td>\n",
       "      <td>14.16</td>\n",
       "      <td>7207</td>\n",
       "      <td>Card</td>\n",
       "      <td>Male</td>\n",
       "      <td>26</td>\n",
       "      <td>8194</td>\n",
       "      <td>1595037</td>\n",
       "      <td>144132</td>\n",
       "      <td>9.036279</td>\n",
       "      <td>26-35</td>\n",
       "    </tr>\n",
       "    <tr>\n",
       "      <th>359382</th>\n",
       "      <td>10434224</td>\n",
       "      <td>2019-01-02</td>\n",
       "      <td>Yellow Cab</td>\n",
       "      <td>BOSTON MA</td>\n",
       "      <td>30.07</td>\n",
       "      <td>446.61</td>\n",
       "      <td>433.0080</td>\n",
       "      <td>13.6020</td>\n",
       "      <td>0.452345</td>\n",
       "      <td>14.40</td>\n",
       "      <td>58956</td>\n",
       "      <td>Card</td>\n",
       "      <td>Male</td>\n",
       "      <td>39</td>\n",
       "      <td>24646</td>\n",
       "      <td>248968</td>\n",
       "      <td>80021</td>\n",
       "      <td>32.141078</td>\n",
       "      <td>36-45</td>\n",
       "    </tr>\n",
       "    <tr>\n",
       "      <th>359383</th>\n",
       "      <td>10436538</td>\n",
       "      <td>2019-01-02</td>\n",
       "      <td>Yellow Cab</td>\n",
       "      <td>WASHINGTON DC</td>\n",
       "      <td>8.91</td>\n",
       "      <td>133.55</td>\n",
       "      <td>115.4736</td>\n",
       "      <td>18.0764</td>\n",
       "      <td>2.028777</td>\n",
       "      <td>12.96</td>\n",
       "      <td>51137</td>\n",
       "      <td>Cash</td>\n",
       "      <td>Male</td>\n",
       "      <td>33</td>\n",
       "      <td>14492</td>\n",
       "      <td>418859</td>\n",
       "      <td>127001</td>\n",
       "      <td>30.320705</td>\n",
       "      <td>26-35</td>\n",
       "    </tr>\n",
       "  </tbody>\n",
       "</table>\n",
       "<p>359384 rows × 19 columns</p>\n",
       "</div>"
      ],
      "text/plain": [
       "        Transaction ID Date of Travel     Company            City  \\\n",
       "0             10001001     2016-01-04  Yellow Cab     NEW YORK NY   \n",
       "1             10000519     2016-01-04  Yellow Cab      CHICAGO IL   \n",
       "2             10000356     2016-01-04    Pink Cab      SEATTLE WA   \n",
       "3             10000357     2016-01-04    Pink Cab      SEATTLE WA   \n",
       "4             10001328     2016-01-04  Yellow Cab   WASHINGTON DC   \n",
       "...                ...            ...         ...             ...   \n",
       "359379        10434824     2019-01-02  Yellow Cab  LOS ANGELES CA   \n",
       "359380        10439214     2019-01-02  Yellow Cab     NEW YORK NY   \n",
       "359381        10434955     2019-01-02  Yellow Cab  LOS ANGELES CA   \n",
       "359382        10434224     2019-01-02  Yellow Cab       BOSTON MA   \n",
       "359383        10436538     2019-01-02  Yellow Cab   WASHINGTON DC   \n",
       "\n",
       "        KM Travelled  Price Charged  Cost of Trip    Profit  Profit / Km  \\\n",
       "0              46.80        1391.91      595.2960  796.6140    17.021667   \n",
       "1              13.92         327.23      185.4144  141.8156    10.187902   \n",
       "2              14.95         171.47      171.9250   -0.4550    -0.030435   \n",
       "3              20.52         259.13      244.1880   14.9420     0.728168   \n",
       "4              19.38         439.58      272.0952  167.4848     8.642147   \n",
       "...              ...            ...           ...       ...          ...   \n",
       "359379         33.35         566.17      412.2060  153.9640     4.616612   \n",
       "359380         12.60         276.52      172.3680  104.1520     8.266032   \n",
       "359381         18.72         353.47      265.0752   88.3948     4.721944   \n",
       "359382         30.07         446.61      433.0080   13.6020     0.452345   \n",
       "359383          8.91         133.55      115.4736   18.0764     2.028777   \n",
       "\n",
       "        Cost / Km  Customer ID Payment_Mode  Gender  Age  Income (USD/Month)  \\\n",
       "0           12.72         2761         Card    Male   40               11462   \n",
       "1           13.32         4429         Cash    Male   20               23387   \n",
       "2           11.50        38635         Card    Male   31               24682   \n",
       "3           11.90        38494         Card    Male   33               33892   \n",
       "4           14.04        51745         Cash    Male   27               15072   \n",
       "...           ...          ...          ...     ...  ...                 ...   \n",
       "359379      12.36         7302         Card    Male   37               26726   \n",
       "359380      13.68         1568         Cash  Female   34                2799   \n",
       "359381      14.16         7207         Card    Male   26                8194   \n",
       "359382      14.40        58956         Card    Male   39               24646   \n",
       "359383      12.96        51137         Cash    Male   33               14492   \n",
       "\n",
       "        Population   Users  Users % Population Age Group  \n",
       "0          8405837  302149            3.594514     36-45  \n",
       "1          1955130  164468            8.412126     18-25  \n",
       "2           671238   25063            3.733847     26-35  \n",
       "3           671238   25063            3.733847     26-35  \n",
       "4           418859  127001           30.320705     26-35  \n",
       "...            ...     ...                 ...       ...  \n",
       "359379     1595037  144132            9.036279     36-45  \n",
       "359380     8405837  302149            3.594514     26-35  \n",
       "359381     1595037  144132            9.036279     26-35  \n",
       "359382      248968   80021           32.141078     36-45  \n",
       "359383      418859  127001           30.320705     26-35  \n",
       "\n",
       "[359384 rows x 19 columns]"
      ]
     },
     "execution_count": 64,
     "metadata": {},
     "output_type": "execute_result"
    }
   ],
   "source": [
    "# Creating a new feature - age group\n",
    "def age_cat(a):\n",
    "    if a >= 18 and a < 26:\n",
    "        return '18-25'\n",
    "    elif a >= 26 and a < 36:\n",
    "        return '26-35'\n",
    "    elif a >= 36 and a < 46:\n",
    "        return '36-45'\n",
    "    elif a >= 46 and a < 56:\n",
    "        return '46-55'\n",
    "    else:\n",
    "        return '56 and above'\n",
    "    \n",
    "ds_data['Age Group'] = ds_data['Age'].apply(age_cat)\n",
    "\n",
    "ds_data  "
   ]
  },
  {
   "cell_type": "code",
   "execution_count": 65,
   "id": "6effe05d",
   "metadata": {
    "scrolled": false
   },
   "outputs": [
    {
     "data": {
      "text/plain": [
       "<AxesSubplot:title={'center':'Pink Cab - Profit by Age Group'}, xlabel='Age Group', ylabel='Percent of Profit'>"
      ]
     },
     "execution_count": 65,
     "metadata": {},
     "output_type": "execute_result"
    },
    {
     "data": {
      "image/png": "[encoded data removed]",
      "text/plain": [
       "<Figure size 432x288 with 1 Axes>"
      ]
     },
     "metadata": {
      "needs_background": "light"
     },
     "output_type": "display_data"
    },
    {
     "data": {
      "image/png": "[encoded data removed]",
      "text/plain": [
       "<Figure size 432x288 with 1 Axes>"
      ]
     },
     "metadata": {
      "needs_background": "light"
     },
     "output_type": "display_data"
    }
   ],
   "source": [
    "profit_by_age = ds_data.groupby(['Company', 'Age Group'])[['Profit']].sum().round(2)\n",
    "\n",
    "#profit percent by age for each company\n",
    "ppba_yellow = (profit_by_age.loc['Yellow Cab'] / profit_by_age.loc['Yellow Cab'].sum())*100\n",
    "ppba_pink = (profit_by_age.loc['Pink Cab'] / profit_by_age.loc['Pink Cab'].sum())*100\n",
    "\n",
    "ppba_yellow.plot(kind='bar', legend=False, color='#e6bc02', \n",
    "                 title='Yellow Cab - Profit by Age Group', ylabel='Percent of Profit')\n",
    "ppba_pink.plot(kind='bar', legend=False, color='#ff009d', \n",
    "               title='Pink Cab - Profit by Age Group', ylabel='Percent of Profit')"
   ]
  },
  {
   "cell_type": "markdown",
   "id": "22326407",
   "metadata": {},
   "source": [
    "* We can see that both cab companies share a very similar distribution of their profit accross their users' age groups.\n",
    "\n",
    "* The biggest age group contributing to both companyies' profits are the 26-35 age group, followed by the 18-25 age group and then by the 36-45 age group.\n",
    "\n",
    "* Users below 46 years old account for roughly 75% of the profit of both cab companies."
   ]
  },
  {
   "cell_type": "markdown",
   "id": "64e6003b",
   "metadata": {},
   "source": [
    "#### Checking percentage profit by income bracket:"
   ]
  },
  {
   "cell_type": "code",
   "execution_count": 66,
   "id": "993f41ab",
   "metadata": {},
   "outputs": [
    {
     "data": {
      "text/plain": [
       "2000"
      ]
     },
     "execution_count": 66,
     "metadata": {},
     "output_type": "execute_result"
    }
   ],
   "source": [
    "ds_data['Income (USD/Month)'].min()"
   ]
  },
  {
   "cell_type": "code",
   "execution_count": 67,
   "id": "919fdd8b",
   "metadata": {},
   "outputs": [
    {
     "data": {
      "text/plain": [
       "35000"
      ]
     },
     "execution_count": 67,
     "metadata": {},
     "output_type": "execute_result"
    }
   ],
   "source": [
    "ds_data['Income (USD/Month)'].max()"
   ]
  },
  {
   "cell_type": "code",
   "execution_count": 68,
   "id": "46f7b936",
   "metadata": {
    "scrolled": false
   },
   "outputs": [],
   "source": [
    "# Creating new feature - profit percentage per trip, per company:\n",
    "total_profit_yellow = company_profit_and_distance.loc['Yellow Cab', 'Profit']\n",
    "total_profit_pink = company_profit_and_distance.loc['Pink Cab', 'Profit']\n",
    "\n",
    "def percent_income_by_company(row):\n",
    "    if row['Company'] == 'Yellow Cab':\n",
    "        return (row['Profit'] / total_profit_yellow)*100\n",
    "    elif row['Company'] == 'Pink Cab':\n",
    "        return (row['Profit'] / total_profit_pink)*100\n",
    "    \n",
    "ds_data['% Profit of Company Total'] = ds_data.apply(percent_income_by_company, axis=1)"
   ]
  },
  {
   "cell_type": "code",
   "execution_count": 69,
   "id": "06d6e906",
   "metadata": {
    "scrolled": false
   },
   "outputs": [
    {
     "data": {
      "text/html": [
       "<div>\n",
       "<style scoped>\n",
       "    .dataframe tbody tr th:only-of-type {\n",
       "        vertical-align: middle;\n",
       "    }\n",
       "\n",
       "    .dataframe tbody tr th {\n",
       "        vertical-align: top;\n",
       "    }\n",
       "\n",
       "    .dataframe thead th {\n",
       "        text-align: right;\n",
       "    }\n",
       "</style>\n",
       "<table border=\"1\" class=\"dataframe\">\n",
       "  <thead>\n",
       "    <tr style=\"text-align: right;\">\n",
       "      <th></th>\n",
       "      <th>Transaction ID</th>\n",
       "      <th>Date of Travel</th>\n",
       "      <th>Company</th>\n",
       "      <th>City</th>\n",
       "      <th>KM Travelled</th>\n",
       "      <th>Price Charged</th>\n",
       "      <th>Cost of Trip</th>\n",
       "      <th>Profit</th>\n",
       "      <th>Profit / Km</th>\n",
       "      <th>Cost / Km</th>\n",
       "      <th>...</th>\n",
       "      <th>Payment_Mode</th>\n",
       "      <th>Gender</th>\n",
       "      <th>Age</th>\n",
       "      <th>Income (USD/Month)</th>\n",
       "      <th>Population</th>\n",
       "      <th>Users</th>\n",
       "      <th>Users % Population</th>\n",
       "      <th>Age Group</th>\n",
       "      <th>% Profit of Company Total</th>\n",
       "      <th>Income Group</th>\n",
       "    </tr>\n",
       "  </thead>\n",
       "  <tbody>\n",
       "    <tr>\n",
       "      <th>0</th>\n",
       "      <td>10001001</td>\n",
       "      <td>2016-01-04</td>\n",
       "      <td>Yellow Cab</td>\n",
       "      <td>NEW YORK NY</td>\n",
       "      <td>46.80</td>\n",
       "      <td>1391.91</td>\n",
       "      <td>595.2960</td>\n",
       "      <td>796.6140</td>\n",
       "      <td>17.021667</td>\n",
       "      <td>12.72</td>\n",
       "      <td>...</td>\n",
       "      <td>Card</td>\n",
       "      <td>Male</td>\n",
       "      <td>40</td>\n",
       "      <td>11462</td>\n",
       "      <td>8405837</td>\n",
       "      <td>302149</td>\n",
       "      <td>3.594514</td>\n",
       "      <td>36-45</td>\n",
       "      <td>0.001810</td>\n",
       "      <td>8001-16000</td>\n",
       "    </tr>\n",
       "    <tr>\n",
       "      <th>1</th>\n",
       "      <td>10000519</td>\n",
       "      <td>2016-01-04</td>\n",
       "      <td>Yellow Cab</td>\n",
       "      <td>CHICAGO IL</td>\n",
       "      <td>13.92</td>\n",
       "      <td>327.23</td>\n",
       "      <td>185.4144</td>\n",
       "      <td>141.8156</td>\n",
       "      <td>10.187902</td>\n",
       "      <td>13.32</td>\n",
       "      <td>...</td>\n",
       "      <td>Cash</td>\n",
       "      <td>Male</td>\n",
       "      <td>20</td>\n",
       "      <td>23387</td>\n",
       "      <td>1955130</td>\n",
       "      <td>164468</td>\n",
       "      <td>8.412126</td>\n",
       "      <td>18-25</td>\n",
       "      <td>0.000322</td>\n",
       "      <td>16001-24000</td>\n",
       "    </tr>\n",
       "    <tr>\n",
       "      <th>2</th>\n",
       "      <td>10000356</td>\n",
       "      <td>2016-01-04</td>\n",
       "      <td>Pink Cab</td>\n",
       "      <td>SEATTLE WA</td>\n",
       "      <td>14.95</td>\n",
       "      <td>171.47</td>\n",
       "      <td>171.9250</td>\n",
       "      <td>-0.4550</td>\n",
       "      <td>-0.030435</td>\n",
       "      <td>11.50</td>\n",
       "      <td>...</td>\n",
       "      <td>Card</td>\n",
       "      <td>Male</td>\n",
       "      <td>31</td>\n",
       "      <td>24682</td>\n",
       "      <td>671238</td>\n",
       "      <td>25063</td>\n",
       "      <td>3.733847</td>\n",
       "      <td>26-35</td>\n",
       "      <td>-0.000009</td>\n",
       "      <td>24001-32000</td>\n",
       "    </tr>\n",
       "    <tr>\n",
       "      <th>3</th>\n",
       "      <td>10000357</td>\n",
       "      <td>2016-01-04</td>\n",
       "      <td>Pink Cab</td>\n",
       "      <td>SEATTLE WA</td>\n",
       "      <td>20.52</td>\n",
       "      <td>259.13</td>\n",
       "      <td>244.1880</td>\n",
       "      <td>14.9420</td>\n",
       "      <td>0.728168</td>\n",
       "      <td>11.90</td>\n",
       "      <td>...</td>\n",
       "      <td>Card</td>\n",
       "      <td>Male</td>\n",
       "      <td>33</td>\n",
       "      <td>33892</td>\n",
       "      <td>671238</td>\n",
       "      <td>25063</td>\n",
       "      <td>3.733847</td>\n",
       "      <td>26-35</td>\n",
       "      <td>0.000282</td>\n",
       "      <td>32001-40000</td>\n",
       "    </tr>\n",
       "    <tr>\n",
       "      <th>4</th>\n",
       "      <td>10001328</td>\n",
       "      <td>2016-01-04</td>\n",
       "      <td>Yellow Cab</td>\n",
       "      <td>WASHINGTON DC</td>\n",
       "      <td>19.38</td>\n",
       "      <td>439.58</td>\n",
       "      <td>272.0952</td>\n",
       "      <td>167.4848</td>\n",
       "      <td>8.642147</td>\n",
       "      <td>14.04</td>\n",
       "      <td>...</td>\n",
       "      <td>Cash</td>\n",
       "      <td>Male</td>\n",
       "      <td>27</td>\n",
       "      <td>15072</td>\n",
       "      <td>418859</td>\n",
       "      <td>127001</td>\n",
       "      <td>30.320705</td>\n",
       "      <td>26-35</td>\n",
       "      <td>0.000380</td>\n",
       "      <td>8001-16000</td>\n",
       "    </tr>\n",
       "    <tr>\n",
       "      <th>...</th>\n",
       "      <td>...</td>\n",
       "      <td>...</td>\n",
       "      <td>...</td>\n",
       "      <td>...</td>\n",
       "      <td>...</td>\n",
       "      <td>...</td>\n",
       "      <td>...</td>\n",
       "      <td>...</td>\n",
       "      <td>...</td>\n",
       "      <td>...</td>\n",
       "      <td>...</td>\n",
       "      <td>...</td>\n",
       "      <td>...</td>\n",
       "      <td>...</td>\n",
       "      <td>...</td>\n",
       "      <td>...</td>\n",
       "      <td>...</td>\n",
       "      <td>...</td>\n",
       "      <td>...</td>\n",
       "      <td>...</td>\n",
       "      <td>...</td>\n",
       "    </tr>\n",
       "    <tr>\n",
       "      <th>359379</th>\n",
       "      <td>10434824</td>\n",
       "      <td>2019-01-02</td>\n",
       "      <td>Yellow Cab</td>\n",
       "      <td>LOS ANGELES CA</td>\n",
       "      <td>33.35</td>\n",
       "      <td>566.17</td>\n",
       "      <td>412.2060</td>\n",
       "      <td>153.9640</td>\n",
       "      <td>4.616612</td>\n",
       "      <td>12.36</td>\n",
       "      <td>...</td>\n",
       "      <td>Card</td>\n",
       "      <td>Male</td>\n",
       "      <td>37</td>\n",
       "      <td>26726</td>\n",
       "      <td>1595037</td>\n",
       "      <td>144132</td>\n",
       "      <td>9.036279</td>\n",
       "      <td>36-45</td>\n",
       "      <td>0.000350</td>\n",
       "      <td>24001-32000</td>\n",
       "    </tr>\n",
       "    <tr>\n",
       "      <th>359380</th>\n",
       "      <td>10439214</td>\n",
       "      <td>2019-01-02</td>\n",
       "      <td>Yellow Cab</td>\n",
       "      <td>NEW YORK NY</td>\n",
       "      <td>12.60</td>\n",
       "      <td>276.52</td>\n",
       "      <td>172.3680</td>\n",
       "      <td>104.1520</td>\n",
       "      <td>8.266032</td>\n",
       "      <td>13.68</td>\n",
       "      <td>...</td>\n",
       "      <td>Cash</td>\n",
       "      <td>Female</td>\n",
       "      <td>34</td>\n",
       "      <td>2799</td>\n",
       "      <td>8405837</td>\n",
       "      <td>302149</td>\n",
       "      <td>3.594514</td>\n",
       "      <td>26-35</td>\n",
       "      <td>0.000237</td>\n",
       "      <td>0-8000</td>\n",
       "    </tr>\n",
       "    <tr>\n",
       "      <th>359381</th>\n",
       "      <td>10434955</td>\n",
       "      <td>2019-01-02</td>\n",
       "      <td>Yellow Cab</td>\n",
       "      <td>LOS ANGELES CA</td>\n",
       "      <td>18.72</td>\n",
       "      <td>353.47</td>\n",
       "      <td>265.0752</td>\n",
       "      <td>88.3948</td>\n",
       "      <td>4.721944</td>\n",
       "      <td>14.16</td>\n",
       "      <td>...</td>\n",
       "      <td>Card</td>\n",
       "      <td>Male</td>\n",
       "      <td>26</td>\n",
       "      <td>8194</td>\n",
       "      <td>1595037</td>\n",
       "      <td>144132</td>\n",
       "      <td>9.036279</td>\n",
       "      <td>26-35</td>\n",
       "      <td>0.000201</td>\n",
       "      <td>8001-16000</td>\n",
       "    </tr>\n",
       "    <tr>\n",
       "      <th>359382</th>\n",
       "      <td>10434224</td>\n",
       "      <td>2019-01-02</td>\n",
       "      <td>Yellow Cab</td>\n",
       "      <td>BOSTON MA</td>\n",
       "      <td>30.07</td>\n",
       "      <td>446.61</td>\n",
       "      <td>433.0080</td>\n",
       "      <td>13.6020</td>\n",
       "      <td>0.452345</td>\n",
       "      <td>14.40</td>\n",
       "      <td>...</td>\n",
       "      <td>Card</td>\n",
       "      <td>Male</td>\n",
       "      <td>39</td>\n",
       "      <td>24646</td>\n",
       "      <td>248968</td>\n",
       "      <td>80021</td>\n",
       "      <td>32.141078</td>\n",
       "      <td>36-45</td>\n",
       "      <td>0.000031</td>\n",
       "      <td>24001-32000</td>\n",
       "    </tr>\n",
       "    <tr>\n",
       "      <th>359383</th>\n",
       "      <td>10436538</td>\n",
       "      <td>2019-01-02</td>\n",
       "      <td>Yellow Cab</td>\n",
       "      <td>WASHINGTON DC</td>\n",
       "      <td>8.91</td>\n",
       "      <td>133.55</td>\n",
       "      <td>115.4736</td>\n",
       "      <td>18.0764</td>\n",
       "      <td>2.028777</td>\n",
       "      <td>12.96</td>\n",
       "      <td>...</td>\n",
       "      <td>Cash</td>\n",
       "      <td>Male</td>\n",
       "      <td>33</td>\n",
       "      <td>14492</td>\n",
       "      <td>418859</td>\n",
       "      <td>127001</td>\n",
       "      <td>30.320705</td>\n",
       "      <td>26-35</td>\n",
       "      <td>0.000041</td>\n",
       "      <td>8001-16000</td>\n",
       "    </tr>\n",
       "  </tbody>\n",
       "</table>\n",
       "<p>359384 rows × 21 columns</p>\n",
       "</div>"
      ],
      "text/plain": [
       "        Transaction ID Date of Travel     Company            City  \\\n",
       "0             10001001     2016-01-04  Yellow Cab     NEW YORK NY   \n",
       "1             10000519     2016-01-04  Yellow Cab      CHICAGO IL   \n",
       "2             10000356     2016-01-04    Pink Cab      SEATTLE WA   \n",
       "3             10000357     2016-01-04    Pink Cab      SEATTLE WA   \n",
       "4             10001328     2016-01-04  Yellow Cab   WASHINGTON DC   \n",
       "...                ...            ...         ...             ...   \n",
       "359379        10434824     2019-01-02  Yellow Cab  LOS ANGELES CA   \n",
       "359380        10439214     2019-01-02  Yellow Cab     NEW YORK NY   \n",
       "359381        10434955     2019-01-02  Yellow Cab  LOS ANGELES CA   \n",
       "359382        10434224     2019-01-02  Yellow Cab       BOSTON MA   \n",
       "359383        10436538     2019-01-02  Yellow Cab   WASHINGTON DC   \n",
       "\n",
       "        KM Travelled  Price Charged  Cost of Trip    Profit  Profit / Km  \\\n",
       "0              46.80        1391.91      595.2960  796.6140    17.021667   \n",
       "1              13.92         327.23      185.4144  141.8156    10.187902   \n",
       "2              14.95         171.47      171.9250   -0.4550    -0.030435   \n",
       "3              20.52         259.13      244.1880   14.9420     0.728168   \n",
       "4              19.38         439.58      272.0952  167.4848     8.642147   \n",
       "...              ...            ...           ...       ...          ...   \n",
       "359379         33.35         566.17      412.2060  153.9640     4.616612   \n",
       "359380         12.60         276.52      172.3680  104.1520     8.266032   \n",
       "359381         18.72         353.47      265.0752   88.3948     4.721944   \n",
       "359382         30.07         446.61      433.0080   13.6020     0.452345   \n",
       "359383          8.91         133.55      115.4736   18.0764     2.028777   \n",
       "\n",
       "        Cost / Km  ...  Payment_Mode  Gender Age  Income (USD/Month)  \\\n",
       "0           12.72  ...          Card    Male  40               11462   \n",
       "1           13.32  ...          Cash    Male  20               23387   \n",
       "2           11.50  ...          Card    Male  31               24682   \n",
       "3           11.90  ...          Card    Male  33               33892   \n",
       "4           14.04  ...          Cash    Male  27               15072   \n",
       "...           ...  ...           ...     ...  ..                 ...   \n",
       "359379      12.36  ...          Card    Male  37               26726   \n",
       "359380      13.68  ...          Cash  Female  34                2799   \n",
       "359381      14.16  ...          Card    Male  26                8194   \n",
       "359382      14.40  ...          Card    Male  39               24646   \n",
       "359383      12.96  ...          Cash    Male  33               14492   \n",
       "\n",
       "        Population   Users  Users % Population  Age Group  \\\n",
       "0          8405837  302149            3.594514      36-45   \n",
       "1          1955130  164468            8.412126      18-25   \n",
       "2           671238   25063            3.733847      26-35   \n",
       "3           671238   25063            3.733847      26-35   \n",
       "4           418859  127001           30.320705      26-35   \n",
       "...            ...     ...                 ...        ...   \n",
       "359379     1595037  144132            9.036279      36-45   \n",
       "359380     8405837  302149            3.594514      26-35   \n",
       "359381     1595037  144132            9.036279      26-35   \n",
       "359382      248968   80021           32.141078      36-45   \n",
       "359383      418859  127001           30.320705      26-35   \n",
       "\n",
       "       % Profit of Company Total  Income Group  \n",
       "0                       0.001810    8001-16000  \n",
       "1                       0.000322   16001-24000  \n",
       "2                      -0.000009   24001-32000  \n",
       "3                       0.000282   32001-40000  \n",
       "4                       0.000380    8001-16000  \n",
       "...                          ...           ...  \n",
       "359379                  0.000350   24001-32000  \n",
       "359380                  0.000237        0-8000  \n",
       "359381                  0.000201    8001-16000  \n",
       "359382                  0.000031   24001-32000  \n",
       "359383                  0.000041    8001-16000  \n",
       "\n",
       "[359384 rows x 21 columns]"
      ]
     },
     "execution_count": 69,
     "metadata": {},
     "output_type": "execute_result"
    }
   ],
   "source": [
    "# Creating new feature - Income Group:\n",
    "def income_group(row):\n",
    "    income = row['Income (USD/Month)']\n",
    "    if income >=0 and income <=8000:\n",
    "        return '0-8000'\n",
    "    elif income > 8000 and income <=16000:\n",
    "        return '8001-16000'\n",
    "    elif income > 16000 and income <= 24000:\n",
    "        return '16001-24000'\n",
    "    elif income > 24000 and income <= 32000:\n",
    "        return '24001-32000'\n",
    "    elif income > 32000 and income <= 40000:\n",
    "        return '32001-40000'\n",
    "    \n",
    "ds_data['Income Group'] = ds_data.apply(income_group, axis=1)\n",
    "\n",
    "ds_data"
   ]
  },
  {
   "cell_type": "code",
   "execution_count": 70,
   "id": "8ca4cf0c",
   "metadata": {
    "scrolled": false
   },
   "outputs": [
    {
     "data": {
      "text/html": [
       "<div>\n",
       "<style scoped>\n",
       "    .dataframe tbody tr th:only-of-type {\n",
       "        vertical-align: middle;\n",
       "    }\n",
       "\n",
       "    .dataframe tbody tr th {\n",
       "        vertical-align: top;\n",
       "    }\n",
       "\n",
       "    .dataframe thead th {\n",
       "        text-align: right;\n",
       "    }\n",
       "</style>\n",
       "<table border=\"1\" class=\"dataframe\">\n",
       "  <thead>\n",
       "    <tr style=\"text-align: right;\">\n",
       "      <th></th>\n",
       "      <th></th>\n",
       "      <th>% Profit of Company Total</th>\n",
       "    </tr>\n",
       "    <tr>\n",
       "      <th>Company</th>\n",
       "      <th>Income Group</th>\n",
       "      <th></th>\n",
       "    </tr>\n",
       "  </thead>\n",
       "  <tbody>\n",
       "    <tr>\n",
       "      <th rowspan=\"5\" valign=\"top\">Pink Cab</th>\n",
       "      <th>0-8000</th>\n",
       "      <td>23.31</td>\n",
       "    </tr>\n",
       "    <tr>\n",
       "      <th>8001-16000</th>\n",
       "      <td>31.30</td>\n",
       "    </tr>\n",
       "    <tr>\n",
       "      <th>16001-24000</th>\n",
       "      <td>32.01</td>\n",
       "    </tr>\n",
       "    <tr>\n",
       "      <th>24001-32000</th>\n",
       "      <td>10.52</td>\n",
       "    </tr>\n",
       "    <tr>\n",
       "      <th>32001-40000</th>\n",
       "      <td>2.86</td>\n",
       "    </tr>\n",
       "    <tr>\n",
       "      <th rowspan=\"5\" valign=\"top\">Yellow Cab</th>\n",
       "      <th>0-8000</th>\n",
       "      <td>22.83</td>\n",
       "    </tr>\n",
       "    <tr>\n",
       "      <th>8001-16000</th>\n",
       "      <td>31.76</td>\n",
       "    </tr>\n",
       "    <tr>\n",
       "      <th>16001-24000</th>\n",
       "      <td>32.20</td>\n",
       "    </tr>\n",
       "    <tr>\n",
       "      <th>24001-32000</th>\n",
       "      <td>10.48</td>\n",
       "    </tr>\n",
       "    <tr>\n",
       "      <th>32001-40000</th>\n",
       "      <td>2.73</td>\n",
       "    </tr>\n",
       "  </tbody>\n",
       "</table>\n",
       "</div>"
      ],
      "text/plain": [
       "                         % Profit of Company Total\n",
       "Company    Income Group                           \n",
       "Pink Cab   0-8000                            23.31\n",
       "           8001-16000                        31.30\n",
       "           16001-24000                       32.01\n",
       "           24001-32000                       10.52\n",
       "           32001-40000                        2.86\n",
       "Yellow Cab 0-8000                            22.83\n",
       "           8001-16000                        31.76\n",
       "           16001-24000                       32.20\n",
       "           24001-32000                       10.48\n",
       "           32001-40000                        2.73"
      ]
     },
     "execution_count": 70,
     "metadata": {},
     "output_type": "execute_result"
    },
    {
     "data": {
      "image/png": "[encoded data removed]",
      "text/plain": [
       "<Figure size 432x288 with 1 Axes>"
      ]
     },
     "metadata": {
      "needs_background": "light"
     },
     "output_type": "display_data"
    },
    {
     "data": {
      "image/png": "[encoded data removed]",
      "text/plain": [
       "<Figure size 432x288 with 1 Axes>"
      ]
     },
     "metadata": {
      "needs_background": "light"
     },
     "output_type": "display_data"
    }
   ],
   "source": [
    "profit_by_income = ds_data.groupby(['Company', 'Income Group'])[['% Profit of Company Total']].sum().round(2)\n",
    "\n",
    "sorted_index = [('Pink Cab', '0-8000'),('Pink Cab', '8001-16000'),('Pink Cab', '16001-24000'),\n",
    "                ('Pink Cab', '24001-32000'),('Pink Cab', '32001-40000'),\n",
    "               ('Yellow Cab', '0-8000'),('Yellow Cab', '8001-16000'),('Yellow Cab', '16001-24000'),\n",
    "                ('Yellow Cab', '24001-32000'),('Yellow Cab', '32001-40000')]\n",
    "\n",
    "pbi = profit_by_income.loc[sorted_index]\n",
    "\n",
    "pbi.loc['Yellow Cab'].plot(kind='bar', color='#e6bc02', legend=False, title='Yellow Cab', ylabel='Percent of Profit')\n",
    "pbi.loc['Pink Cab'].plot(kind='bar', color='#ff009d', legend=False, title='Pink Cab', ylabel='Percent of Profit')\n",
    "\n",
    "pbi"
   ]
  },
  {
   "cell_type": "markdown",
   "id": "d7625b1d",
   "metadata": {},
   "source": [
    "* We can see from our analysis that both companies have almost identical user income segments, the user income segments with the highest contribution to profit are the 16k-24k and then the 8k-16k income brackets, and then the users with an income of 0-8k, together these 3 give us around 86% of the profit for each company."
   ]
  },
  {
   "cell_type": "code",
   "execution_count": 71,
   "id": "a4388bdb",
   "metadata": {},
   "outputs": [],
   "source": [
    "# Saving Final dataset as CSV file\n",
    "ds_data.to_csv('Final Data.csv')"
   ]
  },
  {
   "cell_type": "markdown",
   "id": "fa162bb7",
   "metadata": {},
   "source": [
    "# Summary, Analysis and Conclusion:\n",
    "\n",
    "This analysis was conducted to determine which Cab company, Yellow or Pink, is the correct choice for investment by XYZ company.\n",
    "\n",
    "Given information:\n",
    "\n",
    "1- Cab_Data.csv – this file includes details of transaction for 2 cab companies\n",
    "\n",
    "2- Customer_ID.csv – this is a mapping table that contains a unique identifier which links the customer’s demographic details\n",
    "\n",
    "3- Transaction_ID.csv – this is a mapping table that contains transaction to customer mapping and payment mode\n",
    "\n",
    "4- City.csv – this file contains list of US cities, their population and number of cab users\n",
    "\n",
    "5- Given information is the data was collected from 2016.1.31 till 2018.12.31 - this is 3 years minus almost 1 month, but the true range of the data was from 2016.1.4 till 2nd 2019.1.2 .\n",
    "\n",
    "#### Data Preparation and Generated Features:\n",
    "After reading in the datasets:\n",
    "* Cab data was found to contain 8 duplicated entries(when we don't take Transaction IDs into account) and they were dropped.\n",
    "* In Cities data, Population and Users column had to be converted from text to int.\n",
    "* 6 features were created for the various analysis performed:\n",
    "\n",
    "    1- Profit/KM - to determine Profit per distance for each trip\n",
    "    \n",
    "    2- Cost/KM - to determine Cost per distance for each trip\n",
    "    \n",
    "    3- Users % Population - to determine the percentage of the population of each city that are registered users\n",
    "    \n",
    "    4- Age Group - to divide the age of users into 5 groups and analyze by age group.\n",
    "    \n",
    "    5- % Profit of Company Total - the percentage of profit of each trip of the total company profit\n",
    "    \n",
    "    6- Income Group - to divide the users into 5 income groups and analyze by income group.\n",
    "\n",
    "\n",
    "#### Correllation Study and Heatmap:\n",
    "We can see from the above correlation heatmap the below observations:\n",
    "\n",
    "* Cost of Trip correlates almost perfectly with the KM Travelled at 0.98, but Price Charged correlates less strongly (0.84) with the KM Travelled, which implies that that for longer trips, we have reduced profitability, and we can see this reflected by the weak correlation value of 0.46 between profit and KM Travelled and negative weak correlation of KM Travelled with 'Profit / Km' (-0). This warrants further investigation to see which company is less efficient for longer trips.\n",
    "\n",
    "* We can see that profit values have a moderate corellation (0.54) with the size of the population of a city, and a slightly weaker corellation with the number of registered Cab users in a city. We can conclude that larger cities are generally more profitable than smaller cities. We can further check which companies take are more profitable in the bigger cities.\n",
    "\n",
    "* An interesting observation is that 'Profit / Km' has a strong correlation (0.7) with the size of the population of a city and a slightly smaller but still significant correlation with the number of registered users in a city at 0.59.\n",
    "\n",
    "* We can also see that the % of registered cab users in a city is moderately negatively correlated (-0.5) with the size of the population, so we can infer that larger cities have a smaller % of their population as registerred Cab users.\n",
    "\n",
    "#### Aggregating the data by company to determine the size of each company:\n",
    "1 - We can see that both companies cover roughly an average of 22.6km per trip\n",
    "\n",
    "2 - Average charge per trip for yellow cab is 458 while average charge per trip of pink cab is 310 - which is a big difference\n",
    "\n",
    "3 - Average cost per trip was also higher for yellow cab (297) compared to average cost for pink cab of 248\n",
    "\n",
    "4 - Average profit is much higher for yellow cab at 160 vs 62 for pink cab\n",
    "\n",
    "5- Average profit per km is much greater for yellow cab at $7.1  vs  $2.7 for pink cab as expected.\n",
    "\n",
    "6 - Average cost per km is lower for pink cab at 11$ per km vs  as expected from point 3 above.\n",
    "\n",
    "* We can see from the first set of visualizations that yellow cab is much more profitable than pink cab company despite pink cab being more efficient and having lower cost per trip than yellow cab.\n",
    "\n",
    "* Yellow cab is more than twice as profitable as pink cab on average per trip and per km travelled."
   ]
  },
  {
   "attachments": {},
   "cell_type": "markdown",
   "id": "6ee24c77",
   "metadata": {},
   "source": [
    "#### Checking number of trips per company in the 3 years \n",
    "* Yellow Cab Company has more than 3 times total trips as Pink Cab.\n",
    "\n",
    "#### Checking Total profit and KM covered for each company over 3 years.\n",
    "* Yellow Cab company has conducted more than 3 times the number of trips as pink cab company with 27.4K trips for yellow cab vs 8.4K trips for pink cab.\n",
    "\n",
    "* Total km travelled for yellow cab company more than 3 times the total km covered by pink cab company, with 6,199,216 km covered by yellow cab vs 1,911,036 km for pink cab company.\n",
    "\n",
    "* Yellow cab company generated 8.29 times the profit of pink cab company over the 3 year period - with yellow cab generating 44 million dollars in profit vs 5.3 million dollars generated by pink cab company over the same period.\n",
    "\n",
    "We can see that Yellow cab company is running a much larger operation compared to pink cab company with more than 3 times the trips, 3 times the total distance covered, and 8.3 times the profit, compared to pink cab company, over a 3 year period.\n",
    "\n",
    "#### Checking payment modes and how much of each mode is utilized by each company.\n",
    "* Both companies receive roughly 40% of their payments in cash while the rest is received via card payment.\n",
    "\n",
    "\n",
    "#### Checking percentage of total users in our dataset served by each company.\n",
    "* Pink cab has served approximately 70% of the total users included in our dataset\n",
    "\n",
    "* Yellow cab has served approximately 86% of the total users included in our dataset\n",
    "\n",
    "* It must be noted that many customers used services from both companies.\n",
    "\n",
    "#### Checking how many times on average each user used both companies, as well as the maximum number of trips by a user of each:\n",
    "1- We can see from the results above that throughout the 3 year period, each pink cab customer used pink cab an average of 2.6 times. For the same 3 year period, each yellow cab customer used yellow cab 6.88 times on average.\n",
    "\n",
    "2- The maximum number of trips for pink cab by a single customer is 18 trips, while the maximum number of trips by yellow cab for a single customer is 47.\n",
    "\n",
    "* We can conclude that Yellow Cab has much higher customer loyalty and their customers use their services much more often.\n",
    "\n",
    "* We can start to make conclusions about the quality of service of yellow cab being much higher than pink cab and users prefer using yellow cab in general.\n",
    "\n",
    "#### Checking company profit by Quarter:\n",
    "* We can see that the quartery profit of Yellow Cab is always much higher than pink cab.\n",
    "\n",
    "* for quarter 2 of every year, Yellow Cab profits increase while Pink Cab profits decrease\n",
    "\n",
    "* for quarter 3 of every year Yellow Cab profits decrease while Pink Cab profits increase\n",
    "\n",
    "* The best quarter of each year for both companies' profits are Q4\n",
    "\n",
    "* the second best quarter for Yellow cab every year is Q2, while the second best quarter for Pink Cab Company is Q3.\n",
    "\n",
    "#### Checking Profit by Year\n",
    "* We can see that 2017 was the most profitable year for both companies, out of the 3 years in the dataset.\n",
    "\n",
    "* Pink Cab increased their profit by roughly 20% in 2017 compared to the previous year, but their profit decreased by roughly 23% in 2018 compared to the previous year.\n",
    "\n",
    "* Yellow Cab also increased their profit by roughly 20% in 2017 compared to previous year, but their profit decreased by roughly 18% in 2018 compared to the previous year, which is a better percentage compared to Pink Cab.\n",
    "\n",
    "#### Checking percentage profit by age group:\n",
    "* We can see that both cab companies share a very similar distribution of their profit accross their users' age groups.\n",
    "\n",
    "* The biggest age group contributing to both companyies' profits are the 26-35 age group, followed by the 18-25 age group and then by the 36-45 age group.\n",
    "\n",
    "* Users below 46 years old account for roughly 75% of the profit of both cab companies.\n",
    "\n",
    "#### Checking percentage profit by income bracket:\n",
    "\n",
    "We can see from our analysis that both companies have almost identical user income segments, the user income segments with the highest contribution to profit are the 16k-24k and then the 8k-16k income brackets, and then the users with an income of 0-8k, together these 3 give us around 86% of the profit for each company."
   ]
  }
 ],
 "metadata": {
  "kernelspec": {
   "display_name": "Python 3 (ipykernel)",
   "language": "python",
   "name": "python3"
  },
  "language_info": {
   "codemirror_mode": {
    "name": "ipython",
    "version": 3
   },
   "file_extension": ".py",
   "mimetype": "text/x-python",
   "name": "python",
   "nbconvert_exporter": "python",
   "pygments_lexer": "ipython3",
   "version": "3.9.6"
  }
 },
 "nbformat": 4,
 "nbformat_minor": 5
}
